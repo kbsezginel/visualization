{
 "cells": [
  {
   "cell_type": "code",
   "execution_count": 2,
   "metadata": {},
   "outputs": [],
   "source": [
    "import matplotlib\n",
    "import matplotlib.pyplot as plt\n",
    "from ipywidgets import interact, widgets\n",
    "from IPython.display import display\n",
    "import random\n",
    "%matplotlib inline"
   ]
  },
  {
   "cell_type": "markdown",
   "metadata": {},
   "source": [
    "## Interactive DLA"
   ]
  },
  {
   "cell_type": "markdown",
   "metadata": {},
   "source": [
    "### Using scatter plot and set of coordinates\n",
    "Create a set of coordinates using a grid size and filling ratio"
   ]
  },
  {
   "cell_type": "code",
   "execution_count": 3,
   "metadata": {
    "collapsed": true
   },
   "outputs": [],
   "source": [
    "grid_size = 50\n",
    "fill = 0.2\n",
    "\n",
    "def create_coordinates(grid_size, fill):\n",
    "    coordinates = []\n",
    "    for x in range(grid_size):\n",
    "        for y in range(grid_size):\n",
    "            if random.random() <= fill:\n",
    "                coordinates.append([x, y])\n",
    "    return coordinates"
   ]
  },
  {
   "cell_type": "markdown",
   "metadata": {},
   "source": [
    "Plot the set of coordinates according to value read from the sliders"
   ]
  },
  {
   "cell_type": "code",
   "execution_count": 4,
   "metadata": {},
   "outputs": [
    {
     "data": {
      "text/plain": [
       "<function __main__.plot>"
      ]
     },
     "execution_count": 4,
     "metadata": {},
     "output_type": "execute_result"
    },
    {
     "data": {
      "image/png": "[encoded data removed]",
      "text/plain": [
       "<matplotlib.figure.Figure at 0x7f41b3678860>"
      ]
     },
     "metadata": {},
     "output_type": "display_data"
    }
   ],
   "source": [
    "cmap = matplotlib.cm.get_cmap('viridis')\n",
    "\n",
    "def plot(grid_size, fill):\n",
    "    fig = plt.figure(figsize=(5, 5))\n",
    "    coordinates = create_coordinates(grid_size, fill)\n",
    "    for c in coordinates:\n",
    "        plt.scatter(c[0], c[1], edgecolors='white', c=cmap(fill), s=100)\n",
    "    plt.xlim(-2, 25)\n",
    "    plt.ylim(-2, 25)\n",
    "\n",
    "interact(plot, grid_size=(5, 25, 1), fill=(0.1, 1, 0.1))"
   ]
  },
  {
   "cell_type": "markdown",
   "metadata": {},
   "source": [
    "### Using imshow and grid\n",
    "Create a grid (2D array) using a grid size and filling ratio"
   ]
  },
  {
   "cell_type": "code",
   "execution_count": 5,
   "metadata": {
    "collapsed": true
   },
   "outputs": [],
   "source": [
    "def create_grid(grid_size, fill):\n",
    "    grid = [[None for i in range(grid_size)] for j in range(grid_size)]\n",
    "    for x in range(grid_size):\n",
    "        for y in range(grid_size):\n",
    "            if random.random() <= fill:\n",
    "                grid[x][y] = 1\n",
    "            else:\n",
    "                grid[x][y] = 0\n",
    "    return grid"
   ]
  },
  {
   "cell_type": "code",
   "execution_count": 6,
   "metadata": {},
   "outputs": [
    {
     "data": {
      "text/plain": [
       "<function __main__.plot>"
      ]
     },
     "execution_count": 6,
     "metadata": {},
     "output_type": "execute_result"
    },
    {
     "data": {
      "image/png": "[encoded data removed]",
      "text/plain": [
       "<matplotlib.figure.Figure at 0x7f41b1332a20>"
      ]
     },
     "metadata": {},
     "output_type": "display_data"
    }
   ],
   "source": [
    "cmap = matplotlib.cm.get_cmap('viridis')\n",
    "\n",
    "def plot(grid_size, fill):\n",
    "    fig = plt.figure(figsize=(5, 5))\n",
    "    grid = create_grid(grid_size, fill)\n",
    "    plt.xlim(-2, 25)\n",
    "    plt.ylim(-2, 25)\n",
    "    plt.imshow(grid)\n",
    "\n",
    "interact(plot, grid_size=(5, 25, 1), fill=(0.1, 1, 0.1))"
   ]
  },
  {
   "cell_type": "code",
   "execution_count": null,
   "metadata": {
    "collapsed": true
   },
   "outputs": [],
   "source": []
  }
 ],
 "metadata": {
  "kernelspec": {
   "display_name": "Python 3",
   "language": "python",
   "name": "python3"
  },
  "language_info": {
   "codemirror_mode": {
    "name": "ipython",
    "version": 3
   },
   "file_extension": ".py",
   "mimetype": "text/x-python",
   "name": "python",
   "nbconvert_exporter": "python",
   "pygments_lexer": "ipython3",
   "version": "3.5.2"
  },
  "widgets": {
   "state": {
    "89186624bb4c447f880266534c828422": {
     "views": [
      {
       "cell_index": 1
      }
     ]
    }
   },
   "version": "1.2.0"
  }
 },
 "nbformat": 4,
 "nbformat_minor": 1
}
