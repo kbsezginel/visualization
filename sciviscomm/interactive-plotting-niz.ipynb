{
 "cells": [
  {
   "cell_type": "markdown",
   "metadata": {},
   "source": [
    "## Read data from csv file\n",
    "Log order: Score, RMSD, minRMSD, Ads, Energy"
   ]
  },
  {
   "cell_type": "code",
   "execution_count": 1,
   "metadata": {
    "collapsed": true
   },
   "outputs": [],
   "source": [
    "import os, csv\n",
    "rows = []\n",
    "csvfile = os.path.join('assignment', 'niz-uptake.csv')\n",
    "with open(csvfile) as fileobj:\n",
    "    reader = csv.reader(fileobj)\n",
    "    for row in reader:\n",
    "        rows.append(row)"
   ]
  },
  {
   "cell_type": "markdown",
   "metadata": {},
   "source": [
    "### Arrange data"
   ]
  },
  {
   "cell_type": "code",
   "execution_count": 2,
   "metadata": {
    "collapsed": true
   },
   "outputs": [],
   "source": [
    "headers = ['mof', 'metal', 'niz', 'err', 'vp', 'vf', 'ro', 'sa', 'dia']\n",
    "data = {h: [i[idx] for i in rows[1:]] for idx, h in enumerate(headers)}\n",
    "# Convert numerical values to float (csvreader reads as string by default)\n",
    "keys = ['p', 'err', 'vp', 'vf', 'ro', 'sa', 'dia']\n",
    "for k in keys:\n",
    "    data[k] = [float(i) for i in data[k]]"
   ]
  },
  {
   "cell_type": "markdown",
   "metadata": {},
   "source": [
    "### Plotting the data"
   ]
  },
  {
   "cell_type": "code",
   "execution_count": 3,
   "metadata": {
    "collapsed": true
   },
   "outputs": [],
   "source": [
    "import os\n",
    "from bokeh.plotting import figure, show\n",
    "from bokeh.plotting import output_notebook\n",
    "from bokeh.models import HoverTool\n",
    "from bokeh.plotting import ColumnDataSource\n",
    "from bokeh.plotting import output_file"
   ]
  },
  {
   "cell_type": "code",
   "execution_count": 4,
   "metadata": {
    "collapsed": true
   },
   "outputs": [],
   "source": [
    "img_dir = '/home/kutay/Documents/git/visualization/sciviscomm/assignment/mofs'\n",
    "# img_dir = 'assets/img/mofs'\n",
    "data['images'] = [os.path.join(img_dir, '%s.svg' % i) for i in data['mof']]"
   ]
  },
  {
   "cell_type": "code",
   "execution_count": 8,
   "metadata": {
    "collapsed": true
   },
   "outputs": [],
   "source": [
    "hover = HoverTool(\n",
    "        tooltips=\"\"\"\n",
    "        <div>\n",
    "          <img\n",
    "              src=\"@images\" height=\"180\" alt=\"@images\" width=\"200\"\n",
    "              style=\"float: left; margin: 0px 0px 0px 0px;\"\n",
    "          ></img>\n",
    "            <div>\n",
    "                <span style=\"font-size: 17px; font-weight: bold;\">@mof</span>\n",
    "            </div>\n",
    "            <div>\n",
    "                <span style=\"font-size: 14px; font-weight: bold;\">Metal: </span>\n",
    "                <span style=\"font-size: 14px; color: #f44283;\">@metal</span>\n",
    "            </div>\n",
    "            <div>\n",
    "                <span style=\"font-size: 14px; font-weight: bold;\">V<sub>f</sub>: </span>\n",
    "                <span style=\"font-size: 14px; color: #f44283;\">@vf</span>\n",
    "            </div>\n",
    "            <div>\n",
    "                <span style=\"font-size: 14px; font-weight: bold;\">Surface Area: </span>\n",
    "                <span style=\"font-size: 14px; color: #f44283;\">@sa</span>\n",
    "            </div>\n",
    "            <div>\n",
    "                <span style=\"font-size: 14px; font-weight: bold;\">Pore diameter: </span>\n",
    "                <span style=\"font-size: 14px; color: #f44283;\">@dia</span>\n",
    "            </div>\n",
    "        </div>\n",
    "        \"\"\"\n",
    "    )"
   ]
  },
  {
   "cell_type": "code",
   "execution_count": 9,
   "metadata": {},
   "outputs": [
    {
     "data": {
      "text/html": [
       "\n",
       "\n",
       "    <div class=\"plotdiv\" id=\"8e02a6d2-2187-450d-aace-890a003b190e\"></div>\n",
       "<script type=\"text/javascript\">\n",
       "  \n",
       "  (function(global) {\n",
       "    function now() {\n",
       "      return new Date();\n",
       "    }\n",
       "  \n",
       "    if (typeof (window._bokeh_onload_callbacks) === \"undefined\") {\n",
       "      window._bokeh_onload_callbacks = [];\n",
       "    }\n",
       "  \n",
       "    function run_callbacks() {\n",
       "      window._bokeh_onload_callbacks.forEach(function(callback) { callback() });\n",
       "      delete window._bokeh_onload_callbacks\n",
       "      console.info(\"Bokeh: all callbacks have finished\");\n",
       "    }\n",
       "  \n",
       "    function load_libs(js_urls, callback) {\n",
       "      window._bokeh_onload_callbacks.push(callback);\n",
       "      if (window._bokeh_is_loading > 0) {\n",
       "        console.log(\"Bokeh: BokehJS is being loaded, scheduling callback at\", now());\n",
       "        return null;\n",
       "      }\n",
       "      if (js_urls == null || js_urls.length === 0) {\n",
       "        run_callbacks();\n",
       "        return null;\n",
       "      }\n",
       "      console.log(\"Bokeh: BokehJS not loaded, scheduling load and callback at\", now());\n",
       "      window._bokeh_is_loading = js_urls.length;\n",
       "      for (var i = 0; i < js_urls.length; i++) {\n",
       "        var url = js_urls[i];\n",
       "        var s = document.createElement('script');\n",
       "        s.src = url;\n",
       "        s.async = false;\n",
       "        s.onreadystatechange = s.onload = function() {\n",
       "          window._bokeh_is_loading--;\n",
       "          if (window._bokeh_is_loading === 0) {\n",
       "            console.log(\"Bokeh: all BokehJS libraries loaded\");\n",
       "            run_callbacks()\n",
       "          }\n",
       "        };\n",
       "        s.onerror = function() {\n",
       "          console.warn(\"failed to load library \" + url);\n",
       "        };\n",
       "        console.log(\"Bokeh: injecting script tag for BokehJS library: \", url);\n",
       "        document.getElementsByTagName(\"head\")[0].appendChild(s);\n",
       "      }\n",
       "    };var element = document.getElementById(\"8e02a6d2-2187-450d-aace-890a003b190e\");\n",
       "    if (element == null) {\n",
       "      console.log(\"Bokeh: ERROR: autoload.js configured with elementid '8e02a6d2-2187-450d-aace-890a003b190e' but no matching script tag was found. \")\n",
       "      return false;\n",
       "    }\n",
       "  \n",
       "    var js_urls = [];\n",
       "  \n",
       "    var inline_js = [\n",
       "      function(Bokeh) {\n",
       "        Bokeh.$(function() {\n",
       "            var docs_json = {\"acf63eed-4c9c-47a5-81db-6fd6775f4ad2\":{\"roots\":{\"references\":[{\"attributes\":{},\"id\":\"6bd11af5-1a35-42fe-b374-9a8845c05b87\",\"type\":\"BasicTickFormatter\"},{\"attributes\":{\"below\":[{\"id\":\"291126c5-b5b2-4110-b01a-3e3f955caf76\",\"type\":\"LinearAxis\"}],\"left\":[{\"id\":\"9818aab3-f3ee-4701-89ee-884f2d9808cb\",\"type\":\"LinearAxis\"}],\"plot_width\":1000,\"renderers\":[{\"id\":\"291126c5-b5b2-4110-b01a-3e3f955caf76\",\"type\":\"LinearAxis\"},{\"id\":\"043dad77-06c3-4532-b25c-23a867775341\",\"type\":\"Grid\"},{\"id\":\"9818aab3-f3ee-4701-89ee-884f2d9808cb\",\"type\":\"LinearAxis\"},{\"id\":\"48aaaa0f-c41d-4a74-bb50-1a9e562b7e87\",\"type\":\"Grid\"},{\"id\":\"0c7345f0-62ae-48ce-959a-e9b7494525e7\",\"type\":\"BoxAnnotation\"},{\"id\":\"21294c63-6d29-4660-b6e8-603d7e4414eb\",\"type\":\"GlyphRenderer\"}],\"title\":\"Pyrazinamide Uptake (g NIZ/ g MOF)\",\"tool_events\":{\"id\":\"94ee6a83-e2be-4aee-b841-6496acea4cbd\",\"type\":\"ToolEvents\"},\"toolbar_location\":\"right\",\"tools\":[{\"id\":\"32ae4b79-c30b-49e2-b2f9-c25193f26d63\",\"type\":\"HoverTool\"},{\"id\":\"6469993d-eef5-47e1-bbde-703f595f87b8\",\"type\":\"PanTool\"},{\"id\":\"770caec4-9b34-4388-90f1-eff5e8018d53\",\"type\":\"WheelZoomTool\"},{\"id\":\"c5afeee5-0386-4e77-99fb-356ee376bfc7\",\"type\":\"BoxZoomTool\"},{\"id\":\"8ca213ac-7085-48ef-ac99-977df0ca4831\",\"type\":\"ResetTool\"},{\"id\":\"cc84e3f5-28cc-4833-a646-fb75aee52b3f\",\"type\":\"TapTool\"}],\"x_range\":{\"id\":\"a6ceddd1-18f2-44a6-951f-998a2de5a855\",\"type\":\"DataRange1d\"},\"y_range\":{\"id\":\"9efe997d-114f-4edd-a621-1c2fe8d7e83c\",\"type\":\"DataRange1d\"}},\"id\":\"65868922-1c3c-4e31-960a-66ca2a0c7f48\",\"subtype\":\"Figure\",\"type\":\"Plot\"},{\"attributes\":{\"bottom_units\":\"screen\",\"fill_alpha\":{\"value\":0.5},\"fill_color\":{\"value\":\"lightgrey\"},\"left_units\":\"screen\",\"level\":\"overlay\",\"line_alpha\":{\"value\":1.0},\"line_color\":{\"value\":\"black\"},\"line_dash\":[4,4],\"line_width\":{\"value\":2},\"plot\":null,\"render_mode\":\"css\",\"right_units\":\"screen\",\"top_units\":\"screen\"},\"id\":\"0c7345f0-62ae-48ce-959a-e9b7494525e7\",\"type\":\"BoxAnnotation\"},{\"attributes\":{\"data_source\":{\"id\":\"5bf1e29c-da67-49e7-a912-34d3f03872d7\",\"type\":\"ColumnDataSource\"},\"glyph\":{\"id\":\"782605a1-2c98-4d13-9180-200ef9a763d2\",\"type\":\"Circle\"},\"hover_glyph\":null,\"nonselection_glyph\":{\"id\":\"1179be02-2ec5-4946-a9cb-870fcfed1d8a\",\"type\":\"Circle\"},\"selection_glyph\":{\"id\":\"7584530a-581a-4d19-b8fe-c7ea1a70823e\",\"type\":\"Circle\"}},\"id\":\"7e5bc283-9d2b-4b9e-8ed3-8a93e7d4307e\",\"type\":\"GlyphRenderer\"},{\"attributes\":{},\"id\":\"b6943548-c27f-44fb-b10d-ea45fbcee544\",\"type\":\"ToolEvents\"},{\"attributes\":{\"axis_label\":\"Pyrazinamide uptake (g PZA/ g MOF)\",\"formatter\":{\"id\":\"b35ce43e-ea09-4d02-863e-4a54dca58ddf\",\"type\":\"BasicTickFormatter\"},\"plot\":{\"id\":\"b9a79f39-9285-4fb8-a682-3df45cc0bd28\",\"subtype\":\"Figure\",\"type\":\"Plot\"},\"ticker\":{\"id\":\"efde9acf-0543-4106-9fa3-2ca14aeccf6c\",\"type\":\"BasicTicker\"}},\"id\":\"ad7d9d2d-b87e-457d-981b-781593dd6b0a\",\"type\":\"LinearAxis\"},{\"attributes\":{\"axis_label\":\"Pore Volume (cm\\u00b3/g)\",\"formatter\":{\"id\":\"a909319e-af79-42cf-a50c-c0acd78db50e\",\"type\":\"BasicTickFormatter\"},\"plot\":{\"id\":\"65868922-1c3c-4e31-960a-66ca2a0c7f48\",\"subtype\":\"Figure\",\"type\":\"Plot\"},\"ticker\":{\"id\":\"dc1ed355-a0ae-4213-840e-454f1f92384c\",\"type\":\"BasicTicker\"}},\"id\":\"291126c5-b5b2-4110-b01a-3e3f955caf76\",\"type\":\"LinearAxis\"},{\"attributes\":{\"below\":[{\"id\":\"3db9c429-a32d-4b30-b291-22da9a51d443\",\"type\":\"LinearAxis\"}],\"left\":[{\"id\":\"ad7d9d2d-b87e-457d-981b-781593dd6b0a\",\"type\":\"LinearAxis\"}],\"plot_width\":1000,\"renderers\":[{\"id\":\"3db9c429-a32d-4b30-b291-22da9a51d443\",\"type\":\"LinearAxis\"},{\"id\":\"4880b11e-7969-4757-9ebb-ed8810b2165e\",\"type\":\"Grid\"},{\"id\":\"ad7d9d2d-b87e-457d-981b-781593dd6b0a\",\"type\":\"LinearAxis\"},{\"id\":\"c1e65f25-36af-4338-9f23-a3038576ecc5\",\"type\":\"Grid\"},{\"id\":\"9421c7aa-b516-44a2-b584-b31759013dac\",\"type\":\"BoxAnnotation\"},{\"id\":\"7e5bc283-9d2b-4b9e-8ed3-8a93e7d4307e\",\"type\":\"GlyphRenderer\"}],\"title\":\"Pyrazinamide Uptake (g NIZ/ g MOF)\",\"tool_events\":{\"id\":\"b6943548-c27f-44fb-b10d-ea45fbcee544\",\"type\":\"ToolEvents\"},\"toolbar_location\":\"right\",\"tools\":[{\"id\":\"495af430-3dd8-45de-b032-72c1705dd42d\",\"type\":\"HoverTool\"},{\"id\":\"cd514afa-e728-4d8e-9119-9f1053430668\",\"type\":\"PanTool\"},{\"id\":\"e7518f6e-8075-4053-b0fc-694367d40c72\",\"type\":\"WheelZoomTool\"},{\"id\":\"faddcc53-7de6-46a9-b180-c927634ad772\",\"type\":\"BoxZoomTool\"},{\"id\":\"ac43873f-6359-44df-89db-cac5326ce661\",\"type\":\"ResetTool\"},{\"id\":\"b9406685-89a1-4928-b4a2-ca287ec0060e\",\"type\":\"TapTool\"}],\"x_range\":{\"id\":\"bc72759d-3e8d-4bf0-b41e-25788697c2a4\",\"type\":\"DataRange1d\"},\"y_range\":{\"id\":\"ea761607-d8b9-473f-ba7b-986515e4c75a\",\"type\":\"DataRange1d\"}},\"id\":\"b9a79f39-9285-4fb8-a682-3df45cc0bd28\",\"subtype\":\"Figure\",\"type\":\"Plot\"},{\"attributes\":{\"fill_alpha\":{\"value\":0.5},\"fill_color\":{\"value\":\"salmon\"},\"line_color\":{\"value\":\"darkred\"},\"size\":{\"units\":\"screen\",\"value\":18},\"x\":{\"field\":\"vp\"},\"y\":{\"field\":\"niz\"}},\"id\":\"1eb7d8b6-65e6-4be4-91fa-e6beda9c0175\",\"type\":\"Circle\"},{\"attributes\":{},\"id\":\"d600dc89-fc55-423d-9a53-f9dfe73f3722\",\"type\":\"BasicTicker\"},{\"attributes\":{\"plot\":{\"id\":\"b9a79f39-9285-4fb8-a682-3df45cc0bd28\",\"subtype\":\"Figure\",\"type\":\"Plot\"}},\"id\":\"ac43873f-6359-44df-89db-cac5326ce661\",\"type\":\"ResetTool\"},{\"attributes\":{\"callback\":null},\"id\":\"9efe997d-114f-4edd-a621-1c2fe8d7e83c\",\"type\":\"DataRange1d\"},{\"attributes\":{\"dimension\":1,\"grid_line_alpha\":{\"value\":0.2},\"plot\":{\"id\":\"65868922-1c3c-4e31-960a-66ca2a0c7f48\",\"subtype\":\"Figure\",\"type\":\"Plot\"},\"ticker\":{\"id\":\"d600dc89-fc55-423d-9a53-f9dfe73f3722\",\"type\":\"BasicTicker\"}},\"id\":\"48aaaa0f-c41d-4a74-bb50-1a9e562b7e87\",\"type\":\"Grid\"},{\"attributes\":{\"callback\":null,\"plot\":{\"id\":\"b9a79f39-9285-4fb8-a682-3df45cc0bd28\",\"subtype\":\"Figure\",\"type\":\"Plot\"},\"tooltips\":\"\\n        <div>\\n          <img\\n              src=\\\"@images\\\" height=\\\"180\\\" alt=\\\"@images\\\" width=\\\"200\\\"\\n              style=\\\"float: left; margin: 0px 0px 0px 0px;\\\"\\n          ></img>\\n            <div>\\n                <span style=\\\"font-size: 17px; font-weight: bold;\\\">@mof</span>\\n            </div>\\n            <div>\\n                <span style=\\\"font-size: 14px; font-weight: bold;\\\">Metal: </span>\\n                <span style=\\\"font-size: 14px; color: #f44283;\\\">@metal</span>\\n            </div>\\n            <div>\\n                <span style=\\\"font-size: 14px; font-weight: bold;\\\">V<sub>f</sub>: </span>\\n                <span style=\\\"font-size: 14px; color: #f44283;\\\">@vf</span>\\n            </div>\\n            <div>\\n                <span style=\\\"font-size: 14px; font-weight: bold;\\\">Surface Area: </span>\\n                <span style=\\\"font-size: 14px; color: #f44283;\\\">@sa</span>\\n            </div>\\n            <div>\\n                <span style=\\\"font-size: 14px; font-weight: bold;\\\">Pore diameter: </span>\\n                <span style=\\\"font-size: 14px; color: #f44283;\\\">@dia</span>\\n            </div>\\n        </div>\\n        \"},\"id\":\"495af430-3dd8-45de-b032-72c1705dd42d\",\"type\":\"HoverTool\"},{\"attributes\":{\"callback\":null},\"id\":\"bc72759d-3e8d-4bf0-b41e-25788697c2a4\",\"type\":\"DataRange1d\"},{\"attributes\":{\"overlay\":{\"id\":\"9421c7aa-b516-44a2-b584-b31759013dac\",\"type\":\"BoxAnnotation\"},\"plot\":{\"id\":\"b9a79f39-9285-4fb8-a682-3df45cc0bd28\",\"subtype\":\"Figure\",\"type\":\"Plot\"}},\"id\":\"faddcc53-7de6-46a9-b180-c927634ad772\",\"type\":\"BoxZoomTool\"},{\"attributes\":{\"plot\":{\"id\":\"65868922-1c3c-4e31-960a-66ca2a0c7f48\",\"subtype\":\"Figure\",\"type\":\"Plot\"}},\"id\":\"6469993d-eef5-47e1-bbde-703f595f87b8\",\"type\":\"PanTool\"},{\"attributes\":{\"callback\":null,\"column_names\":[\"pza\",\"vf\",\"dia\",\"vp\",\"mof\",\"images\",\"ro\",\"err\",\"metal\",\"sa\"],\"data\":{\"dia\":[10.36311,9.1752,22.37295,7.14137,11.16014,8.78853,42.79816,5.76863,13.64671,34.85961,13.47664,13.20026,11.74533,12.29446,9.45537,6.65732,11.10741,28.4313,8.66462,17.27048,18.49076,7.04953,7.3374,14.22736,11.51198,12.81022,12.05622,20.8996,6.51014,14.99321,16.53276,10.07922,22.82164,7.09926,10.32219,14.01454,16.48295,24.95668,25.71531,15.61444,12.9835,26.33515,12.33039,10.79495,11.92678,9.02799,8.32489,9.82615,14.87522,17.62142],\"err\":[0.0104826129905585,0.0238344881058178,0.043132306373591,0.0305528329039973,0.000287968905222611,0.0146480493078838,0.115565265346115,0.0324573622342123,0.0242846948545756,0.0573449197908342,0.0258659385586139,0.0223288929280481,0.0226391628347225,0.00971081057834737,0.0177916469173327,0.0114154924459184,0.0104826129905585,0.047441695473191,0.0268835739792369,0.0522060123967141,0.0513285203646003,0.0375960402487069,0.0254138637123095,0.010412694719949,0.0231684377412888,0.042608060086588,0.0300342367877019,0.0329482981764756,0.0211980374063153,0.0213750405926711,0.0407973979138124,0.0192334596736883,0.0628944972256994,0.0339037848565956,0.0189667334525236,0.0376518735406141,0.0176797817303277,0.0718574441770118,0.0594848326592048,0.0336602913067749,0.0211023570438595,0.044718150441601,0.00978070897135547,0.0222406600619765,0.0260206875929001,0.0139935235980141,0.0125199622854848,0.0228752960332358,0.0601809136051726,0.0110613220871807],\"images\":[\"/home/kutay/Documents/git/visualization/sciviscomm/assignment/mofs/BEPNOB.svg\",\"/home/kutay/Documents/git/visualization/sciviscomm/assignment/mofs/SEVLEM.svg\",\"/home/kutay/Documents/git/visualization/sciviscomm/assignment/mofs/LURRIA.svg\",\"/home/kutay/Documents/git/visualization/sciviscomm/assignment/mofs/VEMMEG.svg\",\"/home/kutay/Documents/git/visualization/sciviscomm/assignment/mofs/FUNBEW.svg\",\"/home/kutay/Documents/git/visualization/sciviscomm/assignment/mofs/LOWQIX.svg\",\"/home/kutay/Documents/git/visualization/sciviscomm/assignment/mofs/BAZGAM.svg\",\"/home/kutay/Documents/git/visualization/sciviscomm/assignment/mofs/OSAVUA.svg\",\"/home/kutay/Documents/git/visualization/sciviscomm/assignment/mofs/GUPCAW.svg\",\"/home/kutay/Documents/git/visualization/sciviscomm/assignment/mofs/RAVXAP.svg\",\"/home/kutay/Documents/git/visualization/sciviscomm/assignment/mofs/CAXTUS.svg\",\"/home/kutay/Documents/git/visualization/sciviscomm/assignment/mofs/SONVEX.svg\",\"/home/kutay/Documents/git/visualization/sciviscomm/assignment/mofs/WEHJOK.svg\",\"/home/kutay/Documents/git/visualization/sciviscomm/assignment/mofs/MOXPUL.svg\",\"/home/kutay/Documents/git/visualization/sciviscomm/assignment/mofs/REGRAY.svg\",\"/home/kutay/Documents/git/visualization/sciviscomm/assignment/mofs/QAQRUW.svg\",\"/home/kutay/Documents/git/visualization/sciviscomm/assignment/mofs/MIDCAF.svg\",\"/home/kutay/Documents/git/visualization/sciviscomm/assignment/mofs/HEXVEM.svg\",\"/home/kutay/Documents/git/visualization/sciviscomm/assignment/mofs/EQERAU.svg\",\"/home/kutay/Documents/git/visualization/sciviscomm/assignment/mofs/VEBHUG.svg\",\"/home/kutay/Documents/git/visualization/sciviscomm/assignment/mofs/EHIJAH.svg\",\"/home/kutay/Documents/git/visualization/sciviscomm/assignment/mofs/AGAXOV.svg\",\"/home/kutay/Documents/git/visualization/sciviscomm/assignment/mofs/UXUPIN.svg\",\"/home/kutay/Documents/git/visualization/sciviscomm/assignment/mofs/IYUQEZ.svg\",\"/home/kutay/Documents/git/visualization/sciviscomm/assignment/mofs/FAYPIG.svg\",\"/home/kutay/Documents/git/visualization/sciviscomm/assignment/mofs/LEVDIB.svg\",\"/home/kutay/Documents/git/visualization/sciviscomm/assignment/mofs/LUYHAP.svg\",\"/home/kutay/Documents/git/visualization/sciviscomm/assignment/mofs/VETSOE.svg\",\"/home/kutay/Documents/git/visualization/sciviscomm/assignment/mofs/UYOXUC.svg\",\"/home/kutay/Documents/git/visualization/sciviscomm/assignment/mofs/UTEWUM.svg\",\"/home/kutay/Documents/git/visualization/sciviscomm/assignment/mofs/XALXUF.svg\",\"/home/kutay/Documents/git/visualization/sciviscomm/assignment/mofs/TEDHAN.svg\",\"/home/kutay/Documents/git/visualization/sciviscomm/assignment/mofs/ADASAB.svg\",\"/home/kutay/Documents/git/visualization/sciviscomm/assignment/mofs/IMIXEI.svg\",\"/home/kutay/Documents/git/visualization/sciviscomm/assignment/mofs/BEPNIV.svg\",\"/home/kutay/Documents/git/visualization/sciviscomm/assignment/mofs/VEMMIK.svg\",\"/home/kutay/Documents/git/visualization/sciviscomm/assignment/mofs/QAGQEW.svg\",\"/home/kutay/Documents/git/visualization/sciviscomm/assignment/mofs/LEHXUT.svg\",\"/home/kutay/Documents/git/visualization/sciviscomm/assignment/mofs/HABQUY.svg\",\"/home/kutay/Documents/git/visualization/sciviscomm/assignment/mofs/KOJZEP.svg\",\"/home/kutay/Documents/git/visualization/sciviscomm/assignment/mofs/TADWEC.svg\",\"/home/kutay/Documents/git/visualization/sciviscomm/assignment/mofs/ADATAC.svg\",\"/home/kutay/Documents/git/visualization/sciviscomm/assignment/mofs/ECAHAT.svg\",\"/home/kutay/Documents/git/visualization/sciviscomm/assignment/mofs/DAKVUI.svg\",\"/home/kutay/Documents/git/visualization/sciviscomm/assignment/mofs/ALAMUW.svg\",\"/home/kutay/Documents/git/visualization/sciviscomm/assignment/mofs/CAGSAG.svg\",\"/home/kutay/Documents/git/visualization/sciviscomm/assignment/mofs/PARNIH.svg\",\"/home/kutay/Documents/git/visualization/sciviscomm/assignment/mofs/SUPLOF.svg\",\"/home/kutay/Documents/git/visualization/sciviscomm/assignment/mofs/SUNLET.svg\",\"/home/kutay/Documents/git/visualization/sciviscomm/assignment/mofs/BOXFAW.svg\"],\"metal\":[\"Zn\",\"Cd\",\"Cu\",\"Mn\",\"Zn\",\"Zn\",\"Cu\",\"Ca\",\"Cd\",\"Mg\",\"Zn\",\"Cu\",\"Zn\",\"Cu\",\"Zn\",\"Mg\",\"Zn\",\"Cu\",\"Mg\",\"Zn\",\"Zn\",\"Cu\",\"Cu\",\"Na\",\"Zn\",\"Cu\",\"Cu\",\"Mn\",\"Cd\",\"Cu\",\"Cu\",\"Zn\",\"Cu\",\"Cu\",\"Zn\",\"Mn\",\"Cd\",\"Cu\",\"Cu\",\"Cu\",\"Zn\",\"Zn\",\"Zn\",\"Cu\",\"Cu\",\"Zn\",\"Cu\",\"Zn\",\"Cu\",\"Cd\"],\"mof\":[\"BEPNOB\",\"SEVLEM\",\"LURRIA\",\"VEMMEG\",\"FUNBEW\",\"LOWQIX\",\"BAZGAM\",\"OSAVUA\",\"GUPCAW\",\"RAVXAP\",\"CAXTUS\",\"SONVEX\",\"WEHJOK\",\"MOXPUL\",\"REGRAY\",\"QAQRUW\",\"MIDCAF\",\"HEXVEM\",\"EQERAU\",\"VEBHUG\",\"EHIJAH\",\"AGAXOV\",\"UXUPIN\",\"IYUQEZ\",\"FAYPIG\",\"LEVDIB\",\"LUYHAP\",\"VETSOE\",\"UYOXUC\",\"UTEWUM\",\"XALXUF\",\"TEDHAN\",\"ADASAB\",\"IMIXEI\",\"BEPNIV\",\"VEMMIK\",\"QAGQEW\",\"LEHXUT\",\"HABQUY\",\"KOJZEP\",\"TADWEC\",\"ADATAC\",\"ECAHAT\",\"DAKVUI\",\"ALAMUW\",\"CAGSAG\",\"PARNIH\",\"SUPLOF\",\"SUNLET\",\"BOXFAW\"],\"pza\":[0.279373695981009,0.295777957821231,0.646786464428439,0.330071142705964,0.451433573161576,0.362024439750679,0.875972127455005,0.270608683419161,0.375525378574048,0.719743890086505,0.408292839983411,0.359151453758449,0.409081640029935,0.392441741972309,0.345868446447462,0.274481812519752,0.338186142045767,0.765335809289458,0.307508194248124,0.616588994761839,0.653103916953543,0.341014184891298,0.362725674275619,0.406438146642359,0.389593933565014,0.391987910053973,0.495751248838048,0.51763008952597,0.332815979108943,0.424568757663849,0.392139561503344,0.325471165207687,0.688170076055475,0.351680668640449,0.288966720117222,0.438210566978354,0.364992421944116,0.640735394675267,0.727201274669788,0.545300253227284,0.35584560558965,0.694335788253178,0.26437959235048,0.355113657557157,0.484344338410484,0.282095414817342,0.32225543857595,0.34536305180426,0.454616828199698,0.344192153052767],\"ro\":[0.890303,0.963135,0.406542,0.816125,0.668714,0.895525,0.126526,0.884314,0.814725,0.286105,0.710309,0.879921,0.778372,0.744524,0.925798,0.851853,0.853326,0.251734,0.830188,0.44999,0.385139,0.887006,0.669934,0.637403,0.74228,0.771367,0.618537,0.550125,0.877846,0.736094,0.78852,0.899209,0.343942,0.807372,0.893387,0.723031,0.959417,0.407171,0.289452,0.514247,0.782876,0.33727,0.854274,0.825495,0.64997,0.961699,0.861017,0.800346,0.621573,0.792268],\"sa\":[1362.53,1977.87,4585.5,2386.0,2873.69,2319.22,6580.94,1693.12,2164.03,3359.89,2001.1,2185.88,2748.57,1996.71,2251.23,1914.09,1789.96,5455.15,1926.96,4301.87,4502.81,2760.67,3053.24,1782.51,2207.71,2349.87,3546.24,2071.29,2486.4,1751.85,2224.0,2086.42,4800.23,2853.16,1380.95,2177.31,1245.47,4559.86,5749.51,4618.56,1784.95,5145.19,1178.64,2204.41,3572.24,1828.26,2133.83,2397.66,2439.72,1380.16],\"vf\":[0.552322,0.616038,0.915523,0.676135,0.775226,0.719095,0.965423,0.631428,0.665381,0.830307,0.701855,0.764375,0.789517,0.628988,0.734965,0.621669,0.631693,0.929757,0.658331,0.87262,0.882653,0.736793,0.708814,0.633982,0.681186,0.716033,0.829954,0.785963,0.73285,0.808081,0.773946,0.651283,0.883535,0.704498,0.551412,0.740464,0.779788,0.875299,0.913288,0.784148,0.636841,0.904943,0.534409,0.764114,0.82677,0.649731,0.608898,0.679576,0.71155,0.582066],\"vp\":[0.737821,0.695704,2.07895,0.829459,1.12321,0.8088,7.45792,0.719324,0.902278,2.96442,0.98562,0.820698,0.952685,0.917195,0.76591,0.728742,0.783321,3.58247,0.766998,1.88786,2.20576,0.807567,1.05586,1.06102,0.948183,0.911042,1.26158,1.37835,0.784599,0.990326,0.921768,0.797797,2.52819,0.88786,0.734152,1.02901,0.738525,2.06184,3.04394,1.54347,0.848142,2.57212,0.717924,0.863934,1.1764,0.688087,0.758879,0.846158,1.18052,0.836646]}},\"id\":\"2a651338-ecb0-4ca3-9a6b-f9fb5fdad57a\",\"type\":\"ColumnDataSource\"},{\"attributes\":{\"fill_alpha\":{\"value\":0.5},\"fill_color\":{\"value\":\"salmon\"},\"line_color\":{\"value\":\"darkred\"},\"size\":{\"units\":\"screen\",\"value\":18},\"x\":{\"field\":\"vp\"},\"y\":{\"field\":\"niz\"}},\"id\":\"1179be02-2ec5-4946-a9cb-870fcfed1d8a\",\"type\":\"Circle\"},{\"attributes\":{\"callback\":null},\"id\":\"a6ceddd1-18f2-44a6-951f-998a2de5a855\",\"type\":\"DataRange1d\"},{\"attributes\":{},\"id\":\"94ee6a83-e2be-4aee-b841-6496acea4cbd\",\"type\":\"ToolEvents\"},{\"attributes\":{},\"id\":\"dc1ed355-a0ae-4213-840e-454f1f92384c\",\"type\":\"BasicTicker\"},{\"attributes\":{\"data_source\":{\"id\":\"2a651338-ecb0-4ca3-9a6b-f9fb5fdad57a\",\"type\":\"ColumnDataSource\"},\"glyph\":{\"id\":\"66b8b4fd-ab46-4056-aa67-c73e703d1c15\",\"type\":\"Circle\"},\"hover_glyph\":null,\"nonselection_glyph\":{\"id\":\"1eb7d8b6-65e6-4be4-91fa-e6beda9c0175\",\"type\":\"Circle\"},\"selection_glyph\":{\"id\":\"f102fe48-5bd5-4540-b55a-f3e3257fdd00\",\"type\":\"Circle\"}},\"id\":\"21294c63-6d29-4660-b6e8-603d7e4414eb\",\"type\":\"GlyphRenderer\"},{\"attributes\":{\"callback\":null,\"plot\":{\"id\":\"65868922-1c3c-4e31-960a-66ca2a0c7f48\",\"subtype\":\"Figure\",\"type\":\"Plot\"},\"tooltips\":\"\\n        <div>\\n          <img\\n              src=\\\"@images\\\" height=\\\"180\\\" alt=\\\"@images\\\" width=\\\"200\\\"\\n              style=\\\"float: left; margin: 0px 0px 0px 0px;\\\"\\n          ></img>\\n            <div>\\n                <span style=\\\"font-size: 17px; font-weight: bold;\\\">@mof</span>\\n            </div>\\n            <div>\\n                <span style=\\\"font-size: 14px; font-weight: bold;\\\">Metal: </span>\\n                <span style=\\\"font-size: 14px; color: #f44283;\\\">@metal</span>\\n            </div>\\n            <div>\\n                <span style=\\\"font-size: 14px; font-weight: bold;\\\">V<sub>f</sub>: </span>\\n                <span style=\\\"font-size: 14px; color: #f44283;\\\">@vf</span>\\n            </div>\\n            <div>\\n                <span style=\\\"font-size: 14px; font-weight: bold;\\\">Surface Area: </span>\\n                <span style=\\\"font-size: 14px; color: #f44283;\\\">@sa</span>\\n            </div>\\n            <div>\\n                <span style=\\\"font-size: 14px; font-weight: bold;\\\">Pore diameter: </span>\\n                <span style=\\\"font-size: 14px; color: #f44283;\\\">@dia</span>\\n            </div>\\n        </div>\\n        \"},\"id\":\"32ae4b79-c30b-49e2-b2f9-c25193f26d63\",\"type\":\"HoverTool\"},{\"attributes\":{\"axis_label\":\"Pyrazinamide uptake (g PZA/ g MOF)\",\"formatter\":{\"id\":\"6bd11af5-1a35-42fe-b374-9a8845c05b87\",\"type\":\"BasicTickFormatter\"},\"plot\":{\"id\":\"65868922-1c3c-4e31-960a-66ca2a0c7f48\",\"subtype\":\"Figure\",\"type\":\"Plot\"},\"ticker\":{\"id\":\"d600dc89-fc55-423d-9a53-f9dfe73f3722\",\"type\":\"BasicTicker\"}},\"id\":\"9818aab3-f3ee-4701-89ee-884f2d9808cb\",\"type\":\"LinearAxis\"},{\"attributes\":{\"fill_alpha\":{\"value\":0.5},\"fill_color\":{\"value\":\"salmon\"},\"line_color\":{\"value\":\"darkred\"},\"size\":{\"units\":\"screen\",\"value\":18},\"x\":{\"field\":\"vp\"},\"y\":{\"field\":\"niz\"}},\"id\":\"782605a1-2c98-4d13-9180-200ef9a763d2\",\"type\":\"Circle\"},{\"attributes\":{},\"id\":\"0da0998f-eb4a-4989-b8fe-1187bbe5f23d\",\"type\":\"BasicTicker\"},{\"attributes\":{},\"id\":\"af07f6b8-25cc-45aa-9631-87eb5bb70590\",\"type\":\"BasicTickFormatter\"},{\"attributes\":{\"fill_alpha\":{\"value\":0.5},\"fill_color\":{\"value\":\"salmon\"},\"line_color\":{\"value\":\"darkred\"},\"size\":{\"units\":\"screen\",\"value\":18},\"x\":{\"field\":\"vp\"},\"y\":{\"field\":\"niz\"}},\"id\":\"66b8b4fd-ab46-4056-aa67-c73e703d1c15\",\"type\":\"Circle\"},{\"attributes\":{\"grid_line_color\":{\"value\":null},\"plot\":{\"id\":\"b9a79f39-9285-4fb8-a682-3df45cc0bd28\",\"subtype\":\"Figure\",\"type\":\"Plot\"},\"ticker\":{\"id\":\"0da0998f-eb4a-4989-b8fe-1187bbe5f23d\",\"type\":\"BasicTicker\"}},\"id\":\"4880b11e-7969-4757-9ebb-ed8810b2165e\",\"type\":\"Grid\"},{\"attributes\":{\"bottom_units\":\"screen\",\"fill_alpha\":{\"value\":0.5},\"fill_color\":{\"value\":\"lightgrey\"},\"left_units\":\"screen\",\"level\":\"overlay\",\"line_alpha\":{\"value\":1.0},\"line_color\":{\"value\":\"black\"},\"line_dash\":[4,4],\"line_width\":{\"value\":2},\"plot\":null,\"render_mode\":\"css\",\"right_units\":\"screen\",\"top_units\":\"screen\"},\"id\":\"9421c7aa-b516-44a2-b584-b31759013dac\",\"type\":\"BoxAnnotation\"},{\"attributes\":{\"callback\":null,\"column_names\":[\"pza\",\"vf\",\"dia\",\"vp\",\"mof\",\"images\",\"ro\",\"err\",\"metal\",\"sa\"],\"data\":{\"dia\":[10.36311,9.1752,22.37295,7.14137,11.16014,8.78853,42.79816,5.76863,13.64671,34.85961,13.47664,13.20026,11.74533,12.29446,9.45537,6.65732,11.10741,28.4313,8.66462,17.27048,18.49076,7.04953,7.3374,14.22736,11.51198,12.81022,12.05622,20.8996,6.51014,14.99321,16.53276,10.07922,22.82164,7.09926,10.32219,14.01454,16.48295,24.95668,25.71531,15.61444,12.9835,26.33515,12.33039,10.79495,11.92678,9.02799,8.32489,9.82615,14.87522,17.62142],\"err\":[0.0104826129905585,0.0238344881058178,0.043132306373591,0.0305528329039973,0.000287968905222611,0.0146480493078838,0.115565265346115,0.0324573622342123,0.0242846948545756,0.0573449197908342,0.0258659385586139,0.0223288929280481,0.0226391628347225,0.00971081057834737,0.0177916469173327,0.0114154924459184,0.0104826129905585,0.047441695473191,0.0268835739792369,0.0522060123967141,0.0513285203646003,0.0375960402487069,0.0254138637123095,0.010412694719949,0.0231684377412888,0.042608060086588,0.0300342367877019,0.0329482981764756,0.0211980374063153,0.0213750405926711,0.0407973979138124,0.0192334596736883,0.0628944972256994,0.0339037848565956,0.0189667334525236,0.0376518735406141,0.0176797817303277,0.0718574441770118,0.0594848326592048,0.0336602913067749,0.0211023570438595,0.044718150441601,0.00978070897135547,0.0222406600619765,0.0260206875929001,0.0139935235980141,0.0125199622854848,0.0228752960332358,0.0601809136051726,0.0110613220871807],\"images\":[\"/home/kutay/Documents/git/visualization/sciviscomm/assignment/mofs/BEPNOB.svg\",\"/home/kutay/Documents/git/visualization/sciviscomm/assignment/mofs/SEVLEM.svg\",\"/home/kutay/Documents/git/visualization/sciviscomm/assignment/mofs/LURRIA.svg\",\"/home/kutay/Documents/git/visualization/sciviscomm/assignment/mofs/VEMMEG.svg\",\"/home/kutay/Documents/git/visualization/sciviscomm/assignment/mofs/FUNBEW.svg\",\"/home/kutay/Documents/git/visualization/sciviscomm/assignment/mofs/LOWQIX.svg\",\"/home/kutay/Documents/git/visualization/sciviscomm/assignment/mofs/BAZGAM.svg\",\"/home/kutay/Documents/git/visualization/sciviscomm/assignment/mofs/OSAVUA.svg\",\"/home/kutay/Documents/git/visualization/sciviscomm/assignment/mofs/GUPCAW.svg\",\"/home/kutay/Documents/git/visualization/sciviscomm/assignment/mofs/RAVXAP.svg\",\"/home/kutay/Documents/git/visualization/sciviscomm/assignment/mofs/CAXTUS.svg\",\"/home/kutay/Documents/git/visualization/sciviscomm/assignment/mofs/SONVEX.svg\",\"/home/kutay/Documents/git/visualization/sciviscomm/assignment/mofs/WEHJOK.svg\",\"/home/kutay/Documents/git/visualization/sciviscomm/assignment/mofs/MOXPUL.svg\",\"/home/kutay/Documents/git/visualization/sciviscomm/assignment/mofs/REGRAY.svg\",\"/home/kutay/Documents/git/visualization/sciviscomm/assignment/mofs/QAQRUW.svg\",\"/home/kutay/Documents/git/visualization/sciviscomm/assignment/mofs/MIDCAF.svg\",\"/home/kutay/Documents/git/visualization/sciviscomm/assignment/mofs/HEXVEM.svg\",\"/home/kutay/Documents/git/visualization/sciviscomm/assignment/mofs/EQERAU.svg\",\"/home/kutay/Documents/git/visualization/sciviscomm/assignment/mofs/VEBHUG.svg\",\"/home/kutay/Documents/git/visualization/sciviscomm/assignment/mofs/EHIJAH.svg\",\"/home/kutay/Documents/git/visualization/sciviscomm/assignment/mofs/AGAXOV.svg\",\"/home/kutay/Documents/git/visualization/sciviscomm/assignment/mofs/UXUPIN.svg\",\"/home/kutay/Documents/git/visualization/sciviscomm/assignment/mofs/IYUQEZ.svg\",\"/home/kutay/Documents/git/visualization/sciviscomm/assignment/mofs/FAYPIG.svg\",\"/home/kutay/Documents/git/visualization/sciviscomm/assignment/mofs/LEVDIB.svg\",\"/home/kutay/Documents/git/visualization/sciviscomm/assignment/mofs/LUYHAP.svg\",\"/home/kutay/Documents/git/visualization/sciviscomm/assignment/mofs/VETSOE.svg\",\"/home/kutay/Documents/git/visualization/sciviscomm/assignment/mofs/UYOXUC.svg\",\"/home/kutay/Documents/git/visualization/sciviscomm/assignment/mofs/UTEWUM.svg\",\"/home/kutay/Documents/git/visualization/sciviscomm/assignment/mofs/XALXUF.svg\",\"/home/kutay/Documents/git/visualization/sciviscomm/assignment/mofs/TEDHAN.svg\",\"/home/kutay/Documents/git/visualization/sciviscomm/assignment/mofs/ADASAB.svg\",\"/home/kutay/Documents/git/visualization/sciviscomm/assignment/mofs/IMIXEI.svg\",\"/home/kutay/Documents/git/visualization/sciviscomm/assignment/mofs/BEPNIV.svg\",\"/home/kutay/Documents/git/visualization/sciviscomm/assignment/mofs/VEMMIK.svg\",\"/home/kutay/Documents/git/visualization/sciviscomm/assignment/mofs/QAGQEW.svg\",\"/home/kutay/Documents/git/visualization/sciviscomm/assignment/mofs/LEHXUT.svg\",\"/home/kutay/Documents/git/visualization/sciviscomm/assignment/mofs/HABQUY.svg\",\"/home/kutay/Documents/git/visualization/sciviscomm/assignment/mofs/KOJZEP.svg\",\"/home/kutay/Documents/git/visualization/sciviscomm/assignment/mofs/TADWEC.svg\",\"/home/kutay/Documents/git/visualization/sciviscomm/assignment/mofs/ADATAC.svg\",\"/home/kutay/Documents/git/visualization/sciviscomm/assignment/mofs/ECAHAT.svg\",\"/home/kutay/Documents/git/visualization/sciviscomm/assignment/mofs/DAKVUI.svg\",\"/home/kutay/Documents/git/visualization/sciviscomm/assignment/mofs/ALAMUW.svg\",\"/home/kutay/Documents/git/visualization/sciviscomm/assignment/mofs/CAGSAG.svg\",\"/home/kutay/Documents/git/visualization/sciviscomm/assignment/mofs/PARNIH.svg\",\"/home/kutay/Documents/git/visualization/sciviscomm/assignment/mofs/SUPLOF.svg\",\"/home/kutay/Documents/git/visualization/sciviscomm/assignment/mofs/SUNLET.svg\",\"/home/kutay/Documents/git/visualization/sciviscomm/assignment/mofs/BOXFAW.svg\"],\"metal\":[\"Zn\",\"Cd\",\"Cu\",\"Mn\",\"Zn\",\"Zn\",\"Cu\",\"Ca\",\"Cd\",\"Mg\",\"Zn\",\"Cu\",\"Zn\",\"Cu\",\"Zn\",\"Mg\",\"Zn\",\"Cu\",\"Mg\",\"Zn\",\"Zn\",\"Cu\",\"Cu\",\"Na\",\"Zn\",\"Cu\",\"Cu\",\"Mn\",\"Cd\",\"Cu\",\"Cu\",\"Zn\",\"Cu\",\"Cu\",\"Zn\",\"Mn\",\"Cd\",\"Cu\",\"Cu\",\"Cu\",\"Zn\",\"Zn\",\"Zn\",\"Cu\",\"Cu\",\"Zn\",\"Cu\",\"Zn\",\"Cu\",\"Cd\"],\"mof\":[\"BEPNOB\",\"SEVLEM\",\"LURRIA\",\"VEMMEG\",\"FUNBEW\",\"LOWQIX\",\"BAZGAM\",\"OSAVUA\",\"GUPCAW\",\"RAVXAP\",\"CAXTUS\",\"SONVEX\",\"WEHJOK\",\"MOXPUL\",\"REGRAY\",\"QAQRUW\",\"MIDCAF\",\"HEXVEM\",\"EQERAU\",\"VEBHUG\",\"EHIJAH\",\"AGAXOV\",\"UXUPIN\",\"IYUQEZ\",\"FAYPIG\",\"LEVDIB\",\"LUYHAP\",\"VETSOE\",\"UYOXUC\",\"UTEWUM\",\"XALXUF\",\"TEDHAN\",\"ADASAB\",\"IMIXEI\",\"BEPNIV\",\"VEMMIK\",\"QAGQEW\",\"LEHXUT\",\"HABQUY\",\"KOJZEP\",\"TADWEC\",\"ADATAC\",\"ECAHAT\",\"DAKVUI\",\"ALAMUW\",\"CAGSAG\",\"PARNIH\",\"SUPLOF\",\"SUNLET\",\"BOXFAW\"],\"pza\":[0.279373695981009,0.295777957821231,0.646786464428439,0.330071142705964,0.451433573161576,0.362024439750679,0.875972127455005,0.270608683419161,0.375525378574048,0.719743890086505,0.408292839983411,0.359151453758449,0.409081640029935,0.392441741972309,0.345868446447462,0.274481812519752,0.338186142045767,0.765335809289458,0.307508194248124,0.616588994761839,0.653103916953543,0.341014184891298,0.362725674275619,0.406438146642359,0.389593933565014,0.391987910053973,0.495751248838048,0.51763008952597,0.332815979108943,0.424568757663849,0.392139561503344,0.325471165207687,0.688170076055475,0.351680668640449,0.288966720117222,0.438210566978354,0.364992421944116,0.640735394675267,0.727201274669788,0.545300253227284,0.35584560558965,0.694335788253178,0.26437959235048,0.355113657557157,0.484344338410484,0.282095414817342,0.32225543857595,0.34536305180426,0.454616828199698,0.344192153052767],\"ro\":[0.890303,0.963135,0.406542,0.816125,0.668714,0.895525,0.126526,0.884314,0.814725,0.286105,0.710309,0.879921,0.778372,0.744524,0.925798,0.851853,0.853326,0.251734,0.830188,0.44999,0.385139,0.887006,0.669934,0.637403,0.74228,0.771367,0.618537,0.550125,0.877846,0.736094,0.78852,0.899209,0.343942,0.807372,0.893387,0.723031,0.959417,0.407171,0.289452,0.514247,0.782876,0.33727,0.854274,0.825495,0.64997,0.961699,0.861017,0.800346,0.621573,0.792268],\"sa\":[1362.53,1977.87,4585.5,2386.0,2873.69,2319.22,6580.94,1693.12,2164.03,3359.89,2001.1,2185.88,2748.57,1996.71,2251.23,1914.09,1789.96,5455.15,1926.96,4301.87,4502.81,2760.67,3053.24,1782.51,2207.71,2349.87,3546.24,2071.29,2486.4,1751.85,2224.0,2086.42,4800.23,2853.16,1380.95,2177.31,1245.47,4559.86,5749.51,4618.56,1784.95,5145.19,1178.64,2204.41,3572.24,1828.26,2133.83,2397.66,2439.72,1380.16],\"vf\":[0.552322,0.616038,0.915523,0.676135,0.775226,0.719095,0.965423,0.631428,0.665381,0.830307,0.701855,0.764375,0.789517,0.628988,0.734965,0.621669,0.631693,0.929757,0.658331,0.87262,0.882653,0.736793,0.708814,0.633982,0.681186,0.716033,0.829954,0.785963,0.73285,0.808081,0.773946,0.651283,0.883535,0.704498,0.551412,0.740464,0.779788,0.875299,0.913288,0.784148,0.636841,0.904943,0.534409,0.764114,0.82677,0.649731,0.608898,0.679576,0.71155,0.582066],\"vp\":[0.737821,0.695704,2.07895,0.829459,1.12321,0.8088,7.45792,0.719324,0.902278,2.96442,0.98562,0.820698,0.952685,0.917195,0.76591,0.728742,0.783321,3.58247,0.766998,1.88786,2.20576,0.807567,1.05586,1.06102,0.948183,0.911042,1.26158,1.37835,0.784599,0.990326,0.921768,0.797797,2.52819,0.88786,0.734152,1.02901,0.738525,2.06184,3.04394,1.54347,0.848142,2.57212,0.717924,0.863934,1.1764,0.688087,0.758879,0.846158,1.18052,0.836646]}},\"id\":\"5bf1e29c-da67-49e7-a912-34d3f03872d7\",\"type\":\"ColumnDataSource\"},{\"attributes\":{\"fill_alpha\":{\"value\":0.5},\"fill_color\":{\"value\":\"blue\"},\"line_color\":{\"value\":\"darkred\"},\"size\":{\"units\":\"screen\",\"value\":18},\"x\":{\"field\":\"vp\"},\"y\":{\"field\":\"niz\"}},\"id\":\"7584530a-581a-4d19-b8fe-c7ea1a70823e\",\"type\":\"Circle\"},{\"attributes\":{\"plot\":{\"id\":\"65868922-1c3c-4e31-960a-66ca2a0c7f48\",\"subtype\":\"Figure\",\"type\":\"Plot\"}},\"id\":\"770caec4-9b34-4388-90f1-eff5e8018d53\",\"type\":\"WheelZoomTool\"},{\"attributes\":{},\"id\":\"b35ce43e-ea09-4d02-863e-4a54dca58ddf\",\"type\":\"BasicTickFormatter\"},{\"attributes\":{\"axis_label\":\"Pore Volume (cm\\u00b3/g)\",\"formatter\":{\"id\":\"af07f6b8-25cc-45aa-9631-87eb5bb70590\",\"type\":\"BasicTickFormatter\"},\"plot\":{\"id\":\"b9a79f39-9285-4fb8-a682-3df45cc0bd28\",\"subtype\":\"Figure\",\"type\":\"Plot\"},\"ticker\":{\"id\":\"0da0998f-eb4a-4989-b8fe-1187bbe5f23d\",\"type\":\"BasicTicker\"}},\"id\":\"3db9c429-a32d-4b30-b291-22da9a51d443\",\"type\":\"LinearAxis\"},{\"attributes\":{\"grid_line_color\":{\"value\":null},\"plot\":{\"id\":\"65868922-1c3c-4e31-960a-66ca2a0c7f48\",\"subtype\":\"Figure\",\"type\":\"Plot\"},\"ticker\":{\"id\":\"dc1ed355-a0ae-4213-840e-454f1f92384c\",\"type\":\"BasicTicker\"}},\"id\":\"043dad77-06c3-4532-b25c-23a867775341\",\"type\":\"Grid\"},{\"attributes\":{\"fill_alpha\":{\"value\":0.5},\"fill_color\":{\"value\":\"blue\"},\"line_color\":{\"value\":\"darkred\"},\"size\":{\"units\":\"screen\",\"value\":18},\"x\":{\"field\":\"vp\"},\"y\":{\"field\":\"niz\"}},\"id\":\"f102fe48-5bd5-4540-b55a-f3e3257fdd00\",\"type\":\"Circle\"},{\"attributes\":{\"dimension\":1,\"grid_line_alpha\":{\"value\":0.2},\"plot\":{\"id\":\"b9a79f39-9285-4fb8-a682-3df45cc0bd28\",\"subtype\":\"Figure\",\"type\":\"Plot\"},\"ticker\":{\"id\":\"efde9acf-0543-4106-9fa3-2ca14aeccf6c\",\"type\":\"BasicTicker\"}},\"id\":\"c1e65f25-36af-4338-9f23-a3038576ecc5\",\"type\":\"Grid\"},{\"attributes\":{},\"id\":\"a909319e-af79-42cf-a50c-c0acd78db50e\",\"type\":\"BasicTickFormatter\"},{\"attributes\":{\"callback\":null,\"plot\":{\"id\":\"b9a79f39-9285-4fb8-a682-3df45cc0bd28\",\"subtype\":\"Figure\",\"type\":\"Plot\"}},\"id\":\"b9406685-89a1-4928-b4a2-ca287ec0060e\",\"type\":\"TapTool\"},{\"attributes\":{\"callback\":null,\"plot\":{\"id\":\"65868922-1c3c-4e31-960a-66ca2a0c7f48\",\"subtype\":\"Figure\",\"type\":\"Plot\"}},\"id\":\"cc84e3f5-28cc-4833-a646-fb75aee52b3f\",\"type\":\"TapTool\"},{\"attributes\":{\"plot\":{\"id\":\"b9a79f39-9285-4fb8-a682-3df45cc0bd28\",\"subtype\":\"Figure\",\"type\":\"Plot\"}},\"id\":\"e7518f6e-8075-4053-b0fc-694367d40c72\",\"type\":\"WheelZoomTool\"},{\"attributes\":{\"plot\":{\"id\":\"65868922-1c3c-4e31-960a-66ca2a0c7f48\",\"subtype\":\"Figure\",\"type\":\"Plot\"}},\"id\":\"8ca213ac-7085-48ef-ac99-977df0ca4831\",\"type\":\"ResetTool\"},{\"attributes\":{\"overlay\":{\"id\":\"0c7345f0-62ae-48ce-959a-e9b7494525e7\",\"type\":\"BoxAnnotation\"},\"plot\":{\"id\":\"65868922-1c3c-4e31-960a-66ca2a0c7f48\",\"subtype\":\"Figure\",\"type\":\"Plot\"}},\"id\":\"c5afeee5-0386-4e77-99fb-356ee376bfc7\",\"type\":\"BoxZoomTool\"},{\"attributes\":{\"callback\":null},\"id\":\"ea761607-d8b9-473f-ba7b-986515e4c75a\",\"type\":\"DataRange1d\"},{\"attributes\":{\"plot\":{\"id\":\"b9a79f39-9285-4fb8-a682-3df45cc0bd28\",\"subtype\":\"Figure\",\"type\":\"Plot\"}},\"id\":\"cd514afa-e728-4d8e-9119-9f1053430668\",\"type\":\"PanTool\"},{\"attributes\":{},\"id\":\"efde9acf-0543-4106-9fa3-2ca14aeccf6c\",\"type\":\"BasicTicker\"}],\"root_ids\":[\"65868922-1c3c-4e31-960a-66ca2a0c7f48\",\"b9a79f39-9285-4fb8-a682-3df45cc0bd28\"]},\"title\":\"Bokeh Application\",\"version\":\"0.11.1\"}};\n",
       "            var render_items = [{\"docid\":\"acf63eed-4c9c-47a5-81db-6fd6775f4ad2\",\"elementid\":\"8e02a6d2-2187-450d-aace-890a003b190e\",\"modelid\":\"b9a79f39-9285-4fb8-a682-3df45cc0bd28\",\"notebook_comms_target\":\"72321cc7-12ee-4fea-b0e4-872c9fc48989\"}];\n",
       "            \n",
       "            Bokeh.embed.embed_items(docs_json, render_items);\n",
       "        });\n",
       "      },\n",
       "      function(Bokeh) {\n",
       "      }\n",
       "    ];\n",
       "  \n",
       "    function run_inline_js() {\n",
       "      for (var i = 0; i < inline_js.length; i++) {\n",
       "        inline_js[i](window.Bokeh);\n",
       "      }\n",
       "    }\n",
       "  \n",
       "    if (window._bokeh_is_loading === 0) {\n",
       "      console.log(\"Bokeh: BokehJS loaded, going straight to plotting\");\n",
       "      run_inline_js();\n",
       "    } else {\n",
       "      load_libs(js_urls, function() {\n",
       "        console.log(\"Bokeh: BokehJS plotting callback run at\", now());\n",
       "        run_inline_js();\n",
       "      });\n",
       "    }\n",
       "  }(this));\n",
       "</script>"
      ]
     },
     "metadata": {},
     "output_type": "display_data"
    },
    {
     "data": {
      "text/html": [
       "\n",
       "    <div class=\"bk-banner\">\n",
       "        <a href=\"http://bokeh.pydata.org\" target=\"_blank\" class=\"bk-logo bk-logo-small bk-logo-notebook\"></a>\n",
       "        <span id=\"251d68e7-fbb9-4af3-9e29-c6cdc31d439c\">Loading BokehJS ...</span>\n",
       "    </div>"
      ]
     },
     "metadata": {},
     "output_type": "display_data"
    },
    {
     "data": {
      "application/javascript": [
       "\n",
       "(function(global) {\n",
       "  function now() {\n",
       "    return new Date();\n",
       "  }\n",
       "\n",
       "  if (typeof (window._bokeh_onload_callbacks) === \"undefined\") {\n",
       "    window._bokeh_onload_callbacks = [];\n",
       "  }\n",
       "\n",
       "  function run_callbacks() {\n",
       "    window._bokeh_onload_callbacks.forEach(function(callback) { callback() });\n",
       "    delete window._bokeh_onload_callbacks\n",
       "    console.info(\"Bokeh: all callbacks have finished\");\n",
       "  }\n",
       "\n",
       "  function load_libs(js_urls, callback) {\n",
       "    window._bokeh_onload_callbacks.push(callback);\n",
       "    if (window._bokeh_is_loading > 0) {\n",
       "      console.log(\"Bokeh: BokehJS is being loaded, scheduling callback at\", now());\n",
       "      return null;\n",
       "    }\n",
       "    if (js_urls == null || js_urls.length === 0) {\n",
       "      run_callbacks();\n",
       "      return null;\n",
       "    }\n",
       "    console.log(\"Bokeh: BokehJS not loaded, scheduling load and callback at\", now());\n",
       "    window._bokeh_is_loading = js_urls.length;\n",
       "    for (var i = 0; i < js_urls.length; i++) {\n",
       "      var url = js_urls[i];\n",
       "      var s = document.createElement('script');\n",
       "      s.src = url;\n",
       "      s.async = false;\n",
       "      s.onreadystatechange = s.onload = function() {\n",
       "        window._bokeh_is_loading--;\n",
       "        if (window._bokeh_is_loading === 0) {\n",
       "          console.log(\"Bokeh: all BokehJS libraries loaded\");\n",
       "          run_callbacks()\n",
       "        }\n",
       "      };\n",
       "      s.onerror = function() {\n",
       "        console.warn(\"failed to load library \" + url);\n",
       "      };\n",
       "      console.log(\"Bokeh: injecting script tag for BokehJS library: \", url);\n",
       "      document.getElementsByTagName(\"head\")[0].appendChild(s);\n",
       "    }\n",
       "  };\n",
       "\n",
       "  var js_urls = ['https://cdn.pydata.org/bokeh/release/bokeh-0.11.1.min.js', 'https://cdn.pydata.org/bokeh/release/bokeh-widgets-0.11.1.min.js', 'https://cdn.pydata.org/bokeh/release/bokeh-compiler-0.11.1.min.js'];\n",
       "\n",
       "  var inline_js = [\n",
       "    function(Bokeh) {\n",
       "      Bokeh.set_log_level(\"info\");\n",
       "    },\n",
       "    \n",
       "    function(Bokeh) {\n",
       "      Bokeh.$(\"#251d68e7-fbb9-4af3-9e29-c6cdc31d439c\").text(\"BokehJS successfully loaded\");\n",
       "    },\n",
       "    function(Bokeh) {\n",
       "      console.log(\"Bokeh: injecting CSS: https://cdn.pydata.org/bokeh/release/bokeh-0.11.1.min.css\");\n",
       "      Bokeh.embed.inject_css(\"https://cdn.pydata.org/bokeh/release/bokeh-0.11.1.min.css\");\n",
       "      console.log(\"Bokeh: injecting CSS: https://cdn.pydata.org/bokeh/release/bokeh-widgets-0.11.1.min.css\");\n",
       "      Bokeh.embed.inject_css(\"https://cdn.pydata.org/bokeh/release/bokeh-widgets-0.11.1.min.css\");\n",
       "    }\n",
       "  ];\n",
       "\n",
       "  function run_inline_js() {\n",
       "    for (var i = 0; i < inline_js.length; i++) {\n",
       "      inline_js[i](window.Bokeh);\n",
       "    }\n",
       "  }\n",
       "\n",
       "  if (window._bokeh_is_loading === 0) {\n",
       "    console.log(\"Bokeh: BokehJS loaded, going straight to plotting\");\n",
       "    run_inline_js();\n",
       "  } else {\n",
       "    load_libs(js_urls, function() {\n",
       "      console.log(\"Bokeh: BokehJS plotting callback run at\", now());\n",
       "      run_inline_js();\n",
       "    });\n",
       "  }\n",
       "}(this));"
      ]
     },
     "metadata": {},
     "output_type": "display_data"
    }
   ],
   "source": [
    "p = figure(plot_width=1000, plot_height=600,\n",
    "           title='Pyrazinamide Uptake (g NIZ/ g MOF)',\n",
    "           tools=[hover, \"pan\", \"wheel_zoom\", \"box_zoom\", \"reset\", \"tap\"],\n",
    "           toolbar_location='right')\n",
    "\n",
    "p.xaxis.axis_label = 'Pore Volume (cm³/g)'\n",
    "p.yaxis.axis_label = 'Isoniazid uptake (g PZA/ g MOF)'\n",
    "\n",
    "source = ColumnDataSource(data=data)\n",
    "\n",
    "p.circle('vp', 'niz',\n",
    "         source=source,\n",
    "         size=18,\n",
    "         fill_color='salmon',\n",
    "         fill_alpha=0.5,\n",
    "         line_color=\"darkred\",\n",
    "         nonselection_fill_color=\"salmon\",\n",
    "         nonselection_line_color=\"darkred\",\n",
    "         nonselection_fill_alpha=0.5,\n",
    "         nonselection_line_alpha=1.0,\n",
    "         selection_fill_alpha=0.5,\n",
    "         selection_fill_color=\"blue\",\n",
    "         selection_line_color=\"darkred\")\n",
    "\n",
    "p.ygrid.grid_line_alpha = 0.2\n",
    "p.xgrid.grid_line_color = None\n",
    "\n",
    "show(p)\n",
    "output_notebook()\n",
    "output_file('test.html')"
   ]
  },
  {
   "cell_type": "markdown",
   "metadata": {},
   "source": [
    "### Embed html"
   ]
  },
  {
   "cell_type": "code",
   "execution_count": null,
   "metadata": {
    "collapsed": true
   },
   "outputs": [],
   "source": [
    "from bokeh.resources import CDN\n",
    "from bokeh.embed import file_html\n",
    "\n",
    "html = file_html(p, CDN, \"PZA uptake\")\n",
    "with open('pza.html', 'w') as html_file:\n",
    "    html_file.write(html)"
   ]
  },
  {
   "cell_type": "code",
   "execution_count": null,
   "metadata": {
    "collapsed": true
   },
   "outputs": [],
   "source": []
  }
 ],
 "metadata": {
  "kernelspec": {
   "display_name": "Python 3",
   "language": "python",
   "name": "python3"
  },
  "language_info": {
   "codemirror_mode": {
    "name": "ipython",
    "version": 3
   },
   "file_extension": ".py",
   "mimetype": "text/x-python",
   "name": "python",
   "nbconvert_exporter": "python",
   "pygments_lexer": "ipython3",
   "version": "3.5.2"
  }
 },
 "nbformat": 4,
 "nbformat_minor": 1
}
