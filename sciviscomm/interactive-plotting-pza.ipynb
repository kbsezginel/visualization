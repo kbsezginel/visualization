{
 "cells": [
  {
   "cell_type": "markdown",
   "metadata": {},
   "source": [
    "## Read data from csv file\n",
    "Log order: Score, RMSD, minRMSD, Ads, Energy"
   ]
  },
  {
   "cell_type": "code",
   "execution_count": 2,
   "metadata": {
    "collapsed": true
   },
   "outputs": [],
   "source": [
    "import csv\n",
    "\n",
    "rows = []\n",
    "with open('data/pza-uptake.csv') as csvfile:\n",
    "    reader = csv.reader(csvfile)\n",
    "    for row in reader:\n",
    "        rows.append(row)"
   ]
  },
  {
   "cell_type": "markdown",
   "metadata": {},
   "source": [
    "### Arrange data"
   ]
  },
  {
   "cell_type": "code",
   "execution_count": 4,
   "metadata": {
    "collapsed": true
   },
   "outputs": [],
   "source": [
    "headers = ['mof', 'metal', 'pza', 'err', 'vp', 'vf', 'ro', 'sa', 'dia']\n",
    "data = {h: [i[idx] for i in rows[1:]] for idx, h in enumerate(headers)}"
   ]
  },
  {
   "cell_type": "markdown",
   "metadata": {},
   "source": [
    "### Plotting the data"
   ]
  },
  {
   "cell_type": "code",
   "execution_count": 6,
   "metadata": {
    "collapsed": true
   },
   "outputs": [
    {
     "data": {
      "text/html": [
       "\n",
       "\n",
       "    <div class=\"plotdiv\" id=\"d2fff8be-d4ec-47bf-9b25-d90821162c1d\"></div>\n",
       "<script type=\"text/javascript\">\n",
       "  \n",
       "  (function(global) {\n",
       "    function now() {\n",
       "      return new Date();\n",
       "    }\n",
       "  \n",
       "    if (typeof (window._bokeh_onload_callbacks) === \"undefined\") {\n",
       "      window._bokeh_onload_callbacks = [];\n",
       "    }\n",
       "  \n",
       "    function run_callbacks() {\n",
       "      window._bokeh_onload_callbacks.forEach(function(callback) { callback() });\n",
       "      delete window._bokeh_onload_callbacks\n",
       "      console.info(\"Bokeh: all callbacks have finished\");\n",
       "    }\n",
       "  \n",
       "    function load_libs(js_urls, callback) {\n",
       "      window._bokeh_onload_callbacks.push(callback);\n",
       "      if (window._bokeh_is_loading > 0) {\n",
       "        console.log(\"Bokeh: BokehJS is being loaded, scheduling callback at\", now());\n",
       "        return null;\n",
       "      }\n",
       "      if (js_urls == null || js_urls.length === 0) {\n",
       "        run_callbacks();\n",
       "        return null;\n",
       "      }\n",
       "      console.log(\"Bokeh: BokehJS not loaded, scheduling load and callback at\", now());\n",
       "      window._bokeh_is_loading = js_urls.length;\n",
       "      for (var i = 0; i < js_urls.length; i++) {\n",
       "        var url = js_urls[i];\n",
       "        var s = document.createElement('script');\n",
       "        s.src = url;\n",
       "        s.async = false;\n",
       "        s.onreadystatechange = s.onload = function() {\n",
       "          window._bokeh_is_loading--;\n",
       "          if (window._bokeh_is_loading === 0) {\n",
       "            console.log(\"Bokeh: all BokehJS libraries loaded\");\n",
       "            run_callbacks()\n",
       "          }\n",
       "        };\n",
       "        s.onerror = function() {\n",
       "          console.warn(\"failed to load library \" + url);\n",
       "        };\n",
       "        console.log(\"Bokeh: injecting script tag for BokehJS library: \", url);\n",
       "        document.getElementsByTagName(\"head\")[0].appendChild(s);\n",
       "      }\n",
       "    };var element = document.getElementById(\"d2fff8be-d4ec-47bf-9b25-d90821162c1d\");\n",
       "    if (element == null) {\n",
       "      console.log(\"Bokeh: ERROR: autoload.js configured with elementid 'd2fff8be-d4ec-47bf-9b25-d90821162c1d' but no matching script tag was found. \")\n",
       "      return false;\n",
       "    }\n",
       "  \n",
       "    var js_urls = [];\n",
       "  \n",
       "    var inline_js = [\n",
       "      function(Bokeh) {\n",
       "        Bokeh.$(function() {\n",
       "            var docs_json = {\"c4a7cbd1-ae4d-4ad2-9cce-c9e1e34ba267\":{\"roots\":{\"references\":[{\"attributes\":{\"bottom_units\":\"screen\",\"fill_alpha\":{\"value\":0.5},\"fill_color\":{\"value\":\"lightgrey\"},\"left_units\":\"screen\",\"level\":\"overlay\",\"line_alpha\":{\"value\":1.0},\"line_color\":{\"value\":\"black\"},\"line_dash\":[4,4],\"line_width\":{\"value\":2},\"plot\":null,\"render_mode\":\"css\",\"right_units\":\"screen\",\"top_units\":\"screen\"},\"id\":\"d4c13ee1-4289-4843-a885-5c7954e8454a\",\"type\":\"BoxAnnotation\"},{\"attributes\":{},\"id\":\"bb0c21f8-27b4-4892-afd3-5aab206206a7\",\"type\":\"ToolEvents\"},{\"attributes\":{},\"id\":\"36aeb3af-7e68-461b-8ebf-74f8bdbd8e5e\",\"type\":\"BasicTickFormatter\"},{\"attributes\":{\"bottom_units\":\"screen\",\"fill_alpha\":{\"value\":0.5},\"fill_color\":{\"value\":\"lightgrey\"},\"left_units\":\"screen\",\"level\":\"overlay\",\"line_alpha\":{\"value\":1.0},\"line_color\":{\"value\":\"black\"},\"line_dash\":[4,4],\"line_width\":{\"value\":2},\"plot\":null,\"render_mode\":\"css\",\"right_units\":\"screen\",\"top_units\":\"screen\"},\"id\":\"d1754d58-921f-4fc8-a327-54bfdb317afc\",\"type\":\"BoxAnnotation\"},{\"attributes\":{\"plot\":{\"id\":\"bfa1a7c0-9dbd-4b1c-bec2-834330483449\",\"subtype\":\"Figure\",\"type\":\"Plot\"}},\"id\":\"89efe66a-61b9-42dc-8a4b-b19c10a07b63\",\"type\":\"ResizeTool\"},{\"attributes\":{},\"id\":\"9161d581-077d-4b86-ba39-4e7d84f10433\",\"type\":\"BasicTicker\"},{\"attributes\":{\"plot\":{\"id\":\"ac658439-d4bc-4b04-9e87-03c13dba31a0\",\"subtype\":\"Figure\",\"type\":\"Plot\"}},\"id\":\"06be9e5b-b83f-4681-a9c2-29cc51d1bbce\",\"type\":\"PreviewSaveTool\"},{\"attributes\":{\"below\":[{\"id\":\"8be3abd5-d78d-4fe9-a9fa-4c84c66ba661\",\"type\":\"LinearAxis\"}],\"left\":[{\"id\":\"c8b985a1-802d-4018-9573-ac247e366d4d\",\"type\":\"LinearAxis\"}],\"renderers\":[{\"id\":\"8be3abd5-d78d-4fe9-a9fa-4c84c66ba661\",\"type\":\"LinearAxis\"},{\"id\":\"6d79e69d-de38-405f-b8e1-f60b876e64cd\",\"type\":\"Grid\"},{\"id\":\"c8b985a1-802d-4018-9573-ac247e366d4d\",\"type\":\"LinearAxis\"},{\"id\":\"767a3fbf-bcf3-42ea-9275-82e419df8828\",\"type\":\"Grid\"},{\"id\":\"d1754d58-921f-4fc8-a327-54bfdb317afc\",\"type\":\"BoxAnnotation\"},{\"id\":\"05bfd744-0765-44e7-865b-a3163a96614a\",\"type\":\"GlyphRenderer\"}],\"tool_events\":{\"id\":\"bb0c21f8-27b4-4892-afd3-5aab206206a7\",\"type\":\"ToolEvents\"},\"tools\":[{\"id\":\"838bcb3d-65d6-40f9-8c90-ec2562dc75e4\",\"type\":\"PanTool\"},{\"id\":\"6bcd7600-ef35-48f8-8668-cbc93ada25ed\",\"type\":\"WheelZoomTool\"},{\"id\":\"62ceb4e4-c0c3-4b4d-9958-b44bb05f2457\",\"type\":\"BoxZoomTool\"},{\"id\":\"06be9e5b-b83f-4681-a9c2-29cc51d1bbce\",\"type\":\"PreviewSaveTool\"},{\"id\":\"3ab0bc39-4090-4978-99de-3aeb21ffe063\",\"type\":\"ResizeTool\"},{\"id\":\"7dd450a7-4670-49ec-aff9-367a1033997a\",\"type\":\"ResetTool\"},{\"id\":\"9aa2394d-bbd0-4051-9332-cacf83330f3b\",\"type\":\"HelpTool\"}],\"x_range\":{\"id\":\"c7ecc968-8329-4e47-9711-906d6cbc023e\",\"type\":\"DataRange1d\"},\"y_range\":{\"id\":\"a9a277e2-32f4-441a-9e8f-b86b4b5b77b9\",\"type\":\"DataRange1d\"}},\"id\":\"ac658439-d4bc-4b04-9e87-03c13dba31a0\",\"subtype\":\"Figure\",\"type\":\"Plot\"},{\"attributes\":{},\"id\":\"2f859d45-1c3f-41f2-855d-e0b04f3d2d47\",\"type\":\"ToolEvents\"},{\"attributes\":{},\"id\":\"717df717-4bb7-4b5b-bfcb-b4243c6e9c38\",\"type\":\"BasicTickFormatter\"},{\"attributes\":{},\"id\":\"15cb582b-8fb7-4af8-b786-7e3ebcbbf8f9\",\"type\":\"BasicTicker\"},{\"attributes\":{\"callback\":null,\"column_names\":[\"x\",\"y\"],\"data\":{\"x\":[\"0.737821\",\"0.695704\",\"2.07895\",\"0.829459\",\"1.12321\",\"0.8088\",\"7.45792\",\"0.719324\",\"0.902278\",\"2.96442\",\"0.98562\",\"0.820698\",\"0.952685\",\"0.917195\",\"0.76591\",\"0.728742\",\"0.783321\",\"3.58247\",\"0.766998\",\"1.88786\",\"2.20576\",\"0.807567\",\"1.05586\",\"1.06102\",\"0.948183\",\"0.911042\",\"1.26158\",\"1.37835\",\"0.784599\",\"0.990326\",\"0.921768\",\"0.797797\",\"2.52819\",\"0.88786\",\"0.734152\",\"1.02901\",\"0.738525\",\"2.06184\",\"3.04394\",\"1.54347\",\"0.848142\",\"2.57212\",\"0.717924\",\"0.863934\",\"1.1764\",\"0.688087\",\"0.758879\",\"0.846158\",\"1.18052\",\"0.836646\"],\"y\":[\"0.279373695981009\",\"0.295777957821231\",\"0.646786464428439\",\"0.330071142705964\",\"0.451433573161576\",\"0.362024439750679\",\"0.875972127455005\",\"0.270608683419161\",\"0.375525378574048\",\"0.719743890086505\",\"0.408292839983411\",\"0.359151453758449\",\"0.409081640029935\",\"0.392441741972309\",\"0.345868446447462\",\"0.274481812519752\",\"0.338186142045767\",\"0.765335809289458\",\"0.307508194248124\",\"0.616588994761839\",\"0.653103916953543\",\"0.341014184891298\",\"0.362725674275619\",\"0.406438146642359\",\"0.389593933565014\",\"0.391987910053973\",\"0.495751248838048\",\"0.51763008952597\",\"0.332815979108943\",\"0.424568757663849\",\"0.392139561503344\",\"0.325471165207687\",\"0.688170076055475\",\"0.351680668640449\",\"0.288966720117222\",\"0.438210566978354\",\"0.364992421944116\",\"0.640735394675267\",\"0.727201274669788\",\"0.545300253227284\",\"0.35584560558965\",\"0.694335788253178\",\"0.26437959235048\",\"0.355113657557157\",\"0.484344338410484\",\"0.282095414817342\",\"0.32225543857595\",\"0.34536305180426\",\"0.454616828199698\",\"0.344192153052767\"]}},\"id\":\"2b4139ee-3a93-4dc6-97d8-54d8dcd6e729\",\"type\":\"ColumnDataSource\"},{\"attributes\":{\"data_source\":{\"id\":\"2b4139ee-3a93-4dc6-97d8-54d8dcd6e729\",\"type\":\"ColumnDataSource\"},\"glyph\":{\"id\":\"179dbc0e-5cfe-4b46-b1e6-66470c528886\",\"type\":\"Circle\"},\"hover_glyph\":null,\"nonselection_glyph\":{\"id\":\"289c4d2d-1314-4631-bb6f-47627f141a03\",\"type\":\"Circle\"},\"selection_glyph\":null},\"id\":\"05bfd744-0765-44e7-865b-a3163a96614a\",\"type\":\"GlyphRenderer\"},{\"attributes\":{\"plot\":{\"id\":\"ac658439-d4bc-4b04-9e87-03c13dba31a0\",\"subtype\":\"Figure\",\"type\":\"Plot\"}},\"id\":\"6bcd7600-ef35-48f8-8668-cbc93ada25ed\",\"type\":\"WheelZoomTool\"},{\"attributes\":{\"callback\":null},\"id\":\"c7ecc968-8329-4e47-9711-906d6cbc023e\",\"type\":\"DataRange1d\"},{\"attributes\":{\"plot\":{\"id\":\"ac658439-d4bc-4b04-9e87-03c13dba31a0\",\"subtype\":\"Figure\",\"type\":\"Plot\"}},\"id\":\"3ab0bc39-4090-4978-99de-3aeb21ffe063\",\"type\":\"ResizeTool\"},{\"attributes\":{\"fill_color\":{\"value\":\"#1f77b4\"},\"line_color\":{\"value\":\"#1f77b4\"},\"x\":{\"field\":\"x\"},\"y\":{\"field\":\"y\"}},\"id\":\"42c37663-a92e-4d23-a29e-229df089c80e\",\"type\":\"Circle\"},{\"attributes\":{\"formatter\":{\"id\":\"06bdf7f6-7967-4e4c-918a-96801ead2514\",\"type\":\"BasicTickFormatter\"},\"plot\":{\"id\":\"bfa1a7c0-9dbd-4b1c-bec2-834330483449\",\"subtype\":\"Figure\",\"type\":\"Plot\"},\"ticker\":{\"id\":\"15cb582b-8fb7-4af8-b786-7e3ebcbbf8f9\",\"type\":\"BasicTicker\"}},\"id\":\"94f012dc-1492-4525-968d-ad33d100d82b\",\"type\":\"LinearAxis\"},{\"attributes\":{},\"id\":\"98941e59-11f9-4c83-a49e-2c694642dc69\",\"type\":\"BasicTicker\"},{\"attributes\":{\"plot\":{\"id\":\"ac658439-d4bc-4b04-9e87-03c13dba31a0\",\"subtype\":\"Figure\",\"type\":\"Plot\"}},\"id\":\"9aa2394d-bbd0-4051-9332-cacf83330f3b\",\"type\":\"HelpTool\"},{\"attributes\":{\"plot\":{\"id\":\"ac658439-d4bc-4b04-9e87-03c13dba31a0\",\"subtype\":\"Figure\",\"type\":\"Plot\"},\"ticker\":{\"id\":\"ed5bb9bc-9a59-464a-8ad4-90d9ec1d73f0\",\"type\":\"BasicTicker\"}},\"id\":\"6d79e69d-de38-405f-b8e1-f60b876e64cd\",\"type\":\"Grid\"},{\"attributes\":{\"dimension\":1,\"plot\":{\"id\":\"bfa1a7c0-9dbd-4b1c-bec2-834330483449\",\"subtype\":\"Figure\",\"type\":\"Plot\"},\"ticker\":{\"id\":\"9161d581-077d-4b86-ba39-4e7d84f10433\",\"type\":\"BasicTicker\"}},\"id\":\"54f71d24-7163-4680-819a-4837380ac6dd\",\"type\":\"Grid\"},{\"attributes\":{\"dimension\":1,\"plot\":{\"id\":\"ac658439-d4bc-4b04-9e87-03c13dba31a0\",\"subtype\":\"Figure\",\"type\":\"Plot\"},\"ticker\":{\"id\":\"98941e59-11f9-4c83-a49e-2c694642dc69\",\"type\":\"BasicTicker\"}},\"id\":\"767a3fbf-bcf3-42ea-9275-82e419df8828\",\"type\":\"Grid\"},{\"attributes\":{\"callback\":null},\"id\":\"dc254b33-60ac-4b4c-946b-19c95a21c4de\",\"type\":\"DataRange1d\"},{\"attributes\":{\"plot\":{\"id\":\"bfa1a7c0-9dbd-4b1c-bec2-834330483449\",\"subtype\":\"Figure\",\"type\":\"Plot\"},\"ticker\":{\"id\":\"15cb582b-8fb7-4af8-b786-7e3ebcbbf8f9\",\"type\":\"BasicTicker\"}},\"id\":\"35aafe9b-db7c-43a8-8fad-435962729afb\",\"type\":\"Grid\"},{\"attributes\":{\"overlay\":{\"id\":\"d4c13ee1-4289-4843-a885-5c7954e8454a\",\"type\":\"BoxAnnotation\"},\"plot\":{\"id\":\"bfa1a7c0-9dbd-4b1c-bec2-834330483449\",\"subtype\":\"Figure\",\"type\":\"Plot\"}},\"id\":\"badf2345-bffa-4d49-80c6-ce9138e6a53b\",\"type\":\"BoxZoomTool\"},{\"attributes\":{\"plot\":{\"id\":\"ac658439-d4bc-4b04-9e87-03c13dba31a0\",\"subtype\":\"Figure\",\"type\":\"Plot\"}},\"id\":\"7dd450a7-4670-49ec-aff9-367a1033997a\",\"type\":\"ResetTool\"},{\"attributes\":{\"formatter\":{\"id\":\"0f1684d3-4911-4d2d-988a-0545042190bd\",\"type\":\"BasicTickFormatter\"},\"plot\":{\"id\":\"bfa1a7c0-9dbd-4b1c-bec2-834330483449\",\"subtype\":\"Figure\",\"type\":\"Plot\"},\"ticker\":{\"id\":\"9161d581-077d-4b86-ba39-4e7d84f10433\",\"type\":\"BasicTicker\"}},\"id\":\"937bcf92-1741-45d7-aea6-cd12711a6cc3\",\"type\":\"LinearAxis\"},{\"attributes\":{\"callback\":null,\"column_names\":[\"x\",\"y\"],\"data\":{\"x\":[\"0.737821\",\"0.695704\",\"2.07895\",\"0.829459\",\"1.12321\",\"0.8088\",\"7.45792\",\"0.719324\",\"0.902278\",\"2.96442\",\"0.98562\",\"0.820698\",\"0.952685\",\"0.917195\",\"0.76591\",\"0.728742\",\"0.783321\",\"3.58247\",\"0.766998\",\"1.88786\",\"2.20576\",\"0.807567\",\"1.05586\",\"1.06102\",\"0.948183\",\"0.911042\",\"1.26158\",\"1.37835\",\"0.784599\",\"0.990326\",\"0.921768\",\"0.797797\",\"2.52819\",\"0.88786\",\"0.734152\",\"1.02901\",\"0.738525\",\"2.06184\",\"3.04394\",\"1.54347\",\"0.848142\",\"2.57212\",\"0.717924\",\"0.863934\",\"1.1764\",\"0.688087\",\"0.758879\",\"0.846158\",\"1.18052\",\"0.836646\"],\"y\":[\"0.279373695981009\",\"0.295777957821231\",\"0.646786464428439\",\"0.330071142705964\",\"0.451433573161576\",\"0.362024439750679\",\"0.875972127455005\",\"0.270608683419161\",\"0.375525378574048\",\"0.719743890086505\",\"0.408292839983411\",\"0.359151453758449\",\"0.409081640029935\",\"0.392441741972309\",\"0.345868446447462\",\"0.274481812519752\",\"0.338186142045767\",\"0.765335809289458\",\"0.307508194248124\",\"0.616588994761839\",\"0.653103916953543\",\"0.341014184891298\",\"0.362725674275619\",\"0.406438146642359\",\"0.389593933565014\",\"0.391987910053973\",\"0.495751248838048\",\"0.51763008952597\",\"0.332815979108943\",\"0.424568757663849\",\"0.392139561503344\",\"0.325471165207687\",\"0.688170076055475\",\"0.351680668640449\",\"0.288966720117222\",\"0.438210566978354\",\"0.364992421944116\",\"0.640735394675267\",\"0.727201274669788\",\"0.545300253227284\",\"0.35584560558965\",\"0.694335788253178\",\"0.26437959235048\",\"0.355113657557157\",\"0.484344338410484\",\"0.282095414817342\",\"0.32225543857595\",\"0.34536305180426\",\"0.454616828199698\",\"0.344192153052767\"]}},\"id\":\"921ceb92-2da4-4517-92f7-af53050c12ac\",\"type\":\"ColumnDataSource\"},{\"attributes\":{},\"id\":\"06bdf7f6-7967-4e4c-918a-96801ead2514\",\"type\":\"BasicTickFormatter\"},{\"attributes\":{\"plot\":{\"id\":\"bfa1a7c0-9dbd-4b1c-bec2-834330483449\",\"subtype\":\"Figure\",\"type\":\"Plot\"}},\"id\":\"6d79016d-40af-4ee6-adba-48eb9480e94d\",\"type\":\"PreviewSaveTool\"},{\"attributes\":{\"below\":[{\"id\":\"94f012dc-1492-4525-968d-ad33d100d82b\",\"type\":\"LinearAxis\"}],\"left\":[{\"id\":\"937bcf92-1741-45d7-aea6-cd12711a6cc3\",\"type\":\"LinearAxis\"}],\"renderers\":[{\"id\":\"94f012dc-1492-4525-968d-ad33d100d82b\",\"type\":\"LinearAxis\"},{\"id\":\"35aafe9b-db7c-43a8-8fad-435962729afb\",\"type\":\"Grid\"},{\"id\":\"937bcf92-1741-45d7-aea6-cd12711a6cc3\",\"type\":\"LinearAxis\"},{\"id\":\"54f71d24-7163-4680-819a-4837380ac6dd\",\"type\":\"Grid\"},{\"id\":\"d4c13ee1-4289-4843-a885-5c7954e8454a\",\"type\":\"BoxAnnotation\"},{\"id\":\"24970aed-f631-4344-85fb-104f4dc5337d\",\"type\":\"GlyphRenderer\"}],\"tool_events\":{\"id\":\"2f859d45-1c3f-41f2-855d-e0b04f3d2d47\",\"type\":\"ToolEvents\"},\"tools\":[{\"id\":\"447700d3-ab85-4ec3-a62a-cbf0fd602e50\",\"type\":\"PanTool\"},{\"id\":\"a2ce0d76-dcc0-4be9-8779-19ad28fc884a\",\"type\":\"WheelZoomTool\"},{\"id\":\"badf2345-bffa-4d49-80c6-ce9138e6a53b\",\"type\":\"BoxZoomTool\"},{\"id\":\"6d79016d-40af-4ee6-adba-48eb9480e94d\",\"type\":\"PreviewSaveTool\"},{\"id\":\"89efe66a-61b9-42dc-8a4b-b19c10a07b63\",\"type\":\"ResizeTool\"},{\"id\":\"30b0d933-adb0-4ca3-8da4-70c55f697c06\",\"type\":\"ResetTool\"},{\"id\":\"8b46d585-09a4-488e-9579-f438caa92380\",\"type\":\"HelpTool\"}],\"x_range\":{\"id\":\"dc254b33-60ac-4b4c-946b-19c95a21c4de\",\"type\":\"DataRange1d\"},\"y_range\":{\"id\":\"0ff027f3-c06d-4753-87a2-6e5b5cdc68c1\",\"type\":\"DataRange1d\"}},\"id\":\"bfa1a7c0-9dbd-4b1c-bec2-834330483449\",\"subtype\":\"Figure\",\"type\":\"Plot\"},{\"attributes\":{},\"id\":\"0f1684d3-4911-4d2d-988a-0545042190bd\",\"type\":\"BasicTickFormatter\"},{\"attributes\":{\"callback\":null},\"id\":\"0ff027f3-c06d-4753-87a2-6e5b5cdc68c1\",\"type\":\"DataRange1d\"},{\"attributes\":{\"plot\":{\"id\":\"bfa1a7c0-9dbd-4b1c-bec2-834330483449\",\"subtype\":\"Figure\",\"type\":\"Plot\"}},\"id\":\"8b46d585-09a4-488e-9579-f438caa92380\",\"type\":\"HelpTool\"},{\"attributes\":{\"overlay\":{\"id\":\"d1754d58-921f-4fc8-a327-54bfdb317afc\",\"type\":\"BoxAnnotation\"},\"plot\":{\"id\":\"ac658439-d4bc-4b04-9e87-03c13dba31a0\",\"subtype\":\"Figure\",\"type\":\"Plot\"}},\"id\":\"62ceb4e4-c0c3-4b4d-9958-b44bb05f2457\",\"type\":\"BoxZoomTool\"},{\"attributes\":{},\"id\":\"ed5bb9bc-9a59-464a-8ad4-90d9ec1d73f0\",\"type\":\"BasicTicker\"},{\"attributes\":{\"fill_alpha\":{\"value\":0.1},\"fill_color\":{\"value\":\"#1f77b4\"},\"line_alpha\":{\"value\":0.1},\"line_color\":{\"value\":\"#1f77b4\"},\"x\":{\"field\":\"x\"},\"y\":{\"field\":\"y\"}},\"id\":\"d4966cc9-59b9-46bb-92a5-6f692f695cee\",\"type\":\"Circle\"},{\"attributes\":{\"plot\":{\"id\":\"bfa1a7c0-9dbd-4b1c-bec2-834330483449\",\"subtype\":\"Figure\",\"type\":\"Plot\"}},\"id\":\"30b0d933-adb0-4ca3-8da4-70c55f697c06\",\"type\":\"ResetTool\"},{\"attributes\":{\"plot\":{\"id\":\"ac658439-d4bc-4b04-9e87-03c13dba31a0\",\"subtype\":\"Figure\",\"type\":\"Plot\"}},\"id\":\"838bcb3d-65d6-40f9-8c90-ec2562dc75e4\",\"type\":\"PanTool\"},{\"attributes\":{\"plot\":{\"id\":\"bfa1a7c0-9dbd-4b1c-bec2-834330483449\",\"subtype\":\"Figure\",\"type\":\"Plot\"}},\"id\":\"a2ce0d76-dcc0-4be9-8779-19ad28fc884a\",\"type\":\"WheelZoomTool\"},{\"attributes\":{\"fill_color\":{\"value\":\"#1f77b4\"},\"line_color\":{\"value\":\"#1f77b4\"},\"x\":{\"field\":\"x\"},\"y\":{\"field\":\"y\"}},\"id\":\"179dbc0e-5cfe-4b46-b1e6-66470c528886\",\"type\":\"Circle\"},{\"attributes\":{\"data_source\":{\"id\":\"921ceb92-2da4-4517-92f7-af53050c12ac\",\"type\":\"ColumnDataSource\"},\"glyph\":{\"id\":\"42c37663-a92e-4d23-a29e-229df089c80e\",\"type\":\"Circle\"},\"hover_glyph\":null,\"nonselection_glyph\":{\"id\":\"d4966cc9-59b9-46bb-92a5-6f692f695cee\",\"type\":\"Circle\"},\"selection_glyph\":null},\"id\":\"24970aed-f631-4344-85fb-104f4dc5337d\",\"type\":\"GlyphRenderer\"},{\"attributes\":{\"formatter\":{\"id\":\"36aeb3af-7e68-461b-8ebf-74f8bdbd8e5e\",\"type\":\"BasicTickFormatter\"},\"plot\":{\"id\":\"ac658439-d4bc-4b04-9e87-03c13dba31a0\",\"subtype\":\"Figure\",\"type\":\"Plot\"},\"ticker\":{\"id\":\"ed5bb9bc-9a59-464a-8ad4-90d9ec1d73f0\",\"type\":\"BasicTicker\"}},\"id\":\"8be3abd5-d78d-4fe9-a9fa-4c84c66ba661\",\"type\":\"LinearAxis\"},{\"attributes\":{\"formatter\":{\"id\":\"717df717-4bb7-4b5b-bfcb-b4243c6e9c38\",\"type\":\"BasicTickFormatter\"},\"plot\":{\"id\":\"ac658439-d4bc-4b04-9e87-03c13dba31a0\",\"subtype\":\"Figure\",\"type\":\"Plot\"},\"ticker\":{\"id\":\"98941e59-11f9-4c83-a49e-2c694642dc69\",\"type\":\"BasicTicker\"}},\"id\":\"c8b985a1-802d-4018-9573-ac247e366d4d\",\"type\":\"LinearAxis\"},{\"attributes\":{\"plot\":{\"id\":\"bfa1a7c0-9dbd-4b1c-bec2-834330483449\",\"subtype\":\"Figure\",\"type\":\"Plot\"}},\"id\":\"447700d3-ab85-4ec3-a62a-cbf0fd602e50\",\"type\":\"PanTool\"},{\"attributes\":{\"callback\":null},\"id\":\"a9a277e2-32f4-441a-9e8f-b86b4b5b77b9\",\"type\":\"DataRange1d\"},{\"attributes\":{\"fill_alpha\":{\"value\":0.1},\"fill_color\":{\"value\":\"#1f77b4\"},\"line_alpha\":{\"value\":0.1},\"line_color\":{\"value\":\"#1f77b4\"},\"x\":{\"field\":\"x\"},\"y\":{\"field\":\"y\"}},\"id\":\"289c4d2d-1314-4631-bb6f-47627f141a03\",\"type\":\"Circle\"}],\"root_ids\":[\"ac658439-d4bc-4b04-9e87-03c13dba31a0\",\"bfa1a7c0-9dbd-4b1c-bec2-834330483449\"]},\"title\":\"Bokeh Application\",\"version\":\"0.11.1\"}};\n",
       "            var render_items = [{\"docid\":\"c4a7cbd1-ae4d-4ad2-9cce-c9e1e34ba267\",\"elementid\":\"d2fff8be-d4ec-47bf-9b25-d90821162c1d\",\"modelid\":\"bfa1a7c0-9dbd-4b1c-bec2-834330483449\",\"notebook_comms_target\":\"1d472186-63dc-4c1b-b174-c79c8efac959\"}];\n",
       "            \n",
       "            Bokeh.embed.embed_items(docs_json, render_items);\n",
       "        });\n",
       "      },\n",
       "      function(Bokeh) {\n",
       "      }\n",
       "    ];\n",
       "  \n",
       "    function run_inline_js() {\n",
       "      for (var i = 0; i < inline_js.length; i++) {\n",
       "        inline_js[i](window.Bokeh);\n",
       "      }\n",
       "    }\n",
       "  \n",
       "    if (window._bokeh_is_loading === 0) {\n",
       "      console.log(\"Bokeh: BokehJS loaded, going straight to plotting\");\n",
       "      run_inline_js();\n",
       "    } else {\n",
       "      load_libs(js_urls, function() {\n",
       "        console.log(\"Bokeh: BokehJS plotting callback run at\", now());\n",
       "        run_inline_js();\n",
       "      });\n",
       "    }\n",
       "  }(this));\n",
       "</script>"
      ]
     },
     "metadata": {},
     "output_type": "display_data"
    },
    {
     "data": {
      "text/html": [
       "\n",
       "    <div class=\"bk-banner\">\n",
       "        <a href=\"http://bokeh.pydata.org\" target=\"_blank\" class=\"bk-logo bk-logo-small bk-logo-notebook\"></a>\n",
       "        <span id=\"b1f503f9-a78c-4b7a-a8de-3d99f8909d05\">Loading BokehJS ...</span>\n",
       "    </div>"
      ]
     },
     "metadata": {},
     "output_type": "display_data"
    },
    {
     "data": {
      "application/javascript": [
       "\n",
       "(function(global) {\n",
       "  function now() {\n",
       "    return new Date();\n",
       "  }\n",
       "\n",
       "  if (typeof (window._bokeh_onload_callbacks) === \"undefined\") {\n",
       "    window._bokeh_onload_callbacks = [];\n",
       "  }\n",
       "\n",
       "  function run_callbacks() {\n",
       "    window._bokeh_onload_callbacks.forEach(function(callback) { callback() });\n",
       "    delete window._bokeh_onload_callbacks\n",
       "    console.info(\"Bokeh: all callbacks have finished\");\n",
       "  }\n",
       "\n",
       "  function load_libs(js_urls, callback) {\n",
       "    window._bokeh_onload_callbacks.push(callback);\n",
       "    if (window._bokeh_is_loading > 0) {\n",
       "      console.log(\"Bokeh: BokehJS is being loaded, scheduling callback at\", now());\n",
       "      return null;\n",
       "    }\n",
       "    if (js_urls == null || js_urls.length === 0) {\n",
       "      run_callbacks();\n",
       "      return null;\n",
       "    }\n",
       "    console.log(\"Bokeh: BokehJS not loaded, scheduling load and callback at\", now());\n",
       "    window._bokeh_is_loading = js_urls.length;\n",
       "    for (var i = 0; i < js_urls.length; i++) {\n",
       "      var url = js_urls[i];\n",
       "      var s = document.createElement('script');\n",
       "      s.src = url;\n",
       "      s.async = false;\n",
       "      s.onreadystatechange = s.onload = function() {\n",
       "        window._bokeh_is_loading--;\n",
       "        if (window._bokeh_is_loading === 0) {\n",
       "          console.log(\"Bokeh: all BokehJS libraries loaded\");\n",
       "          run_callbacks()\n",
       "        }\n",
       "      };\n",
       "      s.onerror = function() {\n",
       "        console.warn(\"failed to load library \" + url);\n",
       "      };\n",
       "      console.log(\"Bokeh: injecting script tag for BokehJS library: \", url);\n",
       "      document.getElementsByTagName(\"head\")[0].appendChild(s);\n",
       "    }\n",
       "  };\n",
       "\n",
       "  var js_urls = ['https://cdn.pydata.org/bokeh/release/bokeh-0.11.1.min.js', 'https://cdn.pydata.org/bokeh/release/bokeh-widgets-0.11.1.min.js', 'https://cdn.pydata.org/bokeh/release/bokeh-compiler-0.11.1.min.js'];\n",
       "\n",
       "  var inline_js = [\n",
       "    function(Bokeh) {\n",
       "      Bokeh.set_log_level(\"info\");\n",
       "    },\n",
       "    \n",
       "    function(Bokeh) {\n",
       "      Bokeh.$(\"#b1f503f9-a78c-4b7a-a8de-3d99f8909d05\").text(\"BokehJS successfully loaded\");\n",
       "    },\n",
       "    function(Bokeh) {\n",
       "      console.log(\"Bokeh: injecting CSS: https://cdn.pydata.org/bokeh/release/bokeh-0.11.1.min.css\");\n",
       "      Bokeh.embed.inject_css(\"https://cdn.pydata.org/bokeh/release/bokeh-0.11.1.min.css\");\n",
       "      console.log(\"Bokeh: injecting CSS: https://cdn.pydata.org/bokeh/release/bokeh-widgets-0.11.1.min.css\");\n",
       "      Bokeh.embed.inject_css(\"https://cdn.pydata.org/bokeh/release/bokeh-widgets-0.11.1.min.css\");\n",
       "    }\n",
       "  ];\n",
       "\n",
       "  function run_inline_js() {\n",
       "    for (var i = 0; i < inline_js.length; i++) {\n",
       "      inline_js[i](window.Bokeh);\n",
       "    }\n",
       "  }\n",
       "\n",
       "  if (window._bokeh_is_loading === 0) {\n",
       "    console.log(\"Bokeh: BokehJS loaded, going straight to plotting\");\n",
       "    run_inline_js();\n",
       "  } else {\n",
       "    load_libs(js_urls, function() {\n",
       "      console.log(\"Bokeh: BokehJS plotting callback run at\", now());\n",
       "      run_inline_js();\n",
       "    });\n",
       "  }\n",
       "}(this));"
      ]
     },
     "metadata": {},
     "output_type": "display_data"
    }
   ],
   "source": [
    "from bokeh.plotting import figure, show\n",
    "from bokeh.plotting import output_notebook\n",
    "\n",
    "p = figure()\n",
    "p.circle(data['vp'], data['pza'])\n",
    "show(p)\n",
    "output_notebook()"
   ]
  },
  {
   "cell_type": "markdown",
   "metadata": {},
   "source": [
    "### Adding title and axis labels"
   ]
  },
  {
   "cell_type": "code",
   "execution_count": 8,
   "metadata": {
    "collapsed": true
   },
   "outputs": [
    {
     "data": {
      "text/html": [
       "\n",
       "\n",
       "    <div class=\"plotdiv\" id=\"b1d0e083-1ce3-4dbd-a309-d41c41a3182f\"></div>\n",
       "<script type=\"text/javascript\">\n",
       "  \n",
       "  (function(global) {\n",
       "    function now() {\n",
       "      return new Date();\n",
       "    }\n",
       "  \n",
       "    if (typeof (window._bokeh_onload_callbacks) === \"undefined\") {\n",
       "      window._bokeh_onload_callbacks = [];\n",
       "    }\n",
       "  \n",
       "    function run_callbacks() {\n",
       "      window._bokeh_onload_callbacks.forEach(function(callback) { callback() });\n",
       "      delete window._bokeh_onload_callbacks\n",
       "      console.info(\"Bokeh: all callbacks have finished\");\n",
       "    }\n",
       "  \n",
       "    function load_libs(js_urls, callback) {\n",
       "      window._bokeh_onload_callbacks.push(callback);\n",
       "      if (window._bokeh_is_loading > 0) {\n",
       "        console.log(\"Bokeh: BokehJS is being loaded, scheduling callback at\", now());\n",
       "        return null;\n",
       "      }\n",
       "      if (js_urls == null || js_urls.length === 0) {\n",
       "        run_callbacks();\n",
       "        return null;\n",
       "      }\n",
       "      console.log(\"Bokeh: BokehJS not loaded, scheduling load and callback at\", now());\n",
       "      window._bokeh_is_loading = js_urls.length;\n",
       "      for (var i = 0; i < js_urls.length; i++) {\n",
       "        var url = js_urls[i];\n",
       "        var s = document.createElement('script');\n",
       "        s.src = url;\n",
       "        s.async = false;\n",
       "        s.onreadystatechange = s.onload = function() {\n",
       "          window._bokeh_is_loading--;\n",
       "          if (window._bokeh_is_loading === 0) {\n",
       "            console.log(\"Bokeh: all BokehJS libraries loaded\");\n",
       "            run_callbacks()\n",
       "          }\n",
       "        };\n",
       "        s.onerror = function() {\n",
       "          console.warn(\"failed to load library \" + url);\n",
       "        };\n",
       "        console.log(\"Bokeh: injecting script tag for BokehJS library: \", url);\n",
       "        document.getElementsByTagName(\"head\")[0].appendChild(s);\n",
       "      }\n",
       "    };var element = document.getElementById(\"b1d0e083-1ce3-4dbd-a309-d41c41a3182f\");\n",
       "    if (element == null) {\n",
       "      console.log(\"Bokeh: ERROR: autoload.js configured with elementid 'b1d0e083-1ce3-4dbd-a309-d41c41a3182f' but no matching script tag was found. \")\n",
       "      return false;\n",
       "    }\n",
       "  \n",
       "    var js_urls = [];\n",
       "  \n",
       "    var inline_js = [\n",
       "      function(Bokeh) {\n",
       "        Bokeh.$(function() {\n",
       "            var docs_json = {\"08f413b4-4304-4e42-8386-b1f056e4d16c\":{\"roots\":{\"references\":[{\"attributes\":{\"bottom_units\":\"screen\",\"fill_alpha\":{\"value\":0.5},\"fill_color\":{\"value\":\"lightgrey\"},\"left_units\":\"screen\",\"level\":\"overlay\",\"line_alpha\":{\"value\":1.0},\"line_color\":{\"value\":\"black\"},\"line_dash\":[4,4],\"line_width\":{\"value\":2},\"plot\":null,\"render_mode\":\"css\",\"right_units\":\"screen\",\"top_units\":\"screen\"},\"id\":\"d4c13ee1-4289-4843-a885-5c7954e8454a\",\"type\":\"BoxAnnotation\"},{\"attributes\":{\"callback\":null},\"id\":\"886f87b7-0929-4928-a7f4-38dae4fe46ff\",\"type\":\"DataRange1d\"},{\"attributes\":{\"plot\":{\"id\":\"ac658439-d4bc-4b04-9e87-03c13dba31a0\",\"subtype\":\"Figure\",\"type\":\"Plot\"}},\"id\":\"3ab0bc39-4090-4978-99de-3aeb21ffe063\",\"type\":\"ResizeTool\"},{\"attributes\":{},\"id\":\"442a62cd-8ef7-4c4d-b03f-508332ba1fff\",\"type\":\"ToolEvents\"},{\"attributes\":{\"bottom_units\":\"screen\",\"fill_alpha\":{\"value\":0.5},\"fill_color\":{\"value\":\"lightgrey\"},\"left_units\":\"screen\",\"level\":\"overlay\",\"line_alpha\":{\"value\":1.0},\"line_color\":{\"value\":\"black\"},\"line_dash\":[4,4],\"line_width\":{\"value\":2},\"plot\":null,\"render_mode\":\"css\",\"right_units\":\"screen\",\"top_units\":\"screen\"},\"id\":\"d1754d58-921f-4fc8-a327-54bfdb317afc\",\"type\":\"BoxAnnotation\"},{\"attributes\":{\"overlay\":{\"id\":\"6d907bf5-85bc-4b1b-b75c-79f3d53588ec\",\"type\":\"BoxAnnotation\"},\"plot\":{\"id\":\"0d35f4f8-f3b0-43a7-8dd9-86ec0134ebe9\",\"subtype\":\"Figure\",\"type\":\"Plot\"}},\"id\":\"89a6f116-f13d-4ace-ad4c-7624f9546667\",\"type\":\"BoxZoomTool\"},{\"attributes\":{\"plot\":{\"id\":\"0d35f4f8-f3b0-43a7-8dd9-86ec0134ebe9\",\"subtype\":\"Figure\",\"type\":\"Plot\"}},\"id\":\"6e1bf427-b2f9-4f71-ac67-fbc4c9b855ad\",\"type\":\"ResizeTool\"},{\"attributes\":{},\"id\":\"9161d581-077d-4b86-ba39-4e7d84f10433\",\"type\":\"BasicTicker\"},{\"attributes\":{\"plot\":{\"id\":\"0d35f4f8-f3b0-43a7-8dd9-86ec0134ebe9\",\"subtype\":\"Figure\",\"type\":\"Plot\"}},\"id\":\"f3539ba8-924d-4877-9c3e-00b2dcabecab\",\"type\":\"WheelZoomTool\"},{\"attributes\":{\"plot\":{\"id\":\"ac658439-d4bc-4b04-9e87-03c13dba31a0\",\"subtype\":\"Figure\",\"type\":\"Plot\"}},\"id\":\"06be9e5b-b83f-4681-a9c2-29cc51d1bbce\",\"type\":\"PreviewSaveTool\"},{\"attributes\":{},\"id\":\"15cb582b-8fb7-4af8-b786-7e3ebcbbf8f9\",\"type\":\"BasicTicker\"},{\"attributes\":{\"callback\":null,\"column_names\":[\"x\",\"y\"],\"data\":{\"x\":[\"0.737821\",\"0.695704\",\"2.07895\",\"0.829459\",\"1.12321\",\"0.8088\",\"7.45792\",\"0.719324\",\"0.902278\",\"2.96442\",\"0.98562\",\"0.820698\",\"0.952685\",\"0.917195\",\"0.76591\",\"0.728742\",\"0.783321\",\"3.58247\",\"0.766998\",\"1.88786\",\"2.20576\",\"0.807567\",\"1.05586\",\"1.06102\",\"0.948183\",\"0.911042\",\"1.26158\",\"1.37835\",\"0.784599\",\"0.990326\",\"0.921768\",\"0.797797\",\"2.52819\",\"0.88786\",\"0.734152\",\"1.02901\",\"0.738525\",\"2.06184\",\"3.04394\",\"1.54347\",\"0.848142\",\"2.57212\",\"0.717924\",\"0.863934\",\"1.1764\",\"0.688087\",\"0.758879\",\"0.846158\",\"1.18052\",\"0.836646\"],\"y\":[\"0.279373695981009\",\"0.295777957821231\",\"0.646786464428439\",\"0.330071142705964\",\"0.451433573161576\",\"0.362024439750679\",\"0.875972127455005\",\"0.270608683419161\",\"0.375525378574048\",\"0.719743890086505\",\"0.408292839983411\",\"0.359151453758449\",\"0.409081640029935\",\"0.392441741972309\",\"0.345868446447462\",\"0.274481812519752\",\"0.338186142045767\",\"0.765335809289458\",\"0.307508194248124\",\"0.616588994761839\",\"0.653103916953543\",\"0.341014184891298\",\"0.362725674275619\",\"0.406438146642359\",\"0.389593933565014\",\"0.391987910053973\",\"0.495751248838048\",\"0.51763008952597\",\"0.332815979108943\",\"0.424568757663849\",\"0.392139561503344\",\"0.325471165207687\",\"0.688170076055475\",\"0.351680668640449\",\"0.288966720117222\",\"0.438210566978354\",\"0.364992421944116\",\"0.640735394675267\",\"0.727201274669788\",\"0.545300253227284\",\"0.35584560558965\",\"0.694335788253178\",\"0.26437959235048\",\"0.355113657557157\",\"0.484344338410484\",\"0.282095414817342\",\"0.32225543857595\",\"0.34536305180426\",\"0.454616828199698\",\"0.344192153052767\"]}},\"id\":\"2b4139ee-3a93-4dc6-97d8-54d8dcd6e729\",\"type\":\"ColumnDataSource\"},{\"attributes\":{},\"id\":\"05e65cee-da3b-4bda-ab3a-20215f70e1cf\",\"type\":\"BasicTickFormatter\"},{\"attributes\":{\"plot\":{\"id\":\"ac658439-d4bc-4b04-9e87-03c13dba31a0\",\"subtype\":\"Figure\",\"type\":\"Plot\"}},\"id\":\"6bcd7600-ef35-48f8-8668-cbc93ada25ed\",\"type\":\"WheelZoomTool\"},{\"attributes\":{\"callback\":null},\"id\":\"c7ecc968-8329-4e47-9711-906d6cbc023e\",\"type\":\"DataRange1d\"},{\"attributes\":{\"plot\":{\"id\":\"0d35f4f8-f3b0-43a7-8dd9-86ec0134ebe9\",\"subtype\":\"Figure\",\"type\":\"Plot\"}},\"id\":\"99d6986d-55dd-41c2-bd50-18ce4932d726\",\"type\":\"HelpTool\"},{\"attributes\":{\"dimension\":1,\"plot\":{\"id\":\"bfa1a7c0-9dbd-4b1c-bec2-834330483449\",\"subtype\":\"Figure\",\"type\":\"Plot\"},\"ticker\":{\"id\":\"9161d581-077d-4b86-ba39-4e7d84f10433\",\"type\":\"BasicTicker\"}},\"id\":\"54f71d24-7163-4680-819a-4837380ac6dd\",\"type\":\"Grid\"},{\"attributes\":{\"bottom_units\":\"screen\",\"fill_alpha\":{\"value\":0.5},\"fill_color\":{\"value\":\"lightgrey\"},\"left_units\":\"screen\",\"level\":\"overlay\",\"line_alpha\":{\"value\":1.0},\"line_color\":{\"value\":\"black\"},\"line_dash\":[4,4],\"line_width\":{\"value\":2},\"plot\":null,\"render_mode\":\"css\",\"right_units\":\"screen\",\"top_units\":\"screen\"},\"id\":\"37bd779a-7788-4f4d-af63-e413f4c23b26\",\"type\":\"BoxAnnotation\"},{\"attributes\":{\"dimension\":1,\"plot\":{\"id\":\"6d607184-a30f-4e7b-b72a-3c110e60aa68\",\"subtype\":\"Figure\",\"type\":\"Plot\"},\"ticker\":{\"id\":\"0dd645a7-da70-416f-80de-cb3bdc869d67\",\"type\":\"BasicTicker\"}},\"id\":\"9c20cfff-1720-49a7-b959-b3cdbfd47e13\",\"type\":\"Grid\"},{\"attributes\":{\"dimension\":1,\"plot\":{\"id\":\"ac658439-d4bc-4b04-9e87-03c13dba31a0\",\"subtype\":\"Figure\",\"type\":\"Plot\"},\"ticker\":{\"id\":\"98941e59-11f9-4c83-a49e-2c694642dc69\",\"type\":\"BasicTicker\"}},\"id\":\"767a3fbf-bcf3-42ea-9275-82e419df8828\",\"type\":\"Grid\"},{\"attributes\":{\"plot\":{\"id\":\"bfa1a7c0-9dbd-4b1c-bec2-834330483449\",\"subtype\":\"Figure\",\"type\":\"Plot\"},\"ticker\":{\"id\":\"15cb582b-8fb7-4af8-b786-7e3ebcbbf8f9\",\"type\":\"BasicTicker\"}},\"id\":\"35aafe9b-db7c-43a8-8fad-435962729afb\",\"type\":\"Grid\"},{\"attributes\":{\"axis_label\":\"Pore Volume (cm\\u00b3/g)\",\"formatter\":{\"id\":\"8c02c973-ecfe-43be-b066-e0abbbbdf491\",\"type\":\"BasicTickFormatter\"},\"plot\":{\"id\":\"0d35f4f8-f3b0-43a7-8dd9-86ec0134ebe9\",\"subtype\":\"Figure\",\"type\":\"Plot\"},\"ticker\":{\"id\":\"4f4cba52-cfa0-45c9-830a-b9fae22d6f8b\",\"type\":\"BasicTicker\"}},\"id\":\"b77e9224-aae0-417d-8fd0-13b788bf2078\",\"type\":\"LinearAxis\"},{\"attributes\":{\"data_source\":{\"id\":\"2b4139ee-3a93-4dc6-97d8-54d8dcd6e729\",\"type\":\"ColumnDataSource\"},\"glyph\":{\"id\":\"179dbc0e-5cfe-4b46-b1e6-66470c528886\",\"type\":\"Circle\"},\"hover_glyph\":null,\"nonselection_glyph\":{\"id\":\"289c4d2d-1314-4631-bb6f-47627f141a03\",\"type\":\"Circle\"},\"selection_glyph\":null},\"id\":\"05bfd744-0765-44e7-865b-a3163a96614a\",\"type\":\"GlyphRenderer\"},{\"attributes\":{},\"id\":\"4f4cba52-cfa0-45c9-830a-b9fae22d6f8b\",\"type\":\"BasicTicker\"},{\"attributes\":{\"callback\":null,\"column_names\":[\"x\",\"y\"],\"data\":{\"x\":[\"0.737821\",\"0.695704\",\"2.07895\",\"0.829459\",\"1.12321\",\"0.8088\",\"7.45792\",\"0.719324\",\"0.902278\",\"2.96442\",\"0.98562\",\"0.820698\",\"0.952685\",\"0.917195\",\"0.76591\",\"0.728742\",\"0.783321\",\"3.58247\",\"0.766998\",\"1.88786\",\"2.20576\",\"0.807567\",\"1.05586\",\"1.06102\",\"0.948183\",\"0.911042\",\"1.26158\",\"1.37835\",\"0.784599\",\"0.990326\",\"0.921768\",\"0.797797\",\"2.52819\",\"0.88786\",\"0.734152\",\"1.02901\",\"0.738525\",\"2.06184\",\"3.04394\",\"1.54347\",\"0.848142\",\"2.57212\",\"0.717924\",\"0.863934\",\"1.1764\",\"0.688087\",\"0.758879\",\"0.846158\",\"1.18052\",\"0.836646\"],\"y\":[\"0.279373695981009\",\"0.295777957821231\",\"0.646786464428439\",\"0.330071142705964\",\"0.451433573161576\",\"0.362024439750679\",\"0.875972127455005\",\"0.270608683419161\",\"0.375525378574048\",\"0.719743890086505\",\"0.408292839983411\",\"0.359151453758449\",\"0.409081640029935\",\"0.392441741972309\",\"0.345868446447462\",\"0.274481812519752\",\"0.338186142045767\",\"0.765335809289458\",\"0.307508194248124\",\"0.616588994761839\",\"0.653103916953543\",\"0.341014184891298\",\"0.362725674275619\",\"0.406438146642359\",\"0.389593933565014\",\"0.391987910053973\",\"0.495751248838048\",\"0.51763008952597\",\"0.332815979108943\",\"0.424568757663849\",\"0.392139561503344\",\"0.325471165207687\",\"0.688170076055475\",\"0.351680668640449\",\"0.288966720117222\",\"0.438210566978354\",\"0.364992421944116\",\"0.640735394675267\",\"0.727201274669788\",\"0.545300253227284\",\"0.35584560558965\",\"0.694335788253178\",\"0.26437959235048\",\"0.355113657557157\",\"0.484344338410484\",\"0.282095414817342\",\"0.32225543857595\",\"0.34536305180426\",\"0.454616828199698\",\"0.344192153052767\"]}},\"id\":\"20153fd5-cc19-4852-b350-e678bf8fd856\",\"type\":\"ColumnDataSource\"},{\"attributes\":{\"bottom_units\":\"screen\",\"fill_alpha\":{\"value\":0.5},\"fill_color\":{\"value\":\"lightgrey\"},\"left_units\":\"screen\",\"level\":\"overlay\",\"line_alpha\":{\"value\":1.0},\"line_color\":{\"value\":\"black\"},\"line_dash\":[4,4],\"line_width\":{\"value\":2},\"plot\":null,\"render_mode\":\"css\",\"right_units\":\"screen\",\"top_units\":\"screen\"},\"id\":\"6d907bf5-85bc-4b1b-b75c-79f3d53588ec\",\"type\":\"BoxAnnotation\"},{\"attributes\":{},\"id\":\"c77eb977-12cf-4a47-a946-15b2a20164be\",\"type\":\"ToolEvents\"},{\"attributes\":{},\"id\":\"06bdf7f6-7967-4e4c-918a-96801ead2514\",\"type\":\"BasicTickFormatter\"},{\"attributes\":{\"below\":[{\"id\":\"94f012dc-1492-4525-968d-ad33d100d82b\",\"type\":\"LinearAxis\"}],\"left\":[{\"id\":\"937bcf92-1741-45d7-aea6-cd12711a6cc3\",\"type\":\"LinearAxis\"}],\"renderers\":[{\"id\":\"94f012dc-1492-4525-968d-ad33d100d82b\",\"type\":\"LinearAxis\"},{\"id\":\"35aafe9b-db7c-43a8-8fad-435962729afb\",\"type\":\"Grid\"},{\"id\":\"937bcf92-1741-45d7-aea6-cd12711a6cc3\",\"type\":\"LinearAxis\"},{\"id\":\"54f71d24-7163-4680-819a-4837380ac6dd\",\"type\":\"Grid\"},{\"id\":\"d4c13ee1-4289-4843-a885-5c7954e8454a\",\"type\":\"BoxAnnotation\"},{\"id\":\"24970aed-f631-4344-85fb-104f4dc5337d\",\"type\":\"GlyphRenderer\"}],\"tool_events\":{\"id\":\"2f859d45-1c3f-41f2-855d-e0b04f3d2d47\",\"type\":\"ToolEvents\"},\"tools\":[{\"id\":\"447700d3-ab85-4ec3-a62a-cbf0fd602e50\",\"type\":\"PanTool\"},{\"id\":\"a2ce0d76-dcc0-4be9-8779-19ad28fc884a\",\"type\":\"WheelZoomTool\"},{\"id\":\"badf2345-bffa-4d49-80c6-ce9138e6a53b\",\"type\":\"BoxZoomTool\"},{\"id\":\"6d79016d-40af-4ee6-adba-48eb9480e94d\",\"type\":\"PreviewSaveTool\"},{\"id\":\"89efe66a-61b9-42dc-8a4b-b19c10a07b63\",\"type\":\"ResizeTool\"},{\"id\":\"30b0d933-adb0-4ca3-8da4-70c55f697c06\",\"type\":\"ResetTool\"},{\"id\":\"8b46d585-09a4-488e-9579-f438caa92380\",\"type\":\"HelpTool\"}],\"x_range\":{\"id\":\"dc254b33-60ac-4b4c-946b-19c95a21c4de\",\"type\":\"DataRange1d\"},\"y_range\":{\"id\":\"0ff027f3-c06d-4753-87a2-6e5b5cdc68c1\",\"type\":\"DataRange1d\"}},\"id\":\"bfa1a7c0-9dbd-4b1c-bec2-834330483449\",\"subtype\":\"Figure\",\"type\":\"Plot\"},{\"attributes\":{},\"id\":\"0f1684d3-4911-4d2d-988a-0545042190bd\",\"type\":\"BasicTickFormatter\"},{\"attributes\":{\"callback\":null},\"id\":\"0ff027f3-c06d-4753-87a2-6e5b5cdc68c1\",\"type\":\"DataRange1d\"},{\"attributes\":{\"formatter\":{\"id\":\"36aeb3af-7e68-461b-8ebf-74f8bdbd8e5e\",\"type\":\"BasicTickFormatter\"},\"plot\":{\"id\":\"ac658439-d4bc-4b04-9e87-03c13dba31a0\",\"subtype\":\"Figure\",\"type\":\"Plot\"},\"ticker\":{\"id\":\"ed5bb9bc-9a59-464a-8ad4-90d9ec1d73f0\",\"type\":\"BasicTicker\"}},\"id\":\"8be3abd5-d78d-4fe9-a9fa-4c84c66ba661\",\"type\":\"LinearAxis\"},{\"attributes\":{\"plot\":{\"id\":\"6d607184-a30f-4e7b-b72a-3c110e60aa68\",\"subtype\":\"Figure\",\"type\":\"Plot\"}},\"id\":\"175a4334-7f7f-4f28-bbd9-d28c0819426f\",\"type\":\"PanTool\"},{\"attributes\":{\"overlay\":{\"id\":\"d1754d58-921f-4fc8-a327-54bfdb317afc\",\"type\":\"BoxAnnotation\"},\"plot\":{\"id\":\"ac658439-d4bc-4b04-9e87-03c13dba31a0\",\"subtype\":\"Figure\",\"type\":\"Plot\"}},\"id\":\"62ceb4e4-c0c3-4b4d-9958-b44bb05f2457\",\"type\":\"BoxZoomTool\"},{\"attributes\":{},\"id\":\"ed5bb9bc-9a59-464a-8ad4-90d9ec1d73f0\",\"type\":\"BasicTicker\"},{\"attributes\":{\"plot\":{\"id\":\"0d35f4f8-f3b0-43a7-8dd9-86ec0134ebe9\",\"subtype\":\"Figure\",\"type\":\"Plot\"}},\"id\":\"b1f99c7e-833a-4b77-a9b0-0d08d3d498fa\",\"type\":\"PreviewSaveTool\"},{\"attributes\":{\"callback\":null},\"id\":\"f3b3f2e3-8763-4dd8-958c-7b09035377ad\",\"type\":\"DataRange1d\"},{\"attributes\":{\"callback\":null,\"column_names\":[\"x\",\"y\"],\"data\":{\"x\":[\"0.737821\",\"0.695704\",\"2.07895\",\"0.829459\",\"1.12321\",\"0.8088\",\"7.45792\",\"0.719324\",\"0.902278\",\"2.96442\",\"0.98562\",\"0.820698\",\"0.952685\",\"0.917195\",\"0.76591\",\"0.728742\",\"0.783321\",\"3.58247\",\"0.766998\",\"1.88786\",\"2.20576\",\"0.807567\",\"1.05586\",\"1.06102\",\"0.948183\",\"0.911042\",\"1.26158\",\"1.37835\",\"0.784599\",\"0.990326\",\"0.921768\",\"0.797797\",\"2.52819\",\"0.88786\",\"0.734152\",\"1.02901\",\"0.738525\",\"2.06184\",\"3.04394\",\"1.54347\",\"0.848142\",\"2.57212\",\"0.717924\",\"0.863934\",\"1.1764\",\"0.688087\",\"0.758879\",\"0.846158\",\"1.18052\",\"0.836646\"],\"y\":[\"0.279373695981009\",\"0.295777957821231\",\"0.646786464428439\",\"0.330071142705964\",\"0.451433573161576\",\"0.362024439750679\",\"0.875972127455005\",\"0.270608683419161\",\"0.375525378574048\",\"0.719743890086505\",\"0.408292839983411\",\"0.359151453758449\",\"0.409081640029935\",\"0.392441741972309\",\"0.345868446447462\",\"0.274481812519752\",\"0.338186142045767\",\"0.765335809289458\",\"0.307508194248124\",\"0.616588994761839\",\"0.653103916953543\",\"0.341014184891298\",\"0.362725674275619\",\"0.406438146642359\",\"0.389593933565014\",\"0.391987910053973\",\"0.495751248838048\",\"0.51763008952597\",\"0.332815979108943\",\"0.424568757663849\",\"0.392139561503344\",\"0.325471165207687\",\"0.688170076055475\",\"0.351680668640449\",\"0.288966720117222\",\"0.438210566978354\",\"0.364992421944116\",\"0.640735394675267\",\"0.727201274669788\",\"0.545300253227284\",\"0.35584560558965\",\"0.694335788253178\",\"0.26437959235048\",\"0.355113657557157\",\"0.484344338410484\",\"0.282095414817342\",\"0.32225543857595\",\"0.34536305180426\",\"0.454616828199698\",\"0.344192153052767\"]}},\"id\":\"921ceb92-2da4-4517-92f7-af53050c12ac\",\"type\":\"ColumnDataSource\"},{\"attributes\":{\"fill_color\":{\"value\":\"#1f77b4\"},\"line_color\":{\"value\":\"#1f77b4\"},\"x\":{\"field\":\"x\"},\"y\":{\"field\":\"y\"}},\"id\":\"6ee29b77-73c9-410f-adb2-9ff25c9dc72f\",\"type\":\"Circle\"},{\"attributes\":{\"fill_color\":{\"value\":\"#1f77b4\"},\"line_color\":{\"value\":\"#1f77b4\"},\"x\":{\"field\":\"x\"},\"y\":{\"field\":\"y\"}},\"id\":\"179dbc0e-5cfe-4b46-b1e6-66470c528886\",\"type\":\"Circle\"},{\"attributes\":{},\"id\":\"0fcae739-fedb-4148-a188-b04f96f5b87f\",\"type\":\"BasicTickFormatter\"},{\"attributes\":{\"formatter\":{\"id\":\"717df717-4bb7-4b5b-bfcb-b4243c6e9c38\",\"type\":\"BasicTickFormatter\"},\"plot\":{\"id\":\"ac658439-d4bc-4b04-9e87-03c13dba31a0\",\"subtype\":\"Figure\",\"type\":\"Plot\"},\"ticker\":{\"id\":\"98941e59-11f9-4c83-a49e-2c694642dc69\",\"type\":\"BasicTicker\"}},\"id\":\"c8b985a1-802d-4018-9573-ac247e366d4d\",\"type\":\"LinearAxis\"},{\"attributes\":{\"callback\":null},\"id\":\"a9a277e2-32f4-441a-9e8f-b86b4b5b77b9\",\"type\":\"DataRange1d\"},{\"attributes\":{\"fill_alpha\":{\"value\":0.1},\"fill_color\":{\"value\":\"#1f77b4\"},\"line_alpha\":{\"value\":0.1},\"line_color\":{\"value\":\"#1f77b4\"},\"x\":{\"field\":\"x\"},\"y\":{\"field\":\"y\"}},\"id\":\"289c4d2d-1314-4631-bb6f-47627f141a03\",\"type\":\"Circle\"},{\"attributes\":{},\"id\":\"bb0c21f8-27b4-4892-afd3-5aab206206a7\",\"type\":\"ToolEvents\"},{\"attributes\":{},\"id\":\"36aeb3af-7e68-461b-8ebf-74f8bdbd8e5e\",\"type\":\"BasicTickFormatter\"},{\"attributes\":{\"plot\":{\"id\":\"bfa1a7c0-9dbd-4b1c-bec2-834330483449\",\"subtype\":\"Figure\",\"type\":\"Plot\"}},\"id\":\"89efe66a-61b9-42dc-8a4b-b19c10a07b63\",\"type\":\"ResizeTool\"},{\"attributes\":{\"fill_alpha\":{\"value\":0.1},\"fill_color\":{\"value\":\"#1f77b4\"},\"line_alpha\":{\"value\":0.1},\"line_color\":{\"value\":\"#1f77b4\"},\"x\":{\"field\":\"x\"},\"y\":{\"field\":\"y\"}},\"id\":\"2c14eeab-fd7c-4e21-a4bc-876cf87cb60d\",\"type\":\"Circle\"},{\"attributes\":{\"plot\":{\"id\":\"bfa1a7c0-9dbd-4b1c-bec2-834330483449\",\"subtype\":\"Figure\",\"type\":\"Plot\"}},\"id\":\"a2ce0d76-dcc0-4be9-8779-19ad28fc884a\",\"type\":\"WheelZoomTool\"},{\"attributes\":{\"plot\":{\"id\":\"0d35f4f8-f3b0-43a7-8dd9-86ec0134ebe9\",\"subtype\":\"Figure\",\"type\":\"Plot\"}},\"id\":\"ae7668d9-ca52-4b43-9c89-974d461fa7b9\",\"type\":\"ResetTool\"},{\"attributes\":{\"axis_label\":\"Pyrazinamide uptake (g PZA/ g MOF)\",\"formatter\":{\"id\":\"9a3c2fe9-1ab7-4fbc-8370-c36687f053f5\",\"type\":\"BasicTickFormatter\"},\"plot\":{\"id\":\"0d35f4f8-f3b0-43a7-8dd9-86ec0134ebe9\",\"subtype\":\"Figure\",\"type\":\"Plot\"},\"ticker\":{\"id\":\"957f430f-eaef-44c4-9620-2231f1410865\",\"type\":\"BasicTicker\"}},\"id\":\"84b7b1b6-9752-4f0b-88ba-5366de36d5ac\",\"type\":\"LinearAxis\"},{\"attributes\":{\"callback\":null},\"id\":\"2b23ac2b-a0ef-4dfc-92c0-2d8700118763\",\"type\":\"DataRange1d\"},{\"attributes\":{\"below\":[{\"id\":\"8be3abd5-d78d-4fe9-a9fa-4c84c66ba661\",\"type\":\"LinearAxis\"}],\"left\":[{\"id\":\"c8b985a1-802d-4018-9573-ac247e366d4d\",\"type\":\"LinearAxis\"}],\"renderers\":[{\"id\":\"8be3abd5-d78d-4fe9-a9fa-4c84c66ba661\",\"type\":\"LinearAxis\"},{\"id\":\"6d79e69d-de38-405f-b8e1-f60b876e64cd\",\"type\":\"Grid\"},{\"id\":\"c8b985a1-802d-4018-9573-ac247e366d4d\",\"type\":\"LinearAxis\"},{\"id\":\"767a3fbf-bcf3-42ea-9275-82e419df8828\",\"type\":\"Grid\"},{\"id\":\"d1754d58-921f-4fc8-a327-54bfdb317afc\",\"type\":\"BoxAnnotation\"},{\"id\":\"05bfd744-0765-44e7-865b-a3163a96614a\",\"type\":\"GlyphRenderer\"}],\"tool_events\":{\"id\":\"bb0c21f8-27b4-4892-afd3-5aab206206a7\",\"type\":\"ToolEvents\"},\"tools\":[{\"id\":\"838bcb3d-65d6-40f9-8c90-ec2562dc75e4\",\"type\":\"PanTool\"},{\"id\":\"6bcd7600-ef35-48f8-8668-cbc93ada25ed\",\"type\":\"WheelZoomTool\"},{\"id\":\"62ceb4e4-c0c3-4b4d-9958-b44bb05f2457\",\"type\":\"BoxZoomTool\"},{\"id\":\"06be9e5b-b83f-4681-a9c2-29cc51d1bbce\",\"type\":\"PreviewSaveTool\"},{\"id\":\"3ab0bc39-4090-4978-99de-3aeb21ffe063\",\"type\":\"ResizeTool\"},{\"id\":\"7dd450a7-4670-49ec-aff9-367a1033997a\",\"type\":\"ResetTool\"},{\"id\":\"9aa2394d-bbd0-4051-9332-cacf83330f3b\",\"type\":\"HelpTool\"}],\"x_range\":{\"id\":\"c7ecc968-8329-4e47-9711-906d6cbc023e\",\"type\":\"DataRange1d\"},\"y_range\":{\"id\":\"a9a277e2-32f4-441a-9e8f-b86b4b5b77b9\",\"type\":\"DataRange1d\"}},\"id\":\"ac658439-d4bc-4b04-9e87-03c13dba31a0\",\"subtype\":\"Figure\",\"type\":\"Plot\"},{\"attributes\":{},\"id\":\"2f859d45-1c3f-41f2-855d-e0b04f3d2d47\",\"type\":\"ToolEvents\"},{\"attributes\":{},\"id\":\"717df717-4bb7-4b5b-bfcb-b4243c6e9c38\",\"type\":\"BasicTickFormatter\"},{\"attributes\":{\"plot\":{\"id\":\"6d607184-a30f-4e7b-b72a-3c110e60aa68\",\"subtype\":\"Figure\",\"type\":\"Plot\"}},\"id\":\"e05cd770-30bf-419f-bbe0-dcd52f9bbcc2\",\"type\":\"HelpTool\"},{\"attributes\":{\"plot\":{\"id\":\"6d607184-a30f-4e7b-b72a-3c110e60aa68\",\"subtype\":\"Figure\",\"type\":\"Plot\"}},\"id\":\"e7adbcf5-cccf-42cd-941b-df9b040736e0\",\"type\":\"WheelZoomTool\"},{\"attributes\":{},\"id\":\"0dd645a7-da70-416f-80de-cb3bdc869d67\",\"type\":\"BasicTicker\"},{\"attributes\":{\"plot\":{\"id\":\"0d35f4f8-f3b0-43a7-8dd9-86ec0134ebe9\",\"subtype\":\"Figure\",\"type\":\"Plot\"},\"ticker\":{\"id\":\"4f4cba52-cfa0-45c9-830a-b9fae22d6f8b\",\"type\":\"BasicTicker\"}},\"id\":\"eb67b6d6-2e1c-4e3a-88cc-1d142045f469\",\"type\":\"Grid\"},{\"attributes\":{\"plot\":{\"id\":\"ac658439-d4bc-4b04-9e87-03c13dba31a0\",\"subtype\":\"Figure\",\"type\":\"Plot\"}},\"id\":\"9aa2394d-bbd0-4051-9332-cacf83330f3b\",\"type\":\"HelpTool\"},{\"attributes\":{\"fill_color\":{\"value\":\"#1f77b4\"},\"line_color\":{\"value\":\"#1f77b4\"},\"x\":{\"field\":\"x\"},\"y\":{\"field\":\"y\"}},\"id\":\"42c37663-a92e-4d23-a29e-229df089c80e\",\"type\":\"Circle\"},{\"attributes\":{\"formatter\":{\"id\":\"06bdf7f6-7967-4e4c-918a-96801ead2514\",\"type\":\"BasicTickFormatter\"},\"plot\":{\"id\":\"bfa1a7c0-9dbd-4b1c-bec2-834330483449\",\"subtype\":\"Figure\",\"type\":\"Plot\"},\"ticker\":{\"id\":\"15cb582b-8fb7-4af8-b786-7e3ebcbbf8f9\",\"type\":\"BasicTicker\"}},\"id\":\"94f012dc-1492-4525-968d-ad33d100d82b\",\"type\":\"LinearAxis\"},{\"attributes\":{},\"id\":\"98941e59-11f9-4c83-a49e-2c694642dc69\",\"type\":\"BasicTicker\"},{\"attributes\":{\"axis_label\":\"Pyrazinamide uptake (g PZA/ g MOF)\",\"formatter\":{\"id\":\"05e65cee-da3b-4bda-ab3a-20215f70e1cf\",\"type\":\"BasicTickFormatter\"},\"plot\":{\"id\":\"6d607184-a30f-4e7b-b72a-3c110e60aa68\",\"subtype\":\"Figure\",\"type\":\"Plot\"},\"ticker\":{\"id\":\"0dd645a7-da70-416f-80de-cb3bdc869d67\",\"type\":\"BasicTicker\"}},\"id\":\"8ebfc880-b0f3-4a4e-861d-2ff0f1227b46\",\"type\":\"LinearAxis\"},{\"attributes\":{\"plot\":{\"id\":\"ac658439-d4bc-4b04-9e87-03c13dba31a0\",\"subtype\":\"Figure\",\"type\":\"Plot\"}},\"id\":\"838bcb3d-65d6-40f9-8c90-ec2562dc75e4\",\"type\":\"PanTool\"},{\"attributes\":{},\"id\":\"8c02c973-ecfe-43be-b066-e0abbbbdf491\",\"type\":\"BasicTickFormatter\"},{\"attributes\":{\"plot\":{\"id\":\"6d607184-a30f-4e7b-b72a-3c110e60aa68\",\"subtype\":\"Figure\",\"type\":\"Plot\"},\"ticker\":{\"id\":\"e2f6766d-0ae5-4696-a300-cfbb243bf134\",\"type\":\"BasicTicker\"}},\"id\":\"93f35107-85ce-4e4b-8de4-1ac9dad5a3d4\",\"type\":\"Grid\"},{\"attributes\":{\"plot\":{\"id\":\"6d607184-a30f-4e7b-b72a-3c110e60aa68\",\"subtype\":\"Figure\",\"type\":\"Plot\"}},\"id\":\"b630330a-203b-4665-af3b-e4ac77c52eaa\",\"type\":\"ResetTool\"},{\"attributes\":{\"callback\":null},\"id\":\"dc254b33-60ac-4b4c-946b-19c95a21c4de\",\"type\":\"DataRange1d\"},{\"attributes\":{\"overlay\":{\"id\":\"d4c13ee1-4289-4843-a885-5c7954e8454a\",\"type\":\"BoxAnnotation\"},\"plot\":{\"id\":\"bfa1a7c0-9dbd-4b1c-bec2-834330483449\",\"subtype\":\"Figure\",\"type\":\"Plot\"}},\"id\":\"badf2345-bffa-4d49-80c6-ce9138e6a53b\",\"type\":\"BoxZoomTool\"},{\"attributes\":{},\"id\":\"957f430f-eaef-44c4-9620-2231f1410865\",\"type\":\"BasicTicker\"},{\"attributes\":{\"plot\":{\"id\":\"ac658439-d4bc-4b04-9e87-03c13dba31a0\",\"subtype\":\"Figure\",\"type\":\"Plot\"}},\"id\":\"7dd450a7-4670-49ec-aff9-367a1033997a\",\"type\":\"ResetTool\"},{\"attributes\":{\"plot\":{\"id\":\"6d607184-a30f-4e7b-b72a-3c110e60aa68\",\"subtype\":\"Figure\",\"type\":\"Plot\"}},\"id\":\"23b78556-dbd9-40cf-af1d-6bdeaac6039f\",\"type\":\"PreviewSaveTool\"},{\"attributes\":{},\"id\":\"e2f6766d-0ae5-4696-a300-cfbb243bf134\",\"type\":\"BasicTicker\"},{\"attributes\":{\"formatter\":{\"id\":\"0f1684d3-4911-4d2d-988a-0545042190bd\",\"type\":\"BasicTickFormatter\"},\"plot\":{\"id\":\"bfa1a7c0-9dbd-4b1c-bec2-834330483449\",\"subtype\":\"Figure\",\"type\":\"Plot\"},\"ticker\":{\"id\":\"9161d581-077d-4b86-ba39-4e7d84f10433\",\"type\":\"BasicTicker\"}},\"id\":\"937bcf92-1741-45d7-aea6-cd12711a6cc3\",\"type\":\"LinearAxis\"},{\"attributes\":{\"below\":[{\"id\":\"b77e9224-aae0-417d-8fd0-13b788bf2078\",\"type\":\"LinearAxis\"}],\"left\":[{\"id\":\"84b7b1b6-9752-4f0b-88ba-5366de36d5ac\",\"type\":\"LinearAxis\"}],\"plot_width\":1000,\"renderers\":[{\"id\":\"b77e9224-aae0-417d-8fd0-13b788bf2078\",\"type\":\"LinearAxis\"},{\"id\":\"eb67b6d6-2e1c-4e3a-88cc-1d142045f469\",\"type\":\"Grid\"},{\"id\":\"84b7b1b6-9752-4f0b-88ba-5366de36d5ac\",\"type\":\"LinearAxis\"},{\"id\":\"4b3545a4-369d-4318-86fd-b9795c51ea84\",\"type\":\"Grid\"},{\"id\":\"6d907bf5-85bc-4b1b-b75c-79f3d53588ec\",\"type\":\"BoxAnnotation\"},{\"id\":\"3aa72e01-4a3d-4850-b26c-a09e8e604f9b\",\"type\":\"GlyphRenderer\"}],\"title\":\"Isoniazide Uptake (g PZA/ g MOF)\",\"tool_events\":{\"id\":\"442a62cd-8ef7-4c4d-b03f-508332ba1fff\",\"type\":\"ToolEvents\"},\"tools\":[{\"id\":\"1c32f625-f21e-4f0f-b727-90bb5f8b483f\",\"type\":\"PanTool\"},{\"id\":\"f3539ba8-924d-4877-9c3e-00b2dcabecab\",\"type\":\"WheelZoomTool\"},{\"id\":\"89a6f116-f13d-4ace-ad4c-7624f9546667\",\"type\":\"BoxZoomTool\"},{\"id\":\"b1f99c7e-833a-4b77-a9b0-0d08d3d498fa\",\"type\":\"PreviewSaveTool\"},{\"id\":\"6e1bf427-b2f9-4f71-ac67-fbc4c9b855ad\",\"type\":\"ResizeTool\"},{\"id\":\"ae7668d9-ca52-4b43-9c89-974d461fa7b9\",\"type\":\"ResetTool\"},{\"id\":\"99d6986d-55dd-41c2-bd50-18ce4932d726\",\"type\":\"HelpTool\"}],\"x_range\":{\"id\":\"886f87b7-0929-4928-a7f4-38dae4fe46ff\",\"type\":\"DataRange1d\"},\"y_range\":{\"id\":\"2b23ac2b-a0ef-4dfc-92c0-2d8700118763\",\"type\":\"DataRange1d\"}},\"id\":\"0d35f4f8-f3b0-43a7-8dd9-86ec0134ebe9\",\"subtype\":\"Figure\",\"type\":\"Plot\"},{\"attributes\":{\"axis_label\":\"Pore Volume (cm\\u00b3/g)\",\"formatter\":{\"id\":\"0fcae739-fedb-4148-a188-b04f96f5b87f\",\"type\":\"BasicTickFormatter\"},\"plot\":{\"id\":\"6d607184-a30f-4e7b-b72a-3c110e60aa68\",\"subtype\":\"Figure\",\"type\":\"Plot\"},\"ticker\":{\"id\":\"e2f6766d-0ae5-4696-a300-cfbb243bf134\",\"type\":\"BasicTicker\"}},\"id\":\"e3a0f9e1-ef61-447c-bae0-a89f574230b1\",\"type\":\"LinearAxis\"},{\"attributes\":{\"plot\":{\"id\":\"6d607184-a30f-4e7b-b72a-3c110e60aa68\",\"subtype\":\"Figure\",\"type\":\"Plot\"}},\"id\":\"6ee47adf-31aa-430e-87a7-7e90130bea18\",\"type\":\"ResizeTool\"},{\"attributes\":{\"dimension\":1,\"plot\":{\"id\":\"0d35f4f8-f3b0-43a7-8dd9-86ec0134ebe9\",\"subtype\":\"Figure\",\"type\":\"Plot\"},\"ticker\":{\"id\":\"957f430f-eaef-44c4-9620-2231f1410865\",\"type\":\"BasicTicker\"}},\"id\":\"4b3545a4-369d-4318-86fd-b9795c51ea84\",\"type\":\"Grid\"},{\"attributes\":{\"plot\":{\"id\":\"bfa1a7c0-9dbd-4b1c-bec2-834330483449\",\"subtype\":\"Figure\",\"type\":\"Plot\"}},\"id\":\"6d79016d-40af-4ee6-adba-48eb9480e94d\",\"type\":\"PreviewSaveTool\"},{\"attributes\":{\"callback\":null},\"id\":\"ca9df7c7-ba2b-4f18-9aed-896d6ffa0bb8\",\"type\":\"DataRange1d\"},{\"attributes\":{\"plot\":{\"id\":\"bfa1a7c0-9dbd-4b1c-bec2-834330483449\",\"subtype\":\"Figure\",\"type\":\"Plot\"}},\"id\":\"8b46d585-09a4-488e-9579-f438caa92380\",\"type\":\"HelpTool\"},{\"attributes\":{\"fill_alpha\":{\"value\":0.1},\"fill_color\":{\"value\":\"#1f77b4\"},\"line_alpha\":{\"value\":0.1},\"line_color\":{\"value\":\"#1f77b4\"},\"x\":{\"field\":\"x\"},\"y\":{\"field\":\"y\"}},\"id\":\"d4966cc9-59b9-46bb-92a5-6f692f695cee\",\"type\":\"Circle\"},{\"attributes\":{},\"id\":\"9a3c2fe9-1ab7-4fbc-8370-c36687f053f5\",\"type\":\"BasicTickFormatter\"},{\"attributes\":{\"plot\":{\"id\":\"0d35f4f8-f3b0-43a7-8dd9-86ec0134ebe9\",\"subtype\":\"Figure\",\"type\":\"Plot\"}},\"id\":\"1c32f625-f21e-4f0f-b727-90bb5f8b483f\",\"type\":\"PanTool\"},{\"attributes\":{\"data_source\":{\"id\":\"921ceb92-2da4-4517-92f7-af53050c12ac\",\"type\":\"ColumnDataSource\"},\"glyph\":{\"id\":\"42c37663-a92e-4d23-a29e-229df089c80e\",\"type\":\"Circle\"},\"hover_glyph\":null,\"nonselection_glyph\":{\"id\":\"d4966cc9-59b9-46bb-92a5-6f692f695cee\",\"type\":\"Circle\"},\"selection_glyph\":null},\"id\":\"24970aed-f631-4344-85fb-104f4dc5337d\",\"type\":\"GlyphRenderer\"},{\"attributes\":{\"below\":[{\"id\":\"e3a0f9e1-ef61-447c-bae0-a89f574230b1\",\"type\":\"LinearAxis\"}],\"left\":[{\"id\":\"8ebfc880-b0f3-4a4e-861d-2ff0f1227b46\",\"type\":\"LinearAxis\"}],\"plot_width\":1000,\"renderers\":[{\"id\":\"e3a0f9e1-ef61-447c-bae0-a89f574230b1\",\"type\":\"LinearAxis\"},{\"id\":\"93f35107-85ce-4e4b-8de4-1ac9dad5a3d4\",\"type\":\"Grid\"},{\"id\":\"8ebfc880-b0f3-4a4e-861d-2ff0f1227b46\",\"type\":\"LinearAxis\"},{\"id\":\"9c20cfff-1720-49a7-b959-b3cdbfd47e13\",\"type\":\"Grid\"},{\"id\":\"37bd779a-7788-4f4d-af63-e413f4c23b26\",\"type\":\"BoxAnnotation\"}],\"title\":\"Isoniazide Uptake (g PZA/ g MOF)\",\"tool_events\":{\"id\":\"c77eb977-12cf-4a47-a946-15b2a20164be\",\"type\":\"ToolEvents\"},\"tools\":[{\"id\":\"175a4334-7f7f-4f28-bbd9-d28c0819426f\",\"type\":\"PanTool\"},{\"id\":\"e7adbcf5-cccf-42cd-941b-df9b040736e0\",\"type\":\"WheelZoomTool\"},{\"id\":\"09bd5a63-831e-485e-8e1d-686be678725e\",\"type\":\"BoxZoomTool\"},{\"id\":\"23b78556-dbd9-40cf-af1d-6bdeaac6039f\",\"type\":\"PreviewSaveTool\"},{\"id\":\"6ee47adf-31aa-430e-87a7-7e90130bea18\",\"type\":\"ResizeTool\"},{\"id\":\"b630330a-203b-4665-af3b-e4ac77c52eaa\",\"type\":\"ResetTool\"},{\"id\":\"e05cd770-30bf-419f-bbe0-dcd52f9bbcc2\",\"type\":\"HelpTool\"}],\"x_range\":{\"id\":\"f3b3f2e3-8763-4dd8-958c-7b09035377ad\",\"type\":\"DataRange1d\"},\"y_range\":{\"id\":\"ca9df7c7-ba2b-4f18-9aed-896d6ffa0bb8\",\"type\":\"DataRange1d\"}},\"id\":\"6d607184-a30f-4e7b-b72a-3c110e60aa68\",\"subtype\":\"Figure\",\"type\":\"Plot\"},{\"attributes\":{\"data_source\":{\"id\":\"20153fd5-cc19-4852-b350-e678bf8fd856\",\"type\":\"ColumnDataSource\"},\"glyph\":{\"id\":\"6ee29b77-73c9-410f-adb2-9ff25c9dc72f\",\"type\":\"Circle\"},\"hover_glyph\":null,\"nonselection_glyph\":{\"id\":\"2c14eeab-fd7c-4e21-a4bc-876cf87cb60d\",\"type\":\"Circle\"},\"selection_glyph\":null},\"id\":\"3aa72e01-4a3d-4850-b26c-a09e8e604f9b\",\"type\":\"GlyphRenderer\"},{\"attributes\":{\"plot\":{\"id\":\"bfa1a7c0-9dbd-4b1c-bec2-834330483449\",\"subtype\":\"Figure\",\"type\":\"Plot\"}},\"id\":\"30b0d933-adb0-4ca3-8da4-70c55f697c06\",\"type\":\"ResetTool\"},{\"attributes\":{\"plot\":{\"id\":\"bfa1a7c0-9dbd-4b1c-bec2-834330483449\",\"subtype\":\"Figure\",\"type\":\"Plot\"}},\"id\":\"447700d3-ab85-4ec3-a62a-cbf0fd602e50\",\"type\":\"PanTool\"},{\"attributes\":{\"plot\":{\"id\":\"ac658439-d4bc-4b04-9e87-03c13dba31a0\",\"subtype\":\"Figure\",\"type\":\"Plot\"},\"ticker\":{\"id\":\"ed5bb9bc-9a59-464a-8ad4-90d9ec1d73f0\",\"type\":\"BasicTicker\"}},\"id\":\"6d79e69d-de38-405f-b8e1-f60b876e64cd\",\"type\":\"Grid\"},{\"attributes\":{\"overlay\":{\"id\":\"37bd779a-7788-4f4d-af63-e413f4c23b26\",\"type\":\"BoxAnnotation\"},\"plot\":{\"id\":\"6d607184-a30f-4e7b-b72a-3c110e60aa68\",\"subtype\":\"Figure\",\"type\":\"Plot\"}},\"id\":\"09bd5a63-831e-485e-8e1d-686be678725e\",\"type\":\"BoxZoomTool\"}],\"root_ids\":[\"ac658439-d4bc-4b04-9e87-03c13dba31a0\",\"bfa1a7c0-9dbd-4b1c-bec2-834330483449\",\"6d607184-a30f-4e7b-b72a-3c110e60aa68\",\"0d35f4f8-f3b0-43a7-8dd9-86ec0134ebe9\"]},\"title\":\"Bokeh Application\",\"version\":\"0.11.1\"}};\n",
       "            var render_items = [{\"docid\":\"08f413b4-4304-4e42-8386-b1f056e4d16c\",\"elementid\":\"b1d0e083-1ce3-4dbd-a309-d41c41a3182f\",\"modelid\":\"0d35f4f8-f3b0-43a7-8dd9-86ec0134ebe9\",\"notebook_comms_target\":\"667cc1d6-55b9-4f5c-b3f1-dfa88d36dd76\"}];\n",
       "            \n",
       "            Bokeh.embed.embed_items(docs_json, render_items);\n",
       "        });\n",
       "      },\n",
       "      function(Bokeh) {\n",
       "      }\n",
       "    ];\n",
       "  \n",
       "    function run_inline_js() {\n",
       "      for (var i = 0; i < inline_js.length; i++) {\n",
       "        inline_js[i](window.Bokeh);\n",
       "      }\n",
       "    }\n",
       "  \n",
       "    if (window._bokeh_is_loading === 0) {\n",
       "      console.log(\"Bokeh: BokehJS loaded, going straight to plotting\");\n",
       "      run_inline_js();\n",
       "    } else {\n",
       "      load_libs(js_urls, function() {\n",
       "        console.log(\"Bokeh: BokehJS plotting callback run at\", now());\n",
       "        run_inline_js();\n",
       "      });\n",
       "    }\n",
       "  }(this));\n",
       "</script>"
      ]
     },
     "metadata": {},
     "output_type": "display_data"
    },
    {
     "data": {
      "text/html": [
       "\n",
       "    <div class=\"bk-banner\">\n",
       "        <a href=\"http://bokeh.pydata.org\" target=\"_blank\" class=\"bk-logo bk-logo-small bk-logo-notebook\"></a>\n",
       "        <span id=\"50f87f1b-8609-4582-afb3-17854ecd3911\">Loading BokehJS ...</span>\n",
       "    </div>"
      ]
     },
     "metadata": {},
     "output_type": "display_data"
    },
    {
     "data": {
      "application/javascript": [
       "\n",
       "(function(global) {\n",
       "  function now() {\n",
       "    return new Date();\n",
       "  }\n",
       "\n",
       "  if (typeof (window._bokeh_onload_callbacks) === \"undefined\") {\n",
       "    window._bokeh_onload_callbacks = [];\n",
       "  }\n",
       "\n",
       "  function run_callbacks() {\n",
       "    window._bokeh_onload_callbacks.forEach(function(callback) { callback() });\n",
       "    delete window._bokeh_onload_callbacks\n",
       "    console.info(\"Bokeh: all callbacks have finished\");\n",
       "  }\n",
       "\n",
       "  function load_libs(js_urls, callback) {\n",
       "    window._bokeh_onload_callbacks.push(callback);\n",
       "    if (window._bokeh_is_loading > 0) {\n",
       "      console.log(\"Bokeh: BokehJS is being loaded, scheduling callback at\", now());\n",
       "      return null;\n",
       "    }\n",
       "    if (js_urls == null || js_urls.length === 0) {\n",
       "      run_callbacks();\n",
       "      return null;\n",
       "    }\n",
       "    console.log(\"Bokeh: BokehJS not loaded, scheduling load and callback at\", now());\n",
       "    window._bokeh_is_loading = js_urls.length;\n",
       "    for (var i = 0; i < js_urls.length; i++) {\n",
       "      var url = js_urls[i];\n",
       "      var s = document.createElement('script');\n",
       "      s.src = url;\n",
       "      s.async = false;\n",
       "      s.onreadystatechange = s.onload = function() {\n",
       "        window._bokeh_is_loading--;\n",
       "        if (window._bokeh_is_loading === 0) {\n",
       "          console.log(\"Bokeh: all BokehJS libraries loaded\");\n",
       "          run_callbacks()\n",
       "        }\n",
       "      };\n",
       "      s.onerror = function() {\n",
       "        console.warn(\"failed to load library \" + url);\n",
       "      };\n",
       "      console.log(\"Bokeh: injecting script tag for BokehJS library: \", url);\n",
       "      document.getElementsByTagName(\"head\")[0].appendChild(s);\n",
       "    }\n",
       "  };\n",
       "\n",
       "  var js_urls = ['https://cdn.pydata.org/bokeh/release/bokeh-0.11.1.min.js', 'https://cdn.pydata.org/bokeh/release/bokeh-widgets-0.11.1.min.js', 'https://cdn.pydata.org/bokeh/release/bokeh-compiler-0.11.1.min.js'];\n",
       "\n",
       "  var inline_js = [\n",
       "    function(Bokeh) {\n",
       "      Bokeh.set_log_level(\"info\");\n",
       "    },\n",
       "    \n",
       "    function(Bokeh) {\n",
       "      Bokeh.$(\"#50f87f1b-8609-4582-afb3-17854ecd3911\").text(\"BokehJS successfully loaded\");\n",
       "    },\n",
       "    function(Bokeh) {\n",
       "      console.log(\"Bokeh: injecting CSS: https://cdn.pydata.org/bokeh/release/bokeh-0.11.1.min.css\");\n",
       "      Bokeh.embed.inject_css(\"https://cdn.pydata.org/bokeh/release/bokeh-0.11.1.min.css\");\n",
       "      console.log(\"Bokeh: injecting CSS: https://cdn.pydata.org/bokeh/release/bokeh-widgets-0.11.1.min.css\");\n",
       "      Bokeh.embed.inject_css(\"https://cdn.pydata.org/bokeh/release/bokeh-widgets-0.11.1.min.css\");\n",
       "    }\n",
       "  ];\n",
       "\n",
       "  function run_inline_js() {\n",
       "    for (var i = 0; i < inline_js.length; i++) {\n",
       "      inline_js[i](window.Bokeh);\n",
       "    }\n",
       "  }\n",
       "\n",
       "  if (window._bokeh_is_loading === 0) {\n",
       "    console.log(\"Bokeh: BokehJS loaded, going straight to plotting\");\n",
       "    run_inline_js();\n",
       "  } else {\n",
       "    load_libs(js_urls, function() {\n",
       "      console.log(\"Bokeh: BokehJS plotting callback run at\", now());\n",
       "      run_inline_js();\n",
       "    });\n",
       "  }\n",
       "}(this));"
      ]
     },
     "metadata": {},
     "output_type": "display_data"
    }
   ],
   "source": [
    "p = figure(plot_width=1000, plot_height=600,\n",
    "           title='Pyrazinamide Uptake (g PZA/ g MOF)')\n",
    "\n",
    "p.xaxis.axis_label = 'Pore Volume (cm³/g)'\n",
    "p.yaxis.axis_label = 'Pyrazinamide uptake (g PZA/ g MOF)'\n",
    "\n",
    "p.circle(data['vp'], data['pza'])\n",
    "show(p)\n",
    "output_notebook()"
   ]
  },
  {
   "cell_type": "markdown",
   "metadata": {
    "collapsed": true
   },
   "source": [
    "### Customizing markers"
   ]
  },
  {
   "cell_type": "code",
   "execution_count": null,
   "metadata": {
    "collapsed": true
   },
   "outputs": [],
   "source": [
    "p = figure(plot_width=1000, plot_height=600,\n",
    "           title='Pyrazinamide Uptake (g PZA/ g MOF)')\n",
    "\n",
    "p.xaxis.axis_label = 'Pore Volume (cm³/g)'\n",
    "p.yaxis.axis_label = 'Pyrazinamide uptake (g PZA/ g MOF)'\n",
    "\n",
    "p.circle(data['vp'], data['pza'],\n",
    "         size=18,\n",
    "         fill_color='salmon',\n",
    "         fill_alpha=0.6,\n",
    "         line_color=\"darkred\")\n",
    "\n",
    "show(p)\n",
    "output_notebook()"
   ]
  },
  {
   "cell_type": "markdown",
   "metadata": {},
   "source": [
    "### Adding toolbar"
   ]
  },
  {
   "cell_type": "code",
   "execution_count": null,
   "metadata": {
    "collapsed": true
   },
   "outputs": [],
   "source": [
    "p = figure(plot_width=1000, plot_height=600, title='Pyrazinamide Uptake (g PZA/ g MOF)',\n",
    "           tools=[\"pan\", \"wheel_zoom\", \"box_zoom\", \"reset\", \"tap\"],\n",
    "           toolbar_location='right')\n",
    "\n",
    "p.xaxis.axis_label = 'Pore Volume (cm³/g)'\n",
    "p.yaxis.axis_label = 'Pyrazinamide uptake (g PZA/ g MOF)'\n",
    "\n",
    "p.circle(data['vp'], data['pza'],\n",
    "         size=18,\n",
    "         fill_color='salmon',\n",
    "         fill_alpha=0.6,\n",
    "         line_color=\"darkred\")\n",
    "\n",
    "show(p)\n",
    "output_notebook()"
   ]
  },
  {
   "cell_type": "markdown",
   "metadata": {
    "collapsed": true
   },
   "source": [
    "## Adding hover tool"
   ]
  },
  {
   "cell_type": "markdown",
   "metadata": {},
   "source": [
    "### Reading images"
   ]
  },
  {
   "cell_type": "code",
   "execution_count": null,
   "metadata": {
    "collapsed": true
   },
   "outputs": [],
   "source": [
    "import os\n",
    "\n",
    "img_dir = '/home/kutay/Documents/git/visualization/sciviscomm/img'\n",
    "\n",
    "img_dir = 'assets/img/mofs'\n",
    "data['images'] = [os.path.join(img_dir, '%s.svg' % i) for i in data['mof']]"
   ]
  },
  {
   "cell_type": "code",
   "execution_count": null,
   "metadata": {
    "collapsed": true
   },
   "outputs": [],
   "source": [
    "from bokeh.models import HoverTool\n",
    "\n",
    "hover = HoverTool(\n",
    "        tooltips=\"\"\"\n",
    "        <div>\n",
    "          <img\n",
    "              src=\"@images\" height=\"180\" width=\"200\"\n",
    "              style=\"float: left; margin: 0px 0px 0px 0px;\"\n",
    "          ></img>\n",
    "            <div>\n",
    "                <span style=\"font-size: 17px; font-weight: bold;\">@mof</span>\n",
    "            </div>\n",
    "        </div>\n",
    "        \"\"\"\n",
    "    )"
   ]
  },
  {
   "cell_type": "code",
   "execution_count": null,
   "metadata": {
    "collapsed": true
   },
   "outputs": [],
   "source": [
    "from bokeh.plotting import ColumnDataSource\n",
    "from bokeh.plotting import output_file\n",
    "\n",
    "source = ColumnDataSource(data=data)\n",
    "\n",
    "p = figure(plot_width=1000, plot_height=600,\n",
    "           title='Pyrazinamide Uptake (g PZA/ g MOF)',\n",
    "           tools=[hover, \"pan\", \"wheel_zoom\", \"box_zoom\", \"reset\", \"tap\"],\n",
    "           toolbar_location='right')\n",
    "\n",
    "p.xaxis.axis_label = 'Pore Volume (cm³/g)'\n",
    "p.yaxis.axis_label = 'Pyrazinamide uptake (g PZA/ g MOF)'\n",
    "\n",
    "p.circle('vp', 'pza',\n",
    "         source=source,\n",
    "         size=18,\n",
    "         fill_color='salmon',\n",
    "         fill_alpha=0.5,\n",
    "         line_color=\"darkred\")\n",
    "\n",
    "show(p)\n",
    "output_notebook()\n",
    "output_file('test.html')"
   ]
  },
  {
   "cell_type": "markdown",
   "metadata": {
    "collapsed": true
   },
   "source": [
    "## Final plot"
   ]
  },
  {
   "cell_type": "code",
   "execution_count": null,
   "metadata": {
    "collapsed": true
   },
   "outputs": [],
   "source": [
    "hover = HoverTool(\n",
    "        tooltips=\"\"\"\n",
    "        <div>\n",
    "          <img\n",
    "              src=\"@images\" height=\"180\" alt=\"@images\" width=\"200\"\n",
    "              style=\"float: left; margin: 0px 0px 0px 0px;\"\n",
    "          ></img>\n",
    "            <div>\n",
    "                <span style=\"font-size: 17px; font-weight: bold;\">@mof</span>\n",
    "            </div>\n",
    "            <div>\n",
    "                <span style=\"font-size: 14px; font-weight: bold;\">Metal: </span>\n",
    "                <span style=\"font-size: 14px; color: #f44283;\">@metal</span>\n",
    "            </div>\n",
    "            <div>\n",
    "                <span style=\"font-size: 14px; font-weight: bold;\">V<sub>f</sub>: </span>\n",
    "                <span style=\"font-size: 14px; color: #f44283;\">@vf</span>\n",
    "            </div>\n",
    "            <div>\n",
    "                <span style=\"font-size: 14px; font-weight: bold;\">Surface Area: </span>\n",
    "                <span style=\"font-size: 14px; color: #f44283;\">@sa</span>\n",
    "            </div>\n",
    "            <div>\n",
    "                <span style=\"font-size: 14px; font-weight: bold;\">Pore diameter: </span>\n",
    "                <span style=\"font-size: 14px; color: #f44283;\">@dia</span>\n",
    "            </div>\n",
    "        </div>\n",
    "        \"\"\"\n",
    "    )\n",
    "\n",
    "p = figure(plot_width=1000, plot_height=600,\n",
    "           title='Pyrazinamide Uptake (g PZA/ g MOF)',\n",
    "           tools=[hover, \"pan\", \"wheel_zoom\", \"box_zoom\", \"reset\", \"tap\"],\n",
    "           toolbar_location='right')\n",
    "\n",
    "p.xaxis.axis_label = 'Pore Volume (cm³/g)'\n",
    "p.yaxis.axis_label = 'Pyrazinamide uptake (g PZA/ g MOF)'\n",
    "\n",
    "p.circle('vp', 'pza',\n",
    "         source=source,\n",
    "         size=18,\n",
    "         fill_color='salmon',\n",
    "         fill_alpha=0.5,\n",
    "         line_color=\"darkred\",\n",
    "         nonselection_fill_color=\"salmon\",\n",
    "         nonselection_line_color=\"darkred\",\n",
    "         nonselection_fill_alpha=0.5,\n",
    "         nonselection_line_alpha=1.0,\n",
    "         selection_fill_alpha=0.5,\n",
    "         selection_fill_color=\"blue\",\n",
    "         selection_line_color=\"darkred\")\n",
    "\n",
    "p.ygrid.grid_line_alpha = 0.2\n",
    "p.xgrid.grid_line_color = None\n",
    "\n",
    "show(p)\n",
    "output_notebook()\n",
    "output_file('test.html')"
   ]
  },
  {
   "cell_type": "markdown",
   "metadata": {},
   "source": [
    "### Embed html"
   ]
  },
  {
   "cell_type": "code",
   "execution_count": null,
   "metadata": {
    "collapsed": true
   },
   "outputs": [],
   "source": [
    "from bokeh.resources import CDN\n",
    "from bokeh.embed import file_html\n",
    "\n",
    "html = file_html(p, CDN, \"PZA uptake\")\n",
    "with open('pza.html', 'w') as html_file:\n",
    "    html_file.write(html)"
   ]
  },
  {
   "cell_type": "code",
   "execution_count": null,
   "metadata": {
    "collapsed": true
   },
   "outputs": [],
   "source": []
  }
 ],
 "metadata": {
  "kernelspec": {
   "display_name": "Python 3",
   "language": "python",
   "name": "python3"
  },
  "language_info": {
   "codemirror_mode": {
    "name": "ipython",
    "version": 3
   },
   "file_extension": ".py",
   "mimetype": "text/x-python",
   "name": "python",
   "nbconvert_exporter": "python",
   "pygments_lexer": "ipython3",
   "version": "3.5.2"
  }
 },
 "nbformat": 4,
 "nbformat_minor": 1
}
