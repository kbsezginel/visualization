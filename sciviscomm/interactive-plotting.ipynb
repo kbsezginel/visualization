{
 "cells": [
  {
   "cell_type": "code",
   "execution_count": 2,
   "metadata": {
    "collapsed": true
   },
   "outputs": [],
   "source": [
    "import csv\n",
    "from bokeh.plotting import figure, output_file, show, ColumnDataSource, output_notebook\n",
    "from bokeh.models import HoverTool\n",
    "from bokeh.resources import CDN\n",
    "from bokeh.embed import file_html\n",
    "%matplotlib inline"
   ]
  },
  {
   "cell_type": "markdown",
   "metadata": {},
   "source": [
    "## Read data from csv file\n",
    "Log order: Score, RMSD, minRMSD, Ads, Energy"
   ]
  },
  {
   "cell_type": "code",
   "execution_count": 3,
   "metadata": {
    "collapsed": true
   },
   "outputs": [],
   "source": [
    "rows = []\n",
    "with open('dmog.csv') as csvfile:\n",
    "    reader = csv.reader(csvfile)\n",
    "    for row in reader:\n",
    "        rows.append(row)"
   ]
  },
  {
   "cell_type": "code",
   "execution_count": 4,
   "metadata": {
    "collapsed": true
   },
   "outputs": [],
   "source": [
    "x_data = [i[1] for i in rows]\n",
    "y_data = [i[3] for i in rows]"
   ]
  },
  {
   "cell_type": "code",
   "execution_count": 6,
   "metadata": {},
   "outputs": [
    {
     "data": {
      "text/html": [
       "\n",
       "\n",
       "    <div class=\"plotdiv\" id=\"3032643a-2f2a-42e2-ac68-379514194738\"></div>\n",
       "<script type=\"text/javascript\">\n",
       "  \n",
       "  (function(global) {\n",
       "    function now() {\n",
       "      return new Date();\n",
       "    }\n",
       "  \n",
       "    if (typeof (window._bokeh_onload_callbacks) === \"undefined\") {\n",
       "      window._bokeh_onload_callbacks = [];\n",
       "    }\n",
       "  \n",
       "    function run_callbacks() {\n",
       "      window._bokeh_onload_callbacks.forEach(function(callback) { callback() });\n",
       "      delete window._bokeh_onload_callbacks\n",
       "      console.info(\"Bokeh: all callbacks have finished\");\n",
       "    }\n",
       "  \n",
       "    function load_libs(js_urls, callback) {\n",
       "      window._bokeh_onload_callbacks.push(callback);\n",
       "      if (window._bokeh_is_loading > 0) {\n",
       "        console.log(\"Bokeh: BokehJS is being loaded, scheduling callback at\", now());\n",
       "        return null;\n",
       "      }\n",
       "      if (js_urls == null || js_urls.length === 0) {\n",
       "        run_callbacks();\n",
       "        return null;\n",
       "      }\n",
       "      console.log(\"Bokeh: BokehJS not loaded, scheduling load and callback at\", now());\n",
       "      window._bokeh_is_loading = js_urls.length;\n",
       "      for (var i = 0; i < js_urls.length; i++) {\n",
       "        var url = js_urls[i];\n",
       "        var s = document.createElement('script');\n",
       "        s.src = url;\n",
       "        s.async = false;\n",
       "        s.onreadystatechange = s.onload = function() {\n",
       "          window._bokeh_is_loading--;\n",
       "          if (window._bokeh_is_loading === 0) {\n",
       "            console.log(\"Bokeh: all BokehJS libraries loaded\");\n",
       "            run_callbacks()\n",
       "          }\n",
       "        };\n",
       "        s.onerror = function() {\n",
       "          console.warn(\"failed to load library \" + url);\n",
       "        };\n",
       "        console.log(\"Bokeh: injecting script tag for BokehJS library: \", url);\n",
       "        document.getElementsByTagName(\"head\")[0].appendChild(s);\n",
       "      }\n",
       "    };var element = document.getElementById(\"3032643a-2f2a-42e2-ac68-379514194738\");\n",
       "    if (element == null) {\n",
       "      console.log(\"Bokeh: ERROR: autoload.js configured with elementid '3032643a-2f2a-42e2-ac68-379514194738' but no matching script tag was found. \")\n",
       "      return false;\n",
       "    }\n",
       "  \n",
       "    var js_urls = [];\n",
       "  \n",
       "    var inline_js = [\n",
       "      function(Bokeh) {\n",
       "        Bokeh.$(function() {\n",
       "            var docs_json = {\"98e4d5e0-ca00-4b94-aeca-3224b15cd12e\":{\"roots\":{\"references\":[{\"attributes\":{\"plot\":{\"id\":\"6a7330fe-aad6-4ddb-ab3d-095bd1240d3b\",\"subtype\":\"Figure\",\"type\":\"Plot\"}},\"id\":\"01023f5b-f7fc-42b9-8e1f-e088139e70a6\",\"type\":\"ResetTool\"},{\"attributes\":{\"callback\":null,\"column_names\":[\"y\",\"x\"],\"data\":{\"x\":[\"1.1554175766425961e-17\",\"1.1554175766425961e-17\",\"0.020659235573341338\",\"0.039845478745644466\",\"0.039845478745644466\",\"0.04705843229470825\",\"0.04705843229470825\",\"0.0605047143189858\",\"0.06771766786804959\",\"0.08690391104035271\",\"0.08690391104035271\",\"0.10756314661369405\",\"0.11198183494214999\",\"0.11198183494214999\",\"0.11198183494214999\",\"0.11198183494214999\",\"0.11846433459128293\",\"0.11846433459128293\",\"0.1326410705154913\",\"0.1326410705154913\",\"0.1336829560507545\",\"0.1336829560507545\",\"0.1382274999748166\",\"0.1382274999748166\",\"0.14237584657012017\",\"0.14237584657012017\",\"0.14237584657012017\",\"0.14237584657012017\",\"0.1442322218791595\",\"0.1442322218791595\",\"0.15755313729677287\",\"0.15755313729677287\",\"0.15770573416141404\",\"0.15770573416141404\",\"0.15904026723685824\",\"0.15904026723685824\",\"0.15904026723685824\",\"0.15904026723685824\",\"0.16040993561924655\",\"0.16040993561924655\",\"0.16303508214346155\",\"0.16303508214346155\",\"0.168254999989819\",\"0.168254999989819\",\"0.17780110904880347\",\"0.17780110904880347\",\"0.17969950281019953\",\"0.17969950281019953\",\"0.18222132531576463\",\"0.18222132531576463\"],\"y\":[\"3.917\",\"3.913\",\"3.357\",\"5.106\",\"5.109\",\"3.685\",\"3.68\",\"5.714\",\"2.87\",\"4.874\",\"4.878\",\"5.679\",\"5.098\",\"3.966\",\"3.962\",\"5.095\",\"4.439\",\"4.442\",\"4.703\",\"4.699\",\"4.556\",\"4.553\",\"4.172\",\"4.172\",\"3.881\",\"3.629\",\"3.623\",\"3.876\",\"4.449\",\"4.454\",\"5.501\",\"5.502\",\"5.459\",\"5.455\",\"5.095\",\"3.513\",\"3.508\",\"5.084\",\"3.999\",\"3.994\",\"3.003\",\"3.003\",\"3.709\",\"3.702\",\"4.012\",\"4.005\",\"4.49\",\"4.483\",\"5.064\",\"5.068\"]}},\"id\":\"ff94bddc-a4fb-4da9-bec1-067cf9e1be28\",\"type\":\"ColumnDataSource\"},{\"attributes\":{},\"id\":\"d9ddf4b4-0bb6-4b13-b3d5-4fb5da7db5e2\",\"type\":\"ToolEvents\"},{\"attributes\":{\"callback\":null,\"plot\":{\"id\":\"6a7330fe-aad6-4ddb-ab3d-095bd1240d3b\",\"subtype\":\"Figure\",\"type\":\"Plot\"}},\"id\":\"165b8e70-8b67-4838-8739-b0e8aa6cba58\",\"type\":\"TapTool\"},{\"attributes\":{\"plot\":{\"id\":\"6a7330fe-aad6-4ddb-ab3d-095bd1240d3b\",\"subtype\":\"Figure\",\"type\":\"Plot\"}},\"id\":\"422bab0d-c92e-4550-a76e-73524130bb4e\",\"type\":\"PanTool\"},{\"attributes\":{\"plot\":{\"id\":\"a712309e-7dd1-45ba-8170-68dc18ede5fd\",\"subtype\":\"Figure\",\"type\":\"Plot\"},\"ticker\":{\"id\":\"06b988d3-35f8-43b1-9a98-7c121f54cabc\",\"type\":\"BasicTicker\"}},\"id\":\"144a7916-8ad2-4b2d-813f-409b8fd7772a\",\"type\":\"Grid\"},{\"attributes\":{\"data_source\":{\"id\":\"2dba0b3a-16ea-4c7a-a0d1-5a81788ed070\",\"type\":\"ColumnDataSource\"},\"glyph\":{\"id\":\"7df19710-cd8e-4267-bdda-087e087096a6\",\"type\":\"Circle\"},\"hover_glyph\":null,\"nonselection_glyph\":{\"id\":\"a3d3b7ef-70ee-43f5-8bff-d162b14cae2b\",\"type\":\"Circle\"},\"selection_glyph\":null},\"id\":\"b3e1e4b9-4d93-4d71-8fbc-64773143f268\",\"type\":\"GlyphRenderer\"},{\"attributes\":{\"callback\":null},\"id\":\"48d7c4d7-27e3-421b-8f95-607422f159b6\",\"type\":\"DataRange1d\"},{\"attributes\":{},\"id\":\"f0ae12fa-7503-438c-8ad8-89f56845a977\",\"type\":\"BasicTickFormatter\"},{\"attributes\":{},\"id\":\"10214562-378c-49a1-8f45-17583c6a4647\",\"type\":\"BasicTicker\"},{\"attributes\":{\"callback\":null,\"column_names\":[\"y\",\"x\"],\"data\":{\"x\":[\"1.1554175766425961e-17\",\"1.1554175766425961e-17\",\"0.020659235573341338\",\"0.039845478745644466\",\"0.039845478745644466\",\"0.04705843229470825\",\"0.04705843229470825\",\"0.0605047143189858\",\"0.06771766786804959\",\"0.08690391104035271\",\"0.08690391104035271\",\"0.10756314661369405\",\"0.11198183494214999\",\"0.11198183494214999\",\"0.11198183494214999\",\"0.11198183494214999\",\"0.11846433459128293\",\"0.11846433459128293\",\"0.1326410705154913\",\"0.1326410705154913\",\"0.1336829560507545\",\"0.1336829560507545\",\"0.1382274999748166\",\"0.1382274999748166\",\"0.14237584657012017\",\"0.14237584657012017\",\"0.14237584657012017\",\"0.14237584657012017\",\"0.1442322218791595\",\"0.1442322218791595\",\"0.15755313729677287\",\"0.15755313729677287\",\"0.15770573416141404\",\"0.15770573416141404\",\"0.15904026723685824\",\"0.15904026723685824\",\"0.15904026723685824\",\"0.15904026723685824\",\"0.16040993561924655\",\"0.16040993561924655\",\"0.16303508214346155\",\"0.16303508214346155\",\"0.168254999989819\",\"0.168254999989819\",\"0.17780110904880347\",\"0.17780110904880347\",\"0.17969950281019953\",\"0.17969950281019953\",\"0.18222132531576463\",\"0.18222132531576463\"],\"y\":[\"3.917\",\"3.913\",\"3.357\",\"5.106\",\"5.109\",\"3.685\",\"3.68\",\"5.714\",\"2.87\",\"4.874\",\"4.878\",\"5.679\",\"5.098\",\"3.966\",\"3.962\",\"5.095\",\"4.439\",\"4.442\",\"4.703\",\"4.699\",\"4.556\",\"4.553\",\"4.172\",\"4.172\",\"3.881\",\"3.629\",\"3.623\",\"3.876\",\"4.449\",\"4.454\",\"5.501\",\"5.502\",\"5.459\",\"5.455\",\"5.095\",\"3.513\",\"3.508\",\"5.084\",\"3.999\",\"3.994\",\"3.003\",\"3.003\",\"3.709\",\"3.702\",\"4.012\",\"4.005\",\"4.49\",\"4.483\",\"5.064\",\"5.068\"]}},\"id\":\"2dba0b3a-16ea-4c7a-a0d1-5a81788ed070\",\"type\":\"ColumnDataSource\"},{\"attributes\":{\"below\":[{\"id\":\"d70997b4-2940-4425-8365-271f71f47c9e\",\"type\":\"LinearAxis\"}],\"left\":[{\"id\":\"69e5bc1d-c9e2-47d6-afa3-f8548c721cd5\",\"type\":\"LinearAxis\"}],\"plot_width\":1000,\"renderers\":[{\"id\":\"d70997b4-2940-4425-8365-271f71f47c9e\",\"type\":\"LinearAxis\"},{\"id\":\"71728cfd-47d6-4a72-90a9-2b3101549248\",\"type\":\"Grid\"},{\"id\":\"69e5bc1d-c9e2-47d6-afa3-f8548c721cd5\",\"type\":\"LinearAxis\"},{\"id\":\"78a51590-5b12-4cd8-9563-075ee0e7c62a\",\"type\":\"Grid\"},{\"id\":\"defea9fb-f36b-4705-87fb-5cd7cb5e5cf5\",\"type\":\"BoxAnnotation\"},{\"id\":\"b3e1e4b9-4d93-4d71-8fbc-64773143f268\",\"type\":\"GlyphRenderer\"}],\"title\":\"IRMOF-1 DMOG Conformers Adsorption\",\"tool_events\":{\"id\":\"d9ddf4b4-0bb6-4b13-b3d5-4fb5da7db5e2\",\"type\":\"ToolEvents\"},\"toolbar_location\":\"right\",\"tools\":[{\"id\":\"422bab0d-c92e-4550-a76e-73524130bb4e\",\"type\":\"PanTool\"},{\"id\":\"13473190-be62-423e-83dc-71f972d74a6b\",\"type\":\"WheelZoomTool\"},{\"id\":\"3059fbe9-6e0d-44d6-8fab-3dc1c8e0f587\",\"type\":\"BoxZoomTool\"},{\"id\":\"01023f5b-f7fc-42b9-8e1f-e088139e70a6\",\"type\":\"ResetTool\"},{\"id\":\"165b8e70-8b67-4838-8739-b0e8aa6cba58\",\"type\":\"TapTool\"}],\"x_range\":{\"id\":\"a88632d2-318e-442c-9bbd-97fc9ca42991\",\"type\":\"DataRange1d\"},\"y_range\":{\"id\":\"48d7c4d7-27e3-421b-8f95-607422f159b6\",\"type\":\"DataRange1d\"}},\"id\":\"6a7330fe-aad6-4ddb-ab3d-095bd1240d3b\",\"subtype\":\"Figure\",\"type\":\"Plot\"},{\"attributes\":{},\"id\":\"1177efae-23b8-4b59-8aab-2a4ca0447509\",\"type\":\"BasicTickFormatter\"},{\"attributes\":{\"dimension\":1,\"plot\":{\"id\":\"6a7330fe-aad6-4ddb-ab3d-095bd1240d3b\",\"subtype\":\"Figure\",\"type\":\"Plot\"},\"ticker\":{\"id\":\"6d13f66b-8d1a-49b1-8996-a76bd39babd5\",\"type\":\"BasicTicker\"}},\"id\":\"78a51590-5b12-4cd8-9563-075ee0e7c62a\",\"type\":\"Grid\"},{\"attributes\":{\"plot\":{\"id\":\"6a7330fe-aad6-4ddb-ab3d-095bd1240d3b\",\"subtype\":\"Figure\",\"type\":\"Plot\"},\"ticker\":{\"id\":\"2b33d544-fde0-4100-ab3e-5014e686823b\",\"type\":\"BasicTicker\"}},\"id\":\"71728cfd-47d6-4a72-90a9-2b3101549248\",\"type\":\"Grid\"},{\"attributes\":{},\"id\":\"2b33d544-fde0-4100-ab3e-5014e686823b\",\"type\":\"BasicTicker\"},{\"attributes\":{\"bottom_units\":\"screen\",\"fill_alpha\":{\"value\":0.5},\"fill_color\":{\"value\":\"lightgrey\"},\"left_units\":\"screen\",\"level\":\"overlay\",\"line_alpha\":{\"value\":1.0},\"line_color\":{\"value\":\"black\"},\"line_dash\":[4,4],\"line_width\":{\"value\":2},\"plot\":null,\"render_mode\":\"css\",\"right_units\":\"screen\",\"top_units\":\"screen\"},\"id\":\"42c035fe-88d2-431d-ac4e-1c46f6bb5dfe\",\"type\":\"BoxAnnotation\"},{\"attributes\":{\"plot\":{\"id\":\"a712309e-7dd1-45ba-8170-68dc18ede5fd\",\"subtype\":\"Figure\",\"type\":\"Plot\"}},\"id\":\"b5cdb3d6-f6bc-4de3-8464-5a06873df51b\",\"type\":\"ResetTool\"},{\"attributes\":{\"below\":[{\"id\":\"eddd5435-e6f9-4853-9973-929d0c9d75ad\",\"type\":\"LinearAxis\"}],\"left\":[{\"id\":\"6491b79d-01dc-4e43-9aa3-4fa828158cf5\",\"type\":\"LinearAxis\"}],\"plot_width\":1000,\"renderers\":[{\"id\":\"eddd5435-e6f9-4853-9973-929d0c9d75ad\",\"type\":\"LinearAxis\"},{\"id\":\"144a7916-8ad2-4b2d-813f-409b8fd7772a\",\"type\":\"Grid\"},{\"id\":\"6491b79d-01dc-4e43-9aa3-4fa828158cf5\",\"type\":\"LinearAxis\"},{\"id\":\"352cb0c5-a64f-4f49-94ad-4a398729b517\",\"type\":\"Grid\"},{\"id\":\"42c035fe-88d2-431d-ac4e-1c46f6bb5dfe\",\"type\":\"BoxAnnotation\"},{\"id\":\"834e17da-6860-4a51-b571-f50549520c2b\",\"type\":\"GlyphRenderer\"}],\"title\":\"IRMOF-1 DMOG Conformers Adsorption\",\"tool_events\":{\"id\":\"dea2acb3-425b-402b-ab8d-849b143f7b08\",\"type\":\"ToolEvents\"},\"toolbar_location\":\"right\",\"tools\":[{\"id\":\"610154e7-33a8-4c3c-8b4b-3a1484f852c4\",\"type\":\"PanTool\"},{\"id\":\"07bee389-2d3b-4001-a1d1-071ec03edfca\",\"type\":\"WheelZoomTool\"},{\"id\":\"d836a490-7090-48d0-b17f-c491c1779480\",\"type\":\"BoxZoomTool\"},{\"id\":\"b5cdb3d6-f6bc-4de3-8464-5a06873df51b\",\"type\":\"ResetTool\"},{\"id\":\"085f23b3-3a6a-4236-a0bc-14f258ddae63\",\"type\":\"TapTool\"}],\"x_range\":{\"id\":\"9a54c662-5f59-417b-8a7f-112f71903af6\",\"type\":\"DataRange1d\"},\"y_range\":{\"id\":\"5121ae39-668e-44d6-b026-6fbab721a80e\",\"type\":\"DataRange1d\"}},\"id\":\"a712309e-7dd1-45ba-8170-68dc18ede5fd\",\"subtype\":\"Figure\",\"type\":\"Plot\"},{\"attributes\":{\"callback\":null,\"plot\":{\"id\":\"a712309e-7dd1-45ba-8170-68dc18ede5fd\",\"subtype\":\"Figure\",\"type\":\"Plot\"}},\"id\":\"085f23b3-3a6a-4236-a0bc-14f258ddae63\",\"type\":\"TapTool\"},{\"attributes\":{},\"id\":\"dea2acb3-425b-402b-ab8d-849b143f7b08\",\"type\":\"ToolEvents\"},{\"attributes\":{\"formatter\":{\"id\":\"09da1974-a697-4d32-ab9c-b81890f1da04\",\"type\":\"BasicTickFormatter\"},\"plot\":{\"id\":\"6a7330fe-aad6-4ddb-ab3d-095bd1240d3b\",\"subtype\":\"Figure\",\"type\":\"Plot\"},\"ticker\":{\"id\":\"2b33d544-fde0-4100-ab3e-5014e686823b\",\"type\":\"BasicTicker\"}},\"id\":\"d70997b4-2940-4425-8365-271f71f47c9e\",\"type\":\"LinearAxis\"},{\"attributes\":{},\"id\":\"6d13f66b-8d1a-49b1-8996-a76bd39babd5\",\"type\":\"BasicTicker\"},{\"attributes\":{\"plot\":{\"id\":\"6a7330fe-aad6-4ddb-ab3d-095bd1240d3b\",\"subtype\":\"Figure\",\"type\":\"Plot\"}},\"id\":\"13473190-be62-423e-83dc-71f972d74a6b\",\"type\":\"WheelZoomTool\"},{\"attributes\":{\"formatter\":{\"id\":\"1177efae-23b8-4b59-8aab-2a4ca0447509\",\"type\":\"BasicTickFormatter\"},\"plot\":{\"id\":\"a712309e-7dd1-45ba-8170-68dc18ede5fd\",\"subtype\":\"Figure\",\"type\":\"Plot\"},\"ticker\":{\"id\":\"06b988d3-35f8-43b1-9a98-7c121f54cabc\",\"type\":\"BasicTicker\"}},\"id\":\"eddd5435-e6f9-4853-9973-929d0c9d75ad\",\"type\":\"LinearAxis\"},{\"attributes\":{\"formatter\":{\"id\":\"f0ae12fa-7503-438c-8ad8-89f56845a977\",\"type\":\"BasicTickFormatter\"},\"plot\":{\"id\":\"6a7330fe-aad6-4ddb-ab3d-095bd1240d3b\",\"subtype\":\"Figure\",\"type\":\"Plot\"},\"ticker\":{\"id\":\"6d13f66b-8d1a-49b1-8996-a76bd39babd5\",\"type\":\"BasicTicker\"}},\"id\":\"69e5bc1d-c9e2-47d6-afa3-f8548c721cd5\",\"type\":\"LinearAxis\"},{\"attributes\":{\"fill_alpha\":{\"value\":0.1},\"fill_color\":{\"value\":\"#1f77b4\"},\"line_alpha\":{\"value\":0.1},\"line_color\":{\"value\":\"#1f77b4\"},\"x\":{\"field\":\"x\"},\"y\":{\"field\":\"y\"}},\"id\":\"971f5204-b256-4f71-878c-e68c5f5bb83d\",\"type\":\"Circle\"},{\"attributes\":{\"plot\":{\"id\":\"a712309e-7dd1-45ba-8170-68dc18ede5fd\",\"subtype\":\"Figure\",\"type\":\"Plot\"}},\"id\":\"610154e7-33a8-4c3c-8b4b-3a1484f852c4\",\"type\":\"PanTool\"},{\"attributes\":{\"fill_color\":{\"value\":\"#1f77b4\"},\"line_color\":{\"value\":\"#1f77b4\"},\"x\":{\"field\":\"x\"},\"y\":{\"field\":\"y\"}},\"id\":\"c28ce67c-ba1e-40e3-a555-ed98c2cb71b9\",\"type\":\"Circle\"},{\"attributes\":{\"callback\":null},\"id\":\"a88632d2-318e-442c-9bbd-97fc9ca42991\",\"type\":\"DataRange1d\"},{\"attributes\":{\"bottom_units\":\"screen\",\"fill_alpha\":{\"value\":0.5},\"fill_color\":{\"value\":\"lightgrey\"},\"left_units\":\"screen\",\"level\":\"overlay\",\"line_alpha\":{\"value\":1.0},\"line_color\":{\"value\":\"black\"},\"line_dash\":[4,4],\"line_width\":{\"value\":2},\"plot\":null,\"render_mode\":\"css\",\"right_units\":\"screen\",\"top_units\":\"screen\"},\"id\":\"defea9fb-f36b-4705-87fb-5cd7cb5e5cf5\",\"type\":\"BoxAnnotation\"},{\"attributes\":{\"dimension\":1,\"plot\":{\"id\":\"a712309e-7dd1-45ba-8170-68dc18ede5fd\",\"subtype\":\"Figure\",\"type\":\"Plot\"},\"ticker\":{\"id\":\"10214562-378c-49a1-8f45-17583c6a4647\",\"type\":\"BasicTicker\"}},\"id\":\"352cb0c5-a64f-4f49-94ad-4a398729b517\",\"type\":\"Grid\"},{\"attributes\":{},\"id\":\"fa3c9139-232a-4726-bf7f-327b125e53f0\",\"type\":\"BasicTickFormatter\"},{\"attributes\":{\"callback\":null},\"id\":\"9a54c662-5f59-417b-8a7f-112f71903af6\",\"type\":\"DataRange1d\"},{\"attributes\":{\"callback\":null},\"id\":\"5121ae39-668e-44d6-b026-6fbab721a80e\",\"type\":\"DataRange1d\"},{\"attributes\":{},\"id\":\"06b988d3-35f8-43b1-9a98-7c121f54cabc\",\"type\":\"BasicTicker\"},{\"attributes\":{\"overlay\":{\"id\":\"defea9fb-f36b-4705-87fb-5cd7cb5e5cf5\",\"type\":\"BoxAnnotation\"},\"plot\":{\"id\":\"6a7330fe-aad6-4ddb-ab3d-095bd1240d3b\",\"subtype\":\"Figure\",\"type\":\"Plot\"}},\"id\":\"3059fbe9-6e0d-44d6-8fab-3dc1c8e0f587\",\"type\":\"BoxZoomTool\"},{\"attributes\":{\"fill_alpha\":{\"value\":0.1},\"fill_color\":{\"value\":\"#1f77b4\"},\"line_alpha\":{\"value\":0.1},\"line_color\":{\"value\":\"#1f77b4\"},\"x\":{\"field\":\"x\"},\"y\":{\"field\":\"y\"}},\"id\":\"a3d3b7ef-70ee-43f5-8bff-d162b14cae2b\",\"type\":\"Circle\"},{\"attributes\":{\"overlay\":{\"id\":\"42c035fe-88d2-431d-ac4e-1c46f6bb5dfe\",\"type\":\"BoxAnnotation\"},\"plot\":{\"id\":\"a712309e-7dd1-45ba-8170-68dc18ede5fd\",\"subtype\":\"Figure\",\"type\":\"Plot\"}},\"id\":\"d836a490-7090-48d0-b17f-c491c1779480\",\"type\":\"BoxZoomTool\"},{\"attributes\":{\"fill_color\":{\"value\":\"#1f77b4\"},\"line_color\":{\"value\":\"#1f77b4\"},\"x\":{\"field\":\"x\"},\"y\":{\"field\":\"y\"}},\"id\":\"7df19710-cd8e-4267-bdda-087e087096a6\",\"type\":\"Circle\"},{\"attributes\":{\"data_source\":{\"id\":\"ff94bddc-a4fb-4da9-bec1-067cf9e1be28\",\"type\":\"ColumnDataSource\"},\"glyph\":{\"id\":\"c28ce67c-ba1e-40e3-a555-ed98c2cb71b9\",\"type\":\"Circle\"},\"hover_glyph\":null,\"nonselection_glyph\":{\"id\":\"971f5204-b256-4f71-878c-e68c5f5bb83d\",\"type\":\"Circle\"},\"selection_glyph\":null},\"id\":\"834e17da-6860-4a51-b571-f50549520c2b\",\"type\":\"GlyphRenderer\"},{\"attributes\":{},\"id\":\"09da1974-a697-4d32-ab9c-b81890f1da04\",\"type\":\"BasicTickFormatter\"},{\"attributes\":{\"formatter\":{\"id\":\"fa3c9139-232a-4726-bf7f-327b125e53f0\",\"type\":\"BasicTickFormatter\"},\"plot\":{\"id\":\"a712309e-7dd1-45ba-8170-68dc18ede5fd\",\"subtype\":\"Figure\",\"type\":\"Plot\"},\"ticker\":{\"id\":\"10214562-378c-49a1-8f45-17583c6a4647\",\"type\":\"BasicTicker\"}},\"id\":\"6491b79d-01dc-4e43-9aa3-4fa828158cf5\",\"type\":\"LinearAxis\"},{\"attributes\":{\"plot\":{\"id\":\"a712309e-7dd1-45ba-8170-68dc18ede5fd\",\"subtype\":\"Figure\",\"type\":\"Plot\"}},\"id\":\"07bee389-2d3b-4001-a1d1-071ec03edfca\",\"type\":\"WheelZoomTool\"}],\"root_ids\":[\"6a7330fe-aad6-4ddb-ab3d-095bd1240d3b\",\"a712309e-7dd1-45ba-8170-68dc18ede5fd\"]},\"title\":\"Bokeh Application\",\"version\":\"0.11.1\"}};\n",
       "            var render_items = [{\"docid\":\"98e4d5e0-ca00-4b94-aeca-3224b15cd12e\",\"elementid\":\"3032643a-2f2a-42e2-ac68-379514194738\",\"modelid\":\"a712309e-7dd1-45ba-8170-68dc18ede5fd\",\"notebook_comms_target\":\"3668dcbc-77b2-49e2-a9dd-d939c3ba9dfd\"}];\n",
       "            \n",
       "            Bokeh.embed.embed_items(docs_json, render_items);\n",
       "        });\n",
       "      },\n",
       "      function(Bokeh) {\n",
       "      }\n",
       "    ];\n",
       "  \n",
       "    function run_inline_js() {\n",
       "      for (var i = 0; i < inline_js.length; i++) {\n",
       "        inline_js[i](window.Bokeh);\n",
       "      }\n",
       "    }\n",
       "  \n",
       "    if (window._bokeh_is_loading === 0) {\n",
       "      console.log(\"Bokeh: BokehJS loaded, going straight to plotting\");\n",
       "      run_inline_js();\n",
       "    } else {\n",
       "      load_libs(js_urls, function() {\n",
       "        console.log(\"Bokeh: BokehJS plotting callback run at\", now());\n",
       "        run_inline_js();\n",
       "      });\n",
       "    }\n",
       "  }(this));\n",
       "</script>"
      ]
     },
     "metadata": {},
     "output_type": "display_data"
    },
    {
     "data": {
      "text/html": [
       "\n",
       "    <div class=\"bk-banner\">\n",
       "        <a href=\"http://bokeh.pydata.org\" target=\"_blank\" class=\"bk-logo bk-logo-small bk-logo-notebook\"></a>\n",
       "        <span id=\"b2aeb967-47b3-4e5a-9764-d41e55484310\">Loading BokehJS ...</span>\n",
       "    </div>"
      ]
     },
     "metadata": {},
     "output_type": "display_data"
    },
    {
     "data": {
      "application/javascript": [
       "\n",
       "(function(global) {\n",
       "  function now() {\n",
       "    return new Date();\n",
       "  }\n",
       "\n",
       "  if (typeof (window._bokeh_onload_callbacks) === \"undefined\") {\n",
       "    window._bokeh_onload_callbacks = [];\n",
       "  }\n",
       "\n",
       "  function run_callbacks() {\n",
       "    window._bokeh_onload_callbacks.forEach(function(callback) { callback() });\n",
       "    delete window._bokeh_onload_callbacks\n",
       "    console.info(\"Bokeh: all callbacks have finished\");\n",
       "  }\n",
       "\n",
       "  function load_libs(js_urls, callback) {\n",
       "    window._bokeh_onload_callbacks.push(callback);\n",
       "    if (window._bokeh_is_loading > 0) {\n",
       "      console.log(\"Bokeh: BokehJS is being loaded, scheduling callback at\", now());\n",
       "      return null;\n",
       "    }\n",
       "    if (js_urls == null || js_urls.length === 0) {\n",
       "      run_callbacks();\n",
       "      return null;\n",
       "    }\n",
       "    console.log(\"Bokeh: BokehJS not loaded, scheduling load and callback at\", now());\n",
       "    window._bokeh_is_loading = js_urls.length;\n",
       "    for (var i = 0; i < js_urls.length; i++) {\n",
       "      var url = js_urls[i];\n",
       "      var s = document.createElement('script');\n",
       "      s.src = url;\n",
       "      s.async = false;\n",
       "      s.onreadystatechange = s.onload = function() {\n",
       "        window._bokeh_is_loading--;\n",
       "        if (window._bokeh_is_loading === 0) {\n",
       "          console.log(\"Bokeh: all BokehJS libraries loaded\");\n",
       "          run_callbacks()\n",
       "        }\n",
       "      };\n",
       "      s.onerror = function() {\n",
       "        console.warn(\"failed to load library \" + url);\n",
       "      };\n",
       "      console.log(\"Bokeh: injecting script tag for BokehJS library: \", url);\n",
       "      document.getElementsByTagName(\"head\")[0].appendChild(s);\n",
       "    }\n",
       "  };\n",
       "\n",
       "  var js_urls = ['https://cdn.pydata.org/bokeh/release/bokeh-0.11.1.min.js', 'https://cdn.pydata.org/bokeh/release/bokeh-widgets-0.11.1.min.js', 'https://cdn.pydata.org/bokeh/release/bokeh-compiler-0.11.1.min.js'];\n",
       "\n",
       "  var inline_js = [\n",
       "    function(Bokeh) {\n",
       "      Bokeh.set_log_level(\"info\");\n",
       "    },\n",
       "    \n",
       "    function(Bokeh) {\n",
       "      Bokeh.$(\"#b2aeb967-47b3-4e5a-9764-d41e55484310\").text(\"BokehJS successfully loaded\");\n",
       "    },\n",
       "    function(Bokeh) {\n",
       "      console.log(\"Bokeh: injecting CSS: https://cdn.pydata.org/bokeh/release/bokeh-0.11.1.min.css\");\n",
       "      Bokeh.embed.inject_css(\"https://cdn.pydata.org/bokeh/release/bokeh-0.11.1.min.css\");\n",
       "      console.log(\"Bokeh: injecting CSS: https://cdn.pydata.org/bokeh/release/bokeh-widgets-0.11.1.min.css\");\n",
       "      Bokeh.embed.inject_css(\"https://cdn.pydata.org/bokeh/release/bokeh-widgets-0.11.1.min.css\");\n",
       "    }\n",
       "  ];\n",
       "\n",
       "  function run_inline_js() {\n",
       "    for (var i = 0; i < inline_js.length; i++) {\n",
       "      inline_js[i](window.Bokeh);\n",
       "    }\n",
       "  }\n",
       "\n",
       "  if (window._bokeh_is_loading === 0) {\n",
       "    console.log(\"Bokeh: BokehJS loaded, going straight to plotting\");\n",
       "    run_inline_js();\n",
       "  } else {\n",
       "    load_libs(js_urls, function() {\n",
       "      console.log(\"Bokeh: BokehJS plotting callback run at\", now());\n",
       "      run_inline_js();\n",
       "    });\n",
       "  }\n",
       "}(this));"
      ]
     },
     "metadata": {},
     "output_type": "display_data"
    }
   ],
   "source": [
    "p = figure(plot_width=1000, plot_height=600, tools=[\"pan\", \"wheel_zoom\", \"box_zoom\", \"reset\", \"tap\"],\n",
    "           toolbar_location=\"right\", title=\"IRMOF-1 DMOG Conformers Adsorption\")\n",
    "\n",
    "p.circle(x_data, y_data)\n",
    "show(p)\n",
    "output_notebook()\n",
    "output_file(\"toolbar.html\")"
   ]
  },
  {
   "cell_type": "code",
   "execution_count": null,
   "metadata": {
    "collapsed": true
   },
   "outputs": [],
   "source": []
  },
  {
   "cell_type": "markdown",
   "metadata": {},
   "source": [
    "### Exact copy from biomof"
   ]
  },
  {
   "cell_type": "code",
   "execution_count": null,
   "metadata": {
    "collapsed": true
   },
   "outputs": [],
   "source": [
    "output_file(\"toolbar.html\")\n",
    "\n",
    "source = ColumnDataSource(data=dict(x=x_data, y=y_data, rmsd=data['rmsd'], min_rmsd=data['min_rmsd'],\n",
    "                                    energy=data['energy'], desc=conformers, imgs=images))\n",
    "\n",
    "hover = HoverTool(\n",
    "        tooltips=\"\"\"\n",
    "        <div>\n",
    "            <div>\n",
    "                <img\n",
    "                    src=\"@imgs\" height=\"180\" alt=\"@imgs\" width=\"200\"\n",
    "                    style=\"float: left; margin: 0px 0px 0px 0px;\"\n",
    "                    border=\"1\"\n",
    "                ></img>\n",
    "            </div>\n",
    "            <div>\n",
    "                <span style=\"font-size: 17px; font-weight: bold;\">@desc</span>\n",
    "            </div>\n",
    "            <div>\n",
    "                <span style=\"font-size: 14px; font-weight: bold;\">Score: </span>\n",
    "                <span style=\"font-size: 14px; color: #f44283;\">$x</span>\n",
    "            </div>\n",
    "            <div>\n",
    "                <span style=\"font-size: 14px; font-weight: bold;\">Adsorption: </span>\n",
    "                <span style=\"font-size: 14px; color: #f44283;\">$y</span>\n",
    "            </div>\n",
    "            <div>\n",
    "                <span style=\"font-size: 14px; font-weight: bold;\">RMSD: </span>\n",
    "                <span style=\"font-size: 14px; color: #f44283;\">@min_rmsd</span>\n",
    "            </div>\n",
    "            <div>\n",
    "                <span style=\"font-size: 14px; font-weight: bold;\">Drug-MOF energy: </span>\n",
    "                <span style=\"font-size: 14px; color: #f44283;\">@energy</span>\n",
    "            </div>\n",
    "        </div>\n",
    "        \"\"\"\n",
    "    )\n",
    "\n",
    "p = figure(plot_width=1000, plot_height=600, tools=[hover, \"pan\", \"wheel_zoom\", \"box_zoom\", \"reset\", \"tap\"],\n",
    "           toolbar_location=\"right\", title=\"IRMOF-1 DMOG Conformers Adsorption\")\n",
    "\n",
    "p.circle('x', 'y', size=18, source=source,\n",
    "                           fill_color='blue',\n",
    "                           fill_alpha=0.2,\n",
    "                           line_color=\"firebrick\",\n",
    "                           selection_color=\"firebrick\",\n",
    "                           nonselection_fill_alpha=0.2,\n",
    "                           nonselection_fill_color=\"blue\",\n",
    "                           nonselection_line_color=\"firebrick\",\n",
    "                           nonselection_line_alpha=1.0)\n",
    "\n",
    "p.xaxis.axis_label = x_axis\n",
    "p.yaxis.axis_label = y_axis\n",
    "p.ygrid.grid_line_alpha = 0.2\n",
    "p.xgrid.grid_line_color = None\n",
    "\n",
    "\n",
    "show(p)"
   ]
  },
  {
   "cell_type": "code",
   "execution_count": null,
   "metadata": {
    "collapsed": true
   },
   "outputs": [],
   "source": [
    "html = file_html(p, CDN, \"my plot\")"
   ]
  }
 ],
 "metadata": {
  "kernelspec": {
   "display_name": "Python 3",
   "language": "python",
   "name": "python3"
  },
  "language_info": {
   "codemirror_mode": {
    "name": "ipython",
    "version": 3
   },
   "file_extension": ".py",
   "mimetype": "text/x-python",
   "name": "python",
   "nbconvert_exporter": "python",
   "pygments_lexer": "ipython3",
   "version": "3.5.2"
  }
 },
 "nbformat": 4,
 "nbformat_minor": 1
}
