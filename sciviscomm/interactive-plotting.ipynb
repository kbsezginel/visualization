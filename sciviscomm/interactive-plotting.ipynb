{
 "cells": [
  {
   "cell_type": "code",
   "execution_count": 1,
   "metadata": {
    "collapsed": true
   },
   "outputs": [],
   "source": [
    "import csv\n",
    "from bokeh.plotting import figure, output_file, show, ColumnDataSource, output_notebook\n",
    "from bokeh.models import HoverTool\n",
    "from bokeh.resources import CDN\n",
    "from bokeh.embed import file_html\n",
    "%matplotlib inline"
   ]
  },
  {
   "cell_type": "markdown",
   "metadata": {},
   "source": [
    "## Read data from csv file\n",
    "Log order: Score, RMSD, minRMSD, Ads, Energy"
   ]
  },
  {
   "cell_type": "code",
   "execution_count": null,
   "metadata": {
    "collapsed": true
   },
   "outputs": [],
   "source": [
    "rows = []\n",
    "with open('pza-uptake.csv') as csvfile:\n",
    "    reader = csv.reader(csvfile)\n",
    "    for row in reader:\n",
    "        rows.append(row)"
   ]
  },
  {
   "cell_type": "code",
   "execution_count": null,
   "metadata": {
    "collapsed": true
   },
   "outputs": [],
   "source": [
    "x_data = [i[4] for i in rows]\n",
    "y_data = [i[2] for i in rows]"
   ]
  },
  {
   "cell_type": "code",
   "execution_count": null,
   "metadata": {
    "collapsed": true
   },
   "outputs": [],
   "source": [
    "headers = ['mof', 'metal', 'pza', 'err', 'vp', 'vf', 'ro', 'sa', 'dia']\n",
    "all_data = {h: [i[idx] for i in rows[1:]] for idx, h in enumerate(headers)}\n"
   ]
  },
  {
   "cell_type": "markdown",
   "metadata": {},
   "source": [
    "### Plotting the data"
   ]
  },
  {
   "cell_type": "code",
   "execution_count": null,
   "metadata": {
    "collapsed": true
   },
   "outputs": [],
   "source": [
    "p = figure()\n",
    "p.circle(x_data, y_data)\n",
    "show(p)\n",
    "output_notebook()"
   ]
  },
  {
   "cell_type": "markdown",
   "metadata": {},
   "source": [
    "### Adding title and axis labels"
   ]
  },
  {
   "cell_type": "code",
   "execution_count": null,
   "metadata": {
    "scrolled": true
   },
   "outputs": [],
   "source": [
    "p = figure()\n",
    "p.title = 'Pyrazinamide Uptake (g PZA/ g MOF)'\n",
    "p.plot_height = 600\n",
    "p.plot_width = 1000\n",
    "p.xaxis.axis_label = 'Pore Volume (cm³/g)'\n",
    "p.yaxis.axis_label = 'Pyrazinamide uptake (g PZA/ g MOF)'\n",
    "p.circle(x_data, y_data)\n",
    "show(p)\n",
    "output_notebook()"
   ]
  },
  {
   "cell_type": "code",
   "execution_count": null,
   "metadata": {
    "collapsed": true
   },
   "outputs": [],
   "source": []
  },
  {
   "cell_type": "code",
   "execution_count": null,
   "metadata": {},
   "outputs": [],
   "source": [
    "p = figure(plot_width=1000, plot_height=600, title='Pyrazinamide Uptake (g PZA/ g MOF)')\n",
    "p.xaxis.axis_label = 'Pore Volume (cm³/g)'\n",
    "p.yaxis.axis_label = 'Pyrazinamide uptake (g PZA/ g MOF)'\n",
    "\n",
    "p.circle(x_data, y_data, size=18,\n",
    "         fill_color='blue',\n",
    "         fill_alpha=0.2,\n",
    "         line_color=\"firebrick\")\n",
    "\n",
    "show(p)\n",
    "output_notebook()"
   ]
  },
  {
   "cell_type": "markdown",
   "metadata": {},
   "source": [
    "### Adding toolbar"
   ]
  },
  {
   "cell_type": "code",
   "execution_count": null,
   "metadata": {},
   "outputs": [],
   "source": [
    "p = figure(plot_width=1000, plot_height=600, title='Pyrazinamide Uptake (g PZA/ g MOF)',\n",
    "           tools=[\"pan\", \"wheel_zoom\", \"box_zoom\", \"reset\", \"tap\"],\n",
    "           toolbar_location='right')\n",
    "\n",
    "p.xaxis.axis_label = 'Pore Volume (cm³/g)'\n",
    "p.yaxis.axis_label = 'Pyrazinamide uptake (g PZA/ g MOF)'\n",
    "\n",
    "p.circle(x_data, y_data, size=18,\n",
    "         fill_color='blue',\n",
    "         fill_alpha=0.2,\n",
    "         line_color=\"firebrick\")\n",
    "show(p)\n",
    "output_notebook()\n",
    "# output_file(\"toolbar.html\")"
   ]
  },
  {
   "cell_type": "markdown",
   "metadata": {
    "collapsed": true
   },
   "source": [
    "### Adding hover tool"
   ]
  },
  {
   "cell_type": "code",
   "execution_count": null,
   "metadata": {},
   "outputs": [],
   "source": [
    "source = ColumnDataSource(data=all_data)\n",
    "\n",
    "p = figure(plot_width=1000, plot_height=600, title='Pyrazinamide Uptake (g PZA/ g MOF)',\n",
    "           tools=[\"pan\", \"wheel_zoom\", \"box_zoom\", \"reset\", \"tap\"],\n",
    "           toolbar_location='right')\n",
    "\n",
    "p.xaxis.axis_label = 'Pore Volume (cm³/g)'\n",
    "p.yaxis.axis_label = 'Pyrazinamide uptake (g PZA/ g MOF)'\n",
    "\n",
    "p.circle('vp', 'pza', source=source, size=18,\n",
    "         fill_color='blue',\n",
    "         fill_alpha=0.2,\n",
    "         line_color=\"firebrick\")\n",
    "show(p)\n",
    "output_notebook()"
   ]
  },
  {
   "cell_type": "code",
   "execution_count": null,
   "metadata": {
    "collapsed": true
   },
   "outputs": [],
   "source": []
  },
  {
   "cell_type": "code",
   "execution_count": null,
   "metadata": {
    "collapsed": true
   },
   "outputs": [],
   "source": [
    "hover = HoverTool(\n",
    "        tooltips=\"\"\"\n",
    "        <div>\n",
    "            <div>\n",
    "                <span style=\"font-size: 17px; font-weight: bold;\">@mof</span>\n",
    "            </div>\n",
    "            <div>\n",
    "                <span style=\"font-size: 14px; font-weight: bold;\">Metal: </span>\n",
    "                <span style=\"font-size: 14px; color: #f44283;\">@metal</span>\n",
    "            </div>\n",
    "            <div>\n",
    "                <span style=\"font-size: 14px; font-weight: bold;\">V<sub>f</sub>: </span>\n",
    "                <span style=\"font-size: 14px; color: #f44283;\">@vf</span>\n",
    "            </div>\n",
    "            <div>\n",
    "                <span style=\"font-size: 14px; font-weight: bold;\">Surface Area: </span>\n",
    "                <span style=\"font-size: 14px; color: #f44283;\">@sa</span>\n",
    "            </div>\n",
    "            <div>\n",
    "                <span style=\"font-size: 14px; font-weight: bold;\">Pore diameter: </span>\n",
    "                <span style=\"font-size: 14px; color: #f44283;\">@dia</span>\n",
    "            </div>\n",
    "        </div>\n",
    "        \"\"\"\n",
    "    )"
   ]
  },
  {
   "cell_type": "code",
   "execution_count": null,
   "metadata": {},
   "outputs": [],
   "source": [
    "source = ColumnDataSource(data=all_data)\n",
    "\n",
    "p = figure(plot_width=1000, plot_height=600, title='Pyrazinamide Uptake (g PZA/ g MOF)',\n",
    "           tools=[hover, \"pan\", \"wheel_zoom\", \"box_zoom\", \"reset\", \"tap\"],\n",
    "           toolbar_location='right')\n",
    "\n",
    "p.xaxis.axis_label = 'Pore Volume (cm³/g)'\n",
    "p.yaxis.axis_label = 'Pyrazinamide uptake (g PZA/ g MOF)'\n",
    "\n",
    "p.circle('vp', 'pza', source=source, size=18,\n",
    "         fill_color='blue',\n",
    "         fill_alpha=0.2,\n",
    "         line_color=\"firebrick\")\n",
    "show(p)\n",
    "output_notebook()\n",
    "output_file(\"pza.html\")"
   ]
  },
  {
   "cell_type": "code",
   "execution_count": null,
   "metadata": {},
   "outputs": [],
   "source": [
    "all_data['metal']"
   ]
  },
  {
   "cell_type": "markdown",
   "metadata": {},
   "source": [
    "### Exact copy from biomof"
   ]
  },
  {
   "cell_type": "code",
   "execution_count": null,
   "metadata": {
    "collapsed": true
   },
   "outputs": [],
   "source": [
    "output_file(\"toolbar.html\")\n",
    "\n",
    "source = ColumnDataSource(data=dict(x=x_data, y=y_data, rmsd=data['rmsd'], min_rmsd=data['min_rmsd'],\n",
    "                                    energy=data['energy'], desc=conformers, imgs=images))\n",
    "\n",
    "hover = HoverTool(\n",
    "        tooltips=\"\"\"\n",
    "        <div>\n",
    "            <div>\n",
    "                <img\n",
    "                    src=\"@imgs\" height=\"180\" alt=\"@imgs\" width=\"200\"\n",
    "                    style=\"float: left; margin: 0px 0px 0px 0px;\"\n",
    "                    border=\"1\"\n",
    "                ></img>\n",
    "            </div>\n",
    "            <div>\n",
    "                <span style=\"font-size: 17px; font-weight: bold;\">@desc</span>\n",
    "            </div>\n",
    "            <div>\n",
    "                <span style=\"font-size: 14px; font-weight: bold;\">Score: </span>\n",
    "                <span style=\"font-size: 14px; color: #f44283;\">$x</span>\n",
    "            </div>\n",
    "            <div>\n",
    "                <span style=\"font-size: 14px; font-weight: bold;\">Adsorption: </span>\n",
    "                <span style=\"font-size: 14px; color: #f44283;\">$y</span>\n",
    "            </div>\n",
    "            <div>\n",
    "                <span style=\"font-size: 14px; font-weight: bold;\">RMSD: </span>\n",
    "                <span style=\"font-size: 14px; color: #f44283;\">@min_rmsd</span>\n",
    "            </div>\n",
    "            <div>\n",
    "                <span style=\"font-size: 14px; font-weight: bold;\">Drug-MOF energy: </span>\n",
    "                <span style=\"font-size: 14px; color: #f44283;\">@energy</span>\n",
    "            </div>\n",
    "        </div>\n",
    "        \"\"\"\n",
    "    )\n",
    "\n",
    "p = figure(plot_width=1000, plot_height=600, tools=[hover, \"pan\", \"wheel_zoom\", \"box_zoom\", \"reset\", \"tap\"],\n",
    "           toolbar_location=\"right\", title=\"IRMOF-1 DMOG Conformers Adsorption\")\n",
    "\n",
    "p.circle('x', 'y', size=18, source=source,\n",
    "                           fill_color='blue',\n",
    "                           fill_alpha=0.2,\n",
    "                           line_color=\"firebrick\",\n",
    "                           selection_color=\"firebrick\",\n",
    "                           nonselection_fill_alpha=0.2,\n",
    "                           nonselection_fill_color=\"blue\",\n",
    "                           nonselection_line_color=\"firebrick\",\n",
    "                           nonselection_line_alpha=1.0)\n",
    "\n",
    "p.xaxis.axis_label = x_axis\n",
    "p.yaxis.axis_label = y_axis\n",
    "p.ygrid.grid_line_alpha = 0.2\n",
    "p.xgrid.grid_line_color = None\n",
    "\n",
    "\n",
    "show(p)"
   ]
  },
  {
   "cell_type": "code",
   "execution_count": null,
   "metadata": {
    "collapsed": true
   },
   "outputs": [],
   "source": [
    "html = file_html(p, CDN, \"my plot\")"
   ]
  }
 ],
 "metadata": {
  "kernelspec": {
   "display_name": "Python 3",
   "language": "python",
   "name": "python3"
  },
  "language_info": {
   "codemirror_mode": {
    "name": "ipython",
    "version": 3
   },
   "file_extension": ".py",
   "mimetype": "text/x-python",
   "name": "python",
   "nbconvert_exporter": "python",
   "pygments_lexer": "ipython3",
   "version": "3.5.2"
  }
 },
 "nbformat": 4,
 "nbformat_minor": 1
}
