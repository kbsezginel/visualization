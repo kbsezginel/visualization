{
 "cells": [
  {
   "cell_type": "code",
   "execution_count": 1,
   "metadata": {
    "collapsed": true
   },
   "outputs": [],
   "source": [
    "%matplotlib inline"
   ]
  },
  {
   "cell_type": "markdown",
   "metadata": {},
   "source": [
    "## Read data from csv file\n",
    "Log order: Score, RMSD, minRMSD, Ads, Energy"
   ]
  },
  {
   "cell_type": "code",
   "execution_count": null,
   "metadata": {},
   "outputs": [],
   "source": [
    "import csv\n",
    "\n",
    "rows = []\n",
    "with open('data/pza-uptake.csv') as csvfile:\n",
    "    reader = csv.reader(csvfile)\n",
    "    for row in reader:\n",
    "        rows.append(row)"
   ]
  },
  {
   "cell_type": "markdown",
   "metadata": {},
   "source": [
    "### Arrange data"
   ]
  },
  {
   "cell_type": "code",
   "execution_count": null,
   "metadata": {
    "collapsed": true
   },
   "outputs": [],
   "source": [
    "headers = ['mof', 'metal', 'pza', 'err', 'vp', 'vf', 'ro', 'sa', 'dia']\n",
    "data = {h: [i[idx] for i in rows[1:]] for idx, h in enumerate(headers)}"
   ]
  },
  {
   "cell_type": "markdown",
   "metadata": {},
   "source": [
    "### Plotting the data"
   ]
  },
  {
   "cell_type": "code",
   "execution_count": null,
   "metadata": {},
   "outputs": [],
   "source": [
    "from bokeh.plotting import figure, show\n",
    "from bokeh.plotting import output_notebook\n",
    "\n",
    "p = figure()\n",
    "p.circle(data['vp'], data['pza'])\n",
    "show(p)\n",
    "output_notebook()"
   ]
  },
  {
   "cell_type": "markdown",
   "metadata": {},
   "source": [
    "### Adding title and axis labels"
   ]
  },
  {
   "cell_type": "code",
   "execution_count": null,
   "metadata": {
    "collapsed": true
   },
   "outputs": [],
   "source": [
    "p = figure(plot_width=1000, plot_height=600,\n",
    "           title='Pyrazinamide Uptake (g PZA/ g MOF)')\n",
    "\n",
    "p.xaxis.axis_label = 'Pore Volume (cm³/g)'\n",
    "p.yaxis.axis_label = 'Pyrazinamide uptake (g PZA/ g MOF)'\n",
    "\n",
    "p.circle(data['vp'], data['pza'])\n",
    "show(p)\n",
    "output_notebook()"
   ]
  },
  {
   "cell_type": "markdown",
   "metadata": {
    "collapsed": true
   },
   "source": [
    "### Customizing markers"
   ]
  },
  {
   "cell_type": "code",
   "execution_count": null,
   "metadata": {
    "collapsed": true
   },
   "outputs": [],
   "source": [
    "p = figure(plot_width=1000, plot_height=600,\n",
    "           title='Pyrazinamide Uptake (g PZA/ g MOF)')\n",
    "\n",
    "p.xaxis.axis_label = 'Pore Volume (cm³/g)'\n",
    "p.yaxis.axis_label = 'Pyrazinamide uptake (g PZA/ g MOF)'\n",
    "\n",
    "p.circle(data['vp'], data['pza'],\n",
    "         size=18,\n",
    "         fill_color='salmon',\n",
    "         fill_alpha=0.6,\n",
    "         line_color=\"darkred\")\n",
    "\n",
    "show(p)\n",
    "output_notebook()"
   ]
  },
  {
   "cell_type": "markdown",
   "metadata": {},
   "source": [
    "### Adding toolbar"
   ]
  },
  {
   "cell_type": "code",
   "execution_count": null,
   "metadata": {
    "collapsed": true
   },
   "outputs": [],
   "source": [
    "p = figure(plot_width=1000, plot_height=600, title='Pyrazinamide Uptake (g PZA/ g MOF)',\n",
    "           tools=[\"pan\", \"wheel_zoom\", \"box_zoom\", \"reset\", \"tap\"],\n",
    "           toolbar_location='right')\n",
    "\n",
    "p.xaxis.axis_label = 'Pore Volume (cm³/g)'\n",
    "p.yaxis.axis_label = 'Pyrazinamide uptake (g PZA/ g MOF)'\n",
    "\n",
    "p.circle(data['vp'], data['pza'],\n",
    "         size=18,\n",
    "         fill_color='salmon',\n",
    "         fill_alpha=0.6,\n",
    "         line_color=\"darkred\")\n",
    "\n",
    "show(p)\n",
    "output_notebook()"
   ]
  },
  {
   "cell_type": "markdown",
   "metadata": {
    "collapsed": true
   },
   "source": [
    "## Adding hover tool"
   ]
  },
  {
   "cell_type": "markdown",
   "metadata": {},
   "source": [
    "### Reading images"
   ]
  },
  {
   "cell_type": "code",
   "execution_count": null,
   "metadata": {
    "collapsed": true
   },
   "outputs": [],
   "source": [
    "import os\n",
    "\n",
    "img_dir = '/home/kutay/Documents/git/visualization/sciviscomm/img'\n",
    "\n",
    "img_dir = 'assets/img/mofs'\n",
    "data['images'] = [os.path.join(img_dir, '%s.svg' % i) for i in data['mof']]"
   ]
  },
  {
   "cell_type": "code",
   "execution_count": null,
   "metadata": {
    "collapsed": true
   },
   "outputs": [],
   "source": [
    "from bokeh.models import HoverTool\n",
    "\n",
    "hover = HoverTool(\n",
    "        tooltips=\"\"\"\n",
    "        <div>\n",
    "          <img\n",
    "              src=\"@images\" height=\"180\" width=\"200\"\n",
    "              style=\"float: left; margin: 0px 0px 0px 0px;\"\n",
    "          ></img>\n",
    "            <div>\n",
    "                <span style=\"font-size: 17px; font-weight: bold;\">@mof</span>\n",
    "            </div>\n",
    "        </div>\n",
    "        \"\"\"\n",
    "    )"
   ]
  },
  {
   "cell_type": "code",
   "execution_count": null,
   "metadata": {},
   "outputs": [],
   "source": [
    "from bokeh.plotting import ColumnDataSource\n",
    "from bokeh.plotting import output_file\n",
    "\n",
    "source = ColumnDataSource(data=data)\n",
    "\n",
    "p = figure(plot_width=1000, plot_height=600,\n",
    "           title='Pyrazinamide Uptake (g PZA/ g MOF)',\n",
    "           tools=[hover, \"pan\", \"wheel_zoom\", \"box_zoom\", \"reset\", \"tap\"],\n",
    "           toolbar_location='right')\n",
    "\n",
    "p.xaxis.axis_label = 'Pore Volume (cm³/g)'\n",
    "p.yaxis.axis_label = 'Pyrazinamide uptake (g PZA/ g MOF)'\n",
    "\n",
    "p.circle('vp', 'pza',\n",
    "         source=source,\n",
    "         size=18,\n",
    "         fill_color='salmon',\n",
    "         fill_alpha=0.5,\n",
    "         line_color=\"darkred\")\n",
    "\n",
    "show(p)\n",
    "output_notebook()\n",
    "output_file('test.html')"
   ]
  },
  {
   "cell_type": "markdown",
   "metadata": {
    "collapsed": true
   },
   "source": [
    "## Final plot"
   ]
  },
  {
   "cell_type": "code",
   "execution_count": null,
   "metadata": {},
   "outputs": [],
   "source": [
    "hover = HoverTool(\n",
    "        tooltips=\"\"\"\n",
    "        <div>\n",
    "          <img\n",
    "              src=\"@images\" height=\"180\" alt=\"@images\" width=\"200\"\n",
    "              style=\"float: left; margin: 0px 0px 0px 0px;\"\n",
    "          ></img>\n",
    "            <div>\n",
    "                <span style=\"font-size: 17px; font-weight: bold;\">@mof</span>\n",
    "            </div>\n",
    "            <div>\n",
    "                <span style=\"font-size: 14px; font-weight: bold;\">Metal: </span>\n",
    "                <span style=\"font-size: 14px; color: #f44283;\">@metal</span>\n",
    "            </div>\n",
    "            <div>\n",
    "                <span style=\"font-size: 14px; font-weight: bold;\">V<sub>f</sub>: </span>\n",
    "                <span style=\"font-size: 14px; color: #f44283;\">@vf</span>\n",
    "            </div>\n",
    "            <div>\n",
    "                <span style=\"font-size: 14px; font-weight: bold;\">Surface Area: </span>\n",
    "                <span style=\"font-size: 14px; color: #f44283;\">@sa</span>\n",
    "            </div>\n",
    "            <div>\n",
    "                <span style=\"font-size: 14px; font-weight: bold;\">Pore diameter: </span>\n",
    "                <span style=\"font-size: 14px; color: #f44283;\">@dia</span>\n",
    "            </div>\n",
    "        </div>\n",
    "        \"\"\"\n",
    "    )\n",
    "\n",
    "p = figure(plot_width=1000, plot_height=600,\n",
    "           title='Pyrazinamide Uptake (g PZA/ g MOF)',\n",
    "           tools=[hover, \"pan\", \"wheel_zoom\", \"box_zoom\", \"reset\", \"tap\"],\n",
    "           toolbar_location='right')\n",
    "\n",
    "p.xaxis.axis_label = 'Pore Volume (cm³/g)'\n",
    "p.yaxis.axis_label = 'Pyrazinamide uptake (g PZA/ g MOF)'\n",
    "\n",
    "p.circle('vp', 'pza',\n",
    "         source=source,\n",
    "         size=18,\n",
    "         fill_color='salmon',\n",
    "         fill_alpha=0.5,\n",
    "         line_color=\"darkred\",\n",
    "         nonselection_fill_color=\"salmon\",\n",
    "         nonselection_line_color=\"darkred\",\n",
    "         nonselection_fill_alpha=0.5,\n",
    "         nonselection_line_alpha=1.0,\n",
    "         selection_fill_alpha=0.5,\n",
    "         selection_fill_color=\"blue\",\n",
    "         selection_line_color=\"darkred\")\n",
    "\n",
    "p.ygrid.grid_line_alpha = 0.2\n",
    "p.xgrid.grid_line_color = None\n",
    "\n",
    "show(p)\n",
    "output_notebook()\n",
    "output_file('test.html')"
   ]
  },
  {
   "cell_type": "markdown",
   "metadata": {},
   "source": [
    "### Embed html"
   ]
  },
  {
   "cell_type": "code",
   "execution_count": null,
   "metadata": {
    "collapsed": true
   },
   "outputs": [],
   "source": [
    "from bokeh.resources import CDN\n",
    "from bokeh.embed import file_html\n",
    "\n",
    "html = file_html(p, CDN, \"PZA uptake\")\n",
    "with open('pza.html', 'w') as html_file:\n",
    "    html_file.write(html)"
   ]
  },
  {
   "cell_type": "code",
   "execution_count": null,
   "metadata": {
    "collapsed": true
   },
   "outputs": [],
   "source": []
  }
 ],
 "metadata": {
  "kernelspec": {
   "display_name": "Python 3",
   "language": "python",
   "name": "python3"
  },
  "language_info": {
   "codemirror_mode": {
    "name": "ipython",
    "version": 3
   },
   "file_extension": ".py",
   "mimetype": "text/x-python",
   "name": "python",
   "nbconvert_exporter": "python",
   "pygments_lexer": "ipython3",
   "version": "3.5.2"
  }
 },
 "nbformat": 4,
 "nbformat_minor": 1
}
