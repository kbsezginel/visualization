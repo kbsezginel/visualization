{
 "cells": [
  {
   "cell_type": "markdown",
   "metadata": {},
   "source": [
    "## Select MOFs and create dataset"
   ]
  },
  {
   "cell_type": "code",
   "execution_count": 2,
   "metadata": {
    "collapsed": true
   },
   "outputs": [],
   "source": [
    "import xlrd\n",
    "from random import randint"
   ]
  },
  {
   "cell_type": "code",
   "execution_count": 3,
   "metadata": {
    "collapsed": true
   },
   "outputs": [],
   "source": [
    "xl_data = xlrd.open_workbook('mofs-loading.xlsx')"
   ]
  },
  {
   "cell_type": "code",
   "execution_count": 4,
   "metadata": {
    "collapsed": true
   },
   "outputs": [],
   "source": [
    "mof_names = xl_data.sheets()[0].col_values(0)[1:]\n",
    "pza = xl_data.sheets()[0].col_values(1)[1:]\n",
    "pza_err = xl_data.sheets()[0].col_values(2)[1:]\n",
    "metal = xl_data.sheets()[0].col_values(7)[1:]\n",
    "vp = xl_data.sheets()[0].col_values(8)[1:]\n",
    "vf = xl_data.sheets()[0].col_values(9)[1:]\n",
    "density = xl_data.sheets()[0].col_values(10)[1:]\n",
    "gsa = xl_data.sheets()[0].col_values(11)[1:]\n",
    "lcd = xl_data.sheets()[0].col_values(13)[1:]"
   ]
  },
  {
   "cell_type": "code",
   "execution_count": 5,
   "metadata": {
    "collapsed": true
   },
   "outputs": [],
   "source": [
    "n_mofs = 50"
   ]
  },
  {
   "cell_type": "code",
   "execution_count": 6,
   "metadata": {},
   "outputs": [
    {
     "data": {
      "text/plain": [
       "500"
      ]
     },
     "execution_count": 6,
     "metadata": {},
     "output_type": "execute_result"
    }
   ],
   "source": [
    "len(mof_names)"
   ]
  },
  {
   "cell_type": "code",
   "execution_count": 18,
   "metadata": {
    "collapsed": true
   },
   "outputs": [],
   "source": [
    "selected_mofs = []\n",
    "dataset = []\n",
    "while len(selected_mofs) < n_mofs:\n",
    "    idx = randint(0, 500)\n",
    "    mof = mof_names[idx]\n",
    "    if mof not in selected_mofs:\n",
    "        selected_mofs.append(mof)\n",
    "        dataset.append([mof, metal[idx], pza[idx], pza_err[idx], vp[idx], vf[idx], density[idx], gsa[idx], lcd[idx]])"
   ]
  },
  {
   "cell_type": "code",
   "execution_count": 19,
   "metadata": {},
   "outputs": [
    {
     "data": {
      "text/plain": [
       "(array([ 10.,  15.,   9.,   4.,   2.,   1.,   4.,   3.,   1.,   1.]),\n",
       " array([ 0.26437959,  0.32553885,  0.3866981 ,  0.44785735,  0.50901661,\n",
       "         0.57017586,  0.63133511,  0.69249437,  0.75365362,  0.81481287,\n",
       "         0.87597213]),\n",
       " <a list of 10 Patch objects>)"
      ]
     },
     "execution_count": 19,
     "metadata": {},
     "output_type": "execute_result"
    },
    {
     "data": {
      "image/png": "[encoded data removed]",
      "text/plain": [
       "<matplotlib.figure.Figure at 0x7fa21d5e15c0>"
      ]
     },
     "metadata": {},
     "output_type": "display_data"
    }
   ],
   "source": [
    "plt.hist([i[2] for i in dataset])"
   ]
  },
  {
   "cell_type": "code",
   "execution_count": 9,
   "metadata": {},
   "outputs": [
    {
     "name": "stdout",
     "output_type": "stream",
     "text": [
      "Populating the interactive namespace from numpy and matplotlib\n"
     ]
    },
    {
     "name": "stderr",
     "output_type": "stream",
     "text": [
      "/home/kutay/anaconda3/lib/python3.5/site-packages/IPython/core/magics/pylab.py:161: UserWarning: pylab import has clobbered these variables: ['randint']\n",
      "`%matplotlib` prevents importing * from pylab and numpy\n",
      "  \"\\n`%matplotlib` prevents importing * from pylab and numpy\"\n"
     ]
    }
   ],
   "source": [
    "%pylab inline"
   ]
  },
  {
   "cell_type": "code",
   "execution_count": 20,
   "metadata": {
    "collapsed": true
   },
   "outputs": [],
   "source": [
    "import csv\n",
    "with open('niz-uptake.csv', 'w') as csvfile:\n",
    "    spamwriter = csv.writer(csvfile, delimiter=',')\n",
    "    spamwriter.writerow(['MOF', 'Metal', 'Uptake', 'Error', 'Pore Volume', 'Void Fraction', 'Density', 'Surface Area', 'Pore Diameter'])\n",
    "    for row in dataset:\n",
    "        spamwriter.writerow(row)"
   ]
  },
  {
   "cell_type": "code",
   "execution_count": 21,
   "metadata": {},
   "outputs": [
    {
     "name": "stdout",
     "output_type": "stream",
     "text": [
      "['GITVEL', 'Zn', 0.377690167493203, 0.0204611603231584, 0.937704, 0.657772, 0.777112, 2173.05, 15.27666]\n",
      "['EPOTAF', 'Cu', 0.50473744798207, 0.0587746433355421, 1.33629, 0.815159, 0.575241, 5193.82, 7.63453]\n",
      "['PALTON', 'Cu', 0.334522696323141, 0.0188854096918204, 0.943608, 0.668939, 0.723595, 2222.85, 12.85281]\n",
      "['RAHNOF', 'Cu', 0.506234443229245, 0.0150902811284499, 1.31352, 0.836055, 0.594852, 3488.29, 19.03849]\n",
      "['PURQOJ', 'Cu', 0.360272103378875, 0.0248708647891448, 0.822958, 0.654765, 0.847078, 2364.76, 11.31224]\n"
     ]
    }
   ],
   "source": [
    "smofs = []\n",
    "while len(smofs) < 5:\n",
    "    idx = randint(0, 500)\n",
    "    mof = mof_names[idx]\n",
    "    if mof not in smofs:\n",
    "        smofs.append(mof)\n",
    "        print([mof, metal[idx], pza[idx], pza_err[idx], vp[idx], vf[idx], density[idx], gsa[idx], lcd[idx]])"
   ]
  },
  {
   "cell_type": "markdown",
   "metadata": {},
   "source": [
    "## Save MOF images"
   ]
  },
  {
   "cell_type": "code",
   "execution_count": 27,
   "metadata": {
    "collapsed": true
   },
   "outputs": [],
   "source": [
    "import os\n",
    "import glob\n",
    "import yaml\n",
    "import subprocess\n",
    "\n",
    "img_dir = '/home/kutay/Documents/git/visualization/sciviscomm/assignment/mofs'\n",
    "mof_dir = '/home/kutay/Documents/Research/MOFs/CORE_ALL'"
   ]
  },
  {
   "cell_type": "code",
   "execution_count": 28,
   "metadata": {},
   "outputs": [
    {
     "name": "stdout",
     "output_type": "stream",
     "text": [
      "/home/kutay/Documents/Research/MOFs/CORE_ALL/BEPNOB_clean.cif\n",
      "/home/kutay/Documents/Research/MOFs/CORE_ALL/SEVLEM_clean.cif\n",
      "/home/kutay/Documents/Research/MOFs/CORE_ALL/LURRIA_clean.cif\n",
      "/home/kutay/Documents/Research/MOFs/CORE_ALL/VEMMEG_clean.cif\n",
      "/home/kutay/Documents/Research/MOFs/CORE_ALL/FUNBEW_clean.cif\n",
      "/home/kutay/Documents/Research/MOFs/CORE_ALL/LOWQIX_clean.cif\n",
      "/home/kutay/Documents/Research/MOFs/CORE_ALL/BAZGAM_clean.cif\n",
      "/home/kutay/Documents/Research/MOFs/CORE_ALL/OSAVUA_clean.cif\n",
      "/home/kutay/Documents/Research/MOFs/CORE_ALL/GUPCAW_clean.cif\n",
      "/home/kutay/Documents/Research/MOFs/CORE_ALL/RAVXAP_clean.cif\n",
      "/home/kutay/Documents/Research/MOFs/CORE_ALL/CAXTUS_clean.cif\n",
      "/home/kutay/Documents/Research/MOFs/CORE_ALL/SONVEX_neutral_b.cif\n",
      "/home/kutay/Documents/Research/MOFs/CORE_ALL/WEHJOK_clean.cif\n",
      "/home/kutay/Documents/Research/MOFs/CORE_ALL/MOXPUL_clean.cif\n",
      "/home/kutay/Documents/Research/MOFs/CORE_ALL/REGRAY_clean.cif\n",
      "/home/kutay/Documents/Research/MOFs/CORE_ALL/QAQRUW01_clean.cif\n",
      "/home/kutay/Documents/Research/MOFs/CORE_ALL/MIDCAF_clean.cif\n",
      "/home/kutay/Documents/Research/MOFs/CORE_ALL/HEXVEM_clean.cif\n",
      "/home/kutay/Documents/Research/MOFs/CORE_ALL/EQERAU_clean.cif\n",
      "/home/kutay/Documents/Research/MOFs/CORE_ALL/VEBHUG_clean.cif\n",
      "/home/kutay/Documents/Research/MOFs/CORE_ALL/EHIJAH_clean.cif\n",
      "/home/kutay/Documents/Research/MOFs/CORE_ALL/AGAXOV_clean.cif\n",
      "/home/kutay/Documents/Research/MOFs/CORE_ALL/UXUPIN_clean.cif\n",
      "/home/kutay/Documents/Research/MOFs/CORE_ALL/IYUQEZ_clean.cif\n",
      "/home/kutay/Documents/Research/MOFs/CORE_ALL/FAYPIG_clean.cif\n",
      "/home/kutay/Documents/Research/MOFs/CORE_ALL/LEVDIB_clean.cif\n",
      "/home/kutay/Documents/Research/MOFs/CORE_ALL/LUYHAP_clean.cif\n",
      "/home/kutay/Documents/Research/MOFs/CORE_ALL/VETSOE_charged.cif\n",
      "/home/kutay/Documents/Research/MOFs/CORE_ALL/UYOXUC_charged.cif\n",
      "/home/kutay/Documents/Research/MOFs/CORE_ALL/UTEWUM_clean.cif\n",
      "/home/kutay/Documents/Research/MOFs/CORE_ALL/XALXUF_clean.cif\n",
      "/home/kutay/Documents/Research/MOFs/CORE_ALL/TEDHAN_clean.cif\n",
      "/home/kutay/Documents/Research/MOFs/CORE_ALL/ADASAB_charged.cif\n",
      "/home/kutay/Documents/Research/MOFs/CORE_ALL/IMIXEI_clean.cif\n",
      "/home/kutay/Documents/Research/MOFs/CORE_ALL/BEPNIV_clean.cif\n",
      "/home/kutay/Documents/Research/MOFs/CORE_ALL/VEMMIK_clean.cif\n",
      "/home/kutay/Documents/Research/MOFs/CORE_ALL/QAGQEW_clean.cif\n",
      "/home/kutay/Documents/Research/MOFs/CORE_ALL/LEHXUT_clean.cif\n",
      "/home/kutay/Documents/Research/MOFs/CORE_ALL/HABQUY_clean.cif\n",
      "/home/kutay/Documents/Research/MOFs/CORE_ALL/KOJZEP_manual.cif\n",
      "/home/kutay/Documents/Research/MOFs/CORE_ALL/TADWEC_manual.cif\n",
      "/home/kutay/Documents/Research/MOFs/CORE_ALL/ADATAC_clean.cif\n",
      "/home/kutay/Documents/Research/MOFs/CORE_ALL/ECAHAT_clean.cif\n",
      "/home/kutay/Documents/Research/MOFs/CORE_ALL/DAKVUI_clean.cif\n",
      "/home/kutay/Documents/Research/MOFs/CORE_ALL/ALAMUW_clean.cif\n",
      "/home/kutay/Documents/Research/MOFs/CORE_ALL/CAGSAG_clean.cif\n",
      "/home/kutay/Documents/Research/MOFs/CORE_ALL/PARNIH_clean.cif\n",
      "/home/kutay/Documents/Research/MOFs/CORE_ALL/SUPLOF_clean.cif\n",
      "/home/kutay/Documents/Research/MOFs/CORE_ALL/SUNLET_clean.cif\n",
      "/home/kutay/Documents/Research/MOFs/CORE_ALL/BOXFAW_charged.cif\n"
     ]
    }
   ],
   "source": [
    "mof_list = [i[0] for i in dataset]\n",
    "for mof in mof_list:\n",
    "    mof_file = glob.glob(os.path.join(mof_dir, '%s*.cif' % mof))[0]\n",
    "    print(mof_file)\n",
    "    img_file = os.path.join(img_dir, '%s.svg' % mof)\n",
    "    subprocess.call(['obabel', mof_file, '-O', img_file, '-xS', '-xd', '-xb', 'none'])"
   ]
  },
  {
   "cell_type": "code",
   "execution_count": null,
   "metadata": {
    "collapsed": true
   },
   "outputs": [],
   "source": []
  }
 ],
 "metadata": {
  "kernelspec": {
   "display_name": "Python 3",
   "language": "python",
   "name": "python3"
  },
  "language_info": {
   "codemirror_mode": {
    "name": "ipython",
    "version": 3
   },
   "file_extension": ".py",
   "mimetype": "text/x-python",
   "name": "python",
   "nbconvert_exporter": "python",
   "pygments_lexer": "ipython3",
   "version": "3.5.2"
  }
 },
 "nbformat": 4,
 "nbformat_minor": 1
}
