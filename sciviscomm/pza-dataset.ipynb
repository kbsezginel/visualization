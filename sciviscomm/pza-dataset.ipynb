{
 "cells": [
  {
   "cell_type": "markdown",
   "metadata": {},
   "source": [
    "## Select MOFs and create dataset"
   ]
  },
  {
   "cell_type": "code",
   "execution_count": 12,
   "metadata": {},
   "outputs": [],
   "source": [
    "import xlrd\n",
    "from random import randint"
   ]
  },
  {
   "cell_type": "code",
   "execution_count": 13,
   "metadata": {
    "collapsed": true
   },
   "outputs": [],
   "source": [
    "xl_data = xlrd.open_workbook('mofs-loading.xlsx')"
   ]
  },
  {
   "cell_type": "code",
   "execution_count": 14,
   "metadata": {},
   "outputs": [],
   "source": [
    "mof_names = xl_data.sheets()[0].col_values(0)[1:]\n",
    "pza = xl_data.sheets()[0].col_values(3)[1:]\n",
    "pza_err = xl_data.sheets()[0].col_values(4)[1:]\n",
    "metal = xl_data.sheets()[0].col_values(7)[1:]\n",
    "vp = xl_data.sheets()[0].col_values(8)[1:]\n",
    "vf = xl_data.sheets()[0].col_values(9)[1:]\n",
    "density = xl_data.sheets()[0].col_values(10)[1:]\n",
    "gsa = xl_data.sheets()[0].col_values(11)[1:]\n",
    "lcd = xl_data.sheets()[0].col_values(13)[1:]"
   ]
  },
  {
   "cell_type": "code",
   "execution_count": 10,
   "metadata": {},
   "outputs": [],
   "source": [
    "n_mofs = 50"
   ]
  },
  {
   "cell_type": "code",
   "execution_count": 18,
   "metadata": {},
   "outputs": [
    {
     "data": {
      "text/plain": [
       "500"
      ]
     },
     "execution_count": 18,
     "metadata": {},
     "output_type": "execute_result"
    }
   ],
   "source": [
    "len(mof_names)"
   ]
  },
  {
   "cell_type": "code",
   "execution_count": 33,
   "metadata": {
    "collapsed": true
   },
   "outputs": [],
   "source": [
    "selected_mofs = []\n",
    "dataset = []\n",
    "while len(selected_mofs) < n_mofs:\n",
    "    idx = randint(0, 500)\n",
    "    mof = mof_names[idx]\n",
    "    if mof not in selected_mofs:\n",
    "        selected_mofs.append(mof)\n",
    "        dataset.append([mof, metal[idx], pza[idx], pza_err[idx], vp[idx], vf[idx], density[idx], gsa[idx], lcd[idx]])"
   ]
  },
  {
   "cell_type": "code",
   "execution_count": 34,
   "metadata": {},
   "outputs": [
    {
     "data": {
      "text/plain": [
       "(array([  6.,  13.,   7.,   4.,   6.,   3.,   4.,   3.,   1.,   3.]),\n",
       " array([ 0.28338192,  0.32696233,  0.37054274,  0.41412315,  0.45770357,\n",
       "         0.50128398,  0.54486439,  0.5884448 ,  0.63202521,  0.67560562,\n",
       "         0.71918604]),\n",
       " <a list of 10 Patch objects>)"
      ]
     },
     "execution_count": 34,
     "metadata": {},
     "output_type": "execute_result"
    },
    {
     "data": {
      "image/png": "[encoded data removed]",
      "text/plain": [
       "<matplotlib.figure.Figure at 0x7fb6511e2048>"
      ]
     },
     "metadata": {},
     "output_type": "display_data"
    }
   ],
   "source": [
    "plt.hist([i[2] for i in dataset])"
   ]
  },
  {
   "cell_type": "code",
   "execution_count": 20,
   "metadata": {},
   "outputs": [
    {
     "name": "stdout",
     "output_type": "stream",
     "text": [
      "Populating the interactive namespace from numpy and matplotlib\n"
     ]
    },
    {
     "name": "stderr",
     "output_type": "stream",
     "text": [
      "/home/kutay/anaconda3/lib/python3.5/site-packages/IPython/core/magics/pylab.py:161: UserWarning: pylab import has clobbered these variables: ['randint']\n",
      "`%matplotlib` prevents importing * from pylab and numpy\n",
      "  \"\\n`%matplotlib` prevents importing * from pylab and numpy\"\n"
     ]
    }
   ],
   "source": [
    "%pylab inline"
   ]
  },
  {
   "cell_type": "code",
   "execution_count": 35,
   "metadata": {
    "collapsed": true
   },
   "outputs": [],
   "source": [
    "import csv\n",
    "with open('pza-uptake.csv', 'w') as csvfile:\n",
    "    spamwriter = csv.writer(csvfile, delimiter=',')\n",
    "    spamwriter.writerow(['MOF', 'Metal', 'Uptake', 'Error', 'Pore Volume', 'Void Fraction', 'Density', 'Surface Area', 'Pore Diameter'])\n",
    "    for row in dataset:\n",
    "        spamwriter.writerow(row)"
   ]
  },
  {
   "cell_type": "code",
   "execution_count": 36,
   "metadata": {},
   "outputs": [
    {
     "name": "stdout",
     "output_type": "stream",
     "text": [
      "['GACQAE', 'Zn', 0.359820264021451, 0.0320154066816967, 0.780736, 0.694593, 0.874357, 2101.26, 8.56972]\n",
      "['TEMPEI', 'Cu', 0.502278581448233, 0.0204278538297676, 1.26272, 0.725005, 0.592467, 2906.75, 15.71457]\n",
      "['LUYHAP', 'Cu', 0.513209657176747, 0.0194623755947856, 1.26158, 0.829954, 0.618537, 3546.24, 12.05622]\n",
      "['NESVAK', 'Cd', 0.344918814654973, 0.0158723777403561, 0.703013, 0.710613, 0.996288, 1990.77, 11.02589]\n",
      "['KEFBOO', 'Zn', 0.460206348999742, 0.0142244169454513, 1.0408, 0.804982, 0.72084, 3028.61, 11.98728]\n"
     ]
    }
   ],
   "source": [
    "smofs = []\n",
    "while len(smofs) < 5:\n",
    "    idx = randint(0, 500)\n",
    "    mof = mof_names[idx]\n",
    "    if mof not in smofs:\n",
    "        smofs.append(mof)\n",
    "        print([mof, metal[idx], pza[idx], pza_err[idx], vp[idx], vf[idx], density[idx], gsa[idx], lcd[idx]])"
   ]
  },
  {
   "cell_type": "code",
   "execution_count": null,
   "metadata": {
    "collapsed": true
   },
   "outputs": [],
   "source": []
  }
 ],
 "metadata": {
  "kernelspec": {
   "display_name": "Python 3",
   "language": "python",
   "name": "python3"
  },
  "language_info": {
   "codemirror_mode": {
    "name": "ipython",
    "version": 3
   },
   "file_extension": ".py",
   "mimetype": "text/x-python",
   "name": "python",
   "nbconvert_exporter": "python",
   "pygments_lexer": "ipython3",
   "version": "3.5.2"
  }
 },
 "nbformat": 4,
 "nbformat_minor": 1
}
