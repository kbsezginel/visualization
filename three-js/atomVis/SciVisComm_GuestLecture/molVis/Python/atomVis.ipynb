{
 "cells": [
  {
   "cell_type": "code",
   "execution_count": 4,
   "metadata": {
    "collapsed": false
   },
   "outputs": [],
   "source": [
    "def createMoleculeJS(xyzDir, jsDir, moleculeName):\n",
    "    '''\n",
    "    Converts molecule file in .xyz format to .js array format\n",
    "    ex: MyMolecule[0] = [x, y, z, atomName]\n",
    "    '''\n",
    "    import os\n",
    "    \n",
    "    xyzDir = os.path.join(xyzDir, moleculeName + '.xyz')\n",
    "    xyzFile = open(xyzDir, 'r')\n",
    "    xyzFile.readline()\n",
    "    xyzFile.readline()\n",
    "\n",
    "    jsFileDir = os.path.join(jsDir, moleculeName + '.js')\n",
    "    jsFile = open(jsFileDir, 'w')\n",
    "    jsFile.write('var ' + moleculeName + ' = [];\\n')\n",
    "\n",
    "    for atomIndex, line in enumerate(xyzFile):\n",
    "        atomName = line.split()[0]\n",
    "        xCoor = line.split()[1]\n",
    "        yCoor = line.split()[2]\n",
    "        zCoor = line.split()[3]\n",
    "        jsLine = moleculeName + '[' + str(atomIndex) + '] = ['\n",
    "        jsLine += xCoor + ', ' + yCoor + ', ' + zCoor + ', ' + \"'\" + atomName + \"'\" + '];\\n'\n",
    "        jsFile.write(jsLine)\n",
    "\n",
    "    jsFile.close()\n",
    "    xyzFile.close()\n",
    "    print(moleculeName + '.js has been exported to ' + jsDir)\n",
    "    \n",
    "def addMoleculeJS(moleculeName, HTMLdir):\n",
    "    '''\n",
    "    Adds Molecule.js file to HTML file as script source. \n",
    "    Checks if line already exists to avoid multiple lines.\n",
    "    '''\n",
    "    file = open(HTMLdir, 'r')\n",
    "    HTMLdata = file.readlines()\n",
    "\n",
    "    moleculeFound = False\n",
    "    for lineIndex, line in enumerate(HTMLdata):\n",
    "        if '<script src=\"Molecules/' + moleculeName + '.js\"></script>' in line:\n",
    "            moleculeFound = True \n",
    "            break\n",
    "        if '<script src=\"Source/atomVisData.js\"></script>' in line:\n",
    "            startIndex = lineIndex    \n",
    "    file.close()\n",
    "\n",
    "    if not moleculeFound:\n",
    "        HTMLdata.insert(startIndex+1, '  <script src=\"Molecules/' + moleculeName + '.js\"></script>\\n')\n",
    "        newFile = open(HTMLdir, 'w')\n",
    "        for line in HTMLdata:\n",
    "            newFile.write(line)\n",
    "        newFile.close()\n",
    "        print(moleculeName + '.js has been added as a script source to ' + HTMLdir.split('\\\\')[-1])"
   ]
  },
  {
   "cell_type": "code",
   "execution_count": 3,
   "metadata": {
    "collapsed": false
   },
   "outputs": [
    {
     "name": "stdout",
     "output_type": "stream",
     "text": [
      "TNT.js has been exported to ..\\Molecules\n",
      "TNT.js has been added as a script source to molVis.html\n"
     ]
    }
   ],
   "source": [
    "xyzDir = r'..\\Molecules'\n",
    "jsDir = r'..\\Molecules'\n",
    "HTMLdir = r'..\\molVis.html'\n",
    "createMoleculeJS(xyzDir, jsDir, 'TNT')\n",
    "addMoleculeJS('TNT', HTMLdir)"
   ]
  },
  {
   "cell_type": "code",
   "execution_count": null,
   "metadata": {
    "collapsed": true
   },
   "outputs": [],
   "source": []
  }
 ],
 "metadata": {
  "kernelspec": {
   "display_name": "Python 3",
   "language": "python",
   "name": "python3"
  },
  "language_info": {
   "codemirror_mode": {
    "name": "ipython",
    "version": 3
   },
   "file_extension": ".py",
   "mimetype": "text/x-python",
   "name": "python",
   "nbconvert_exporter": "python",
   "pygments_lexer": "ipython3",
   "version": "3.5.1"
  }
 },
 "nbformat": 4,
 "nbformat_minor": 0
}
